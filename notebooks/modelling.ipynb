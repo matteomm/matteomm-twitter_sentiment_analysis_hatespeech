{
 "cells": [
  {
   "cell_type": "code",
   "execution_count": 68,
   "metadata": {},
   "outputs": [],
   "source": [
    "import keras\n",
    "import pandas as pd\n",
    "import matplotlib.pyplot as plt \n",
    "from datetime import datetime  \n",
    "import numpy as np\n",
    "import re\n",
    "import seaborn as sns\n",
    "\n",
    "import pickle\n",
    "\n",
    "from sklearn.model_selection import train_test_split\n",
    "from sklearn.model_selection import GridSearchCV, StratifiedKFold\n",
    "\n",
    "# all models \n",
    "from sklearn.naive_bayes import GaussianNB\n",
    "from sklearn.tree import DecisionTreeClassifier\n",
    "from sklearn.ensemble import RandomForestClassifier\n",
    "from sklearn.linear_model import LogisticRegression\n",
    "from sklearn.naive_bayes import GaussianNB\n",
    "\n",
    "# evaluating performance\n",
    "from sklearn.metrics import accuracy_score,roc_auc_score, f1_score, recall_score\n",
    "from sklearn.metrics import  roc_curve, confusion_matrix, precision_score\n",
    "\n",
    "\n",
    "from sklearn.feature_extraction.text import TfidfVectorizer\n",
    "from nltk.tokenize import TweetTokenizer\n",
    "\n",
    "# functions for the convolutional neural network\n",
    "from keras.preprocessing.sequence import pad_sequences\n",
    "from keras.preprocessing.text import Tokenizer\n",
    "from keras import layers\n",
    "from keras.layers import Conv1D, Flatten\n",
    "from keras import optimizers\n",
    "from keras import models\n",
    "from keras import losses\n",
    "from keras import metrics\n",
    "from keras.models import Sequential\n",
    "from keras.layers import Dense\n",
    "\n",
    "from keras.preprocessing.text import Tokenizer\n",
    "from keras.preprocessing.sequence import pad_sequences\n",
    "\n",
    "from joblib import dump, load\n",
    "import warnings\n",
    "warnings.filterwarnings('ignore') \n",
    "%matplotlib inline\n",
    "\n",
    "# importing custom functions\n",
    "from functions.custom_function_5 import tokenize_tweet\n",
    "from functions.custom_function_5 import get_tokens_frequency_df\n",
    "from functions.custom_function_5 import plot_roc_curve_1\n",
    "from functions.custom_function_5 import calculate_performance_1\n",
    "from functions.custom_function_5 import max_seq_length\n"
   ]
  },
  {
   "cell_type": "code",
   "execution_count": 2,
   "metadata": {},
   "outputs": [],
   "source": [
    "df = pd.read_csv('../data/processed/data_for_modelling.csv')"
   ]
  },
  {
   "cell_type": "markdown",
   "metadata": {},
   "source": [
    "The modelling notebook will be divided into the following sections:\n",
    "    \n",
    "1) Vectorization\n",
    "\n",
    "2) Splitting of the initial dataset into Training/Validation/Set\n",
    "\n",
    "3) Modelling with several iterations of a variety of models\n",
    "\n",
    "4) Evaluation of winning model on the test set"
   ]
  },
  {
   "cell_type": "markdown",
   "metadata": {},
   "source": [
    "# TF-IDF Vectorization"
   ]
  },
  {
   "cell_type": "markdown",
   "metadata": {},
   "source": [
    "In order for models to understand raw text, one step that's necessary right before feeding the information to the algorithm is to vectorise all the text in our corpus. There are different ways to do this, the main two ones being the bag-of-words technique and the **tf-idf** method. The latter takes into account the 'rarity' of our words within the vocabulary and not only the frequency of occurence. In this specific context, tf-idf is a much better fit."
   ]
  },
  {
   "cell_type": "markdown",
   "metadata": {},
   "source": [
    "In the cell below, the max and minimum frequency of the document is set at respectively 0.9 and 2, taking into account only the most relevant 9000 words of our corpus. As explored in the EDA, we are taking into account n-grams up to three."
   ]
  },
  {
   "cell_type": "code",
   "execution_count": 3,
   "metadata": {},
   "outputs": [],
   "source": [
    "# instantiate the tf-idf object\n",
    "tfidf_vectors = TfidfVectorizer(max_df=0.90, min_df=2, max_features=9000, \n",
    "                                stop_words='english',\n",
    "                                ngram_range=(1, 3))\n",
    "\n"
   ]
  },
  {
   "cell_type": "markdown",
   "metadata": {},
   "source": [
    "In this step, the matrix is not transformed yet since we need this object to make predictions on unseen text further down the pipeline of the project.\n",
    "By pickling only the fit object we can iteratively transform each time new text on the base fit matrix. Unseen words will just be dropped whenever they are not in the original fit matrix below. "
   ]
  },
  {
   "cell_type": "code",
   "execution_count": 4,
   "metadata": {},
   "outputs": [],
   "source": [
    "tfidf_only_fit = tfidf_vectors.fit(df['tweet_without_stopwords_and_2'])"
   ]
  },
  {
   "cell_type": "code",
   "execution_count": 5,
   "metadata": {},
   "outputs": [],
   "source": [
    "# pickling only the fit\n",
    "pickle_out_only_fit = open('tfidf_pickle_fit', 'wb')\n",
    "pickle.dump(tfidf_only_fit, pickle_out_only_fit)"
   ]
  },
  {
   "cell_type": "code",
   "execution_count": 6,
   "metadata": {},
   "outputs": [],
   "source": [
    "# fitting and tranforming the matrix for the modelling here\n",
    "tfidf = tfidf_vectors.fit_transform(df['tweet_without_stopwords_and_2'])"
   ]
  },
  {
   "cell_type": "code",
   "execution_count": 7,
   "metadata": {},
   "outputs": [],
   "source": [
    "df_vector = pd.DataFrame(tfidf.todense(),columns = tfidf_vectors.get_feature_names())"
   ]
  },
  {
   "cell_type": "markdown",
   "metadata": {},
   "source": [
    "# Splitting into Training/Validation/Test"
   ]
  },
  {
   "cell_type": "markdown",
   "metadata": {},
   "source": [
    "This section just splits the initial dataset into three different subgroups, namely training, validation and test.\n",
    "A stratified 10-fold obejct on teh training dataset will also later be created for further investigation and optimisation."
   ]
  },
  {
   "cell_type": "code",
   "execution_count": 8,
   "metadata": {},
   "outputs": [],
   "source": [
    "target = df['neg_label']\n"
   ]
  },
  {
   "cell_type": "code",
   "execution_count": 9,
   "metadata": {},
   "outputs": [],
   "source": [
    "x_train, x_test, y_train , y_test = train_test_split(df_vector, target, \n",
    "                                                     test_size =.2, random_state=101 )"
   ]
  },
  {
   "cell_type": "code",
   "execution_count": 10,
   "metadata": {},
   "outputs": [
    {
     "name": "stdout",
     "output_type": "stream",
     "text": [
      "The shape of my training set is (33593, 9000)\n",
      "The shape of my training target is (33593,)\n",
      "The shape of my test set is (8399, 9000)\n",
      "The shape of my test target is (8399,)\n"
     ]
    }
   ],
   "source": [
    "print(f'The shape of my training set is {x_train.shape}')\n",
    "print(f'The shape of my training target is {y_train.shape}')\n",
    "print(f'The shape of my test set is {x_test.shape}')\n",
    "print(f'The shape of my test target is {y_test.shape}')"
   ]
  },
  {
   "cell_type": "code",
   "execution_count": 11,
   "metadata": {},
   "outputs": [],
   "source": [
    "X_train, x_val, Y_train , y_val = train_test_split(x_train,y_train, \n",
    "                                                     test_size =.2, random_state=101 )"
   ]
  },
  {
   "cell_type": "code",
   "execution_count": 12,
   "metadata": {
    "scrolled": true
   },
   "outputs": [
    {
     "name": "stdout",
     "output_type": "stream",
     "text": [
      "The shape of my final training set is (26874, 9000)\n",
      "The shape of my final training target is (26874,)\n",
      "The shape of my validation set is (6719, 9000)\n",
      "The shape of my validation target is (6719,)\n"
     ]
    }
   ],
   "source": [
    "print(f'The shape of my final training set is {X_train.shape}')\n",
    "print(f'The shape of my final training target is {Y_train.shape}')\n",
    "print(f'The shape of my validation set is {x_val.shape}')\n",
    "print(f'The shape of my validation target is {y_val.shape}')"
   ]
  },
  {
   "cell_type": "markdown",
   "metadata": {},
   "source": [
    "# Logistic Regression Baseline"
   ]
  },
  {
   "cell_type": "code",
   "execution_count": 13,
   "metadata": {},
   "outputs": [],
   "source": [
    "logmod = LogisticRegression(random_state=1002)"
   ]
  },
  {
   "cell_type": "code",
   "execution_count": 14,
   "metadata": {
    "scrolled": false
   },
   "outputs": [
    {
     "data": {
      "text/plain": [
       "LogisticRegression(C=1.0, class_weight=None, dual=False, fit_intercept=True,\n",
       "                   intercept_scaling=1, l1_ratio=None, max_iter=100,\n",
       "                   multi_class='warn', n_jobs=None, penalty='l2',\n",
       "                   random_state=1002, solver='warn', tol=0.0001, verbose=0,\n",
       "                   warm_start=False)"
      ]
     },
     "execution_count": 14,
     "metadata": {},
     "output_type": "execute_result"
    }
   ],
   "source": [
    "logmod.fit(X_train, Y_train)"
   ]
  },
  {
   "cell_type": "code",
   "execution_count": 15,
   "metadata": {},
   "outputs": [
    {
     "data": {
      "text/html": [
       "<div>\n",
       "<style scoped>\n",
       "    .dataframe tbody tr th:only-of-type {\n",
       "        vertical-align: middle;\n",
       "    }\n",
       "\n",
       "    .dataframe tbody tr th {\n",
       "        vertical-align: top;\n",
       "    }\n",
       "\n",
       "    .dataframe thead th {\n",
       "        text-align: right;\n",
       "    }\n",
       "</style>\n",
       "<table border=\"1\" class=\"dataframe\">\n",
       "  <thead>\n",
       "    <tr style=\"text-align: right;\">\n",
       "      <th></th>\n",
       "      <th>model</th>\n",
       "      <th>f1</th>\n",
       "      <th>accuracy</th>\n",
       "      <th>roc_score</th>\n",
       "      <th>precision</th>\n",
       "    </tr>\n",
       "  </thead>\n",
       "  <tbody>\n",
       "    <tr>\n",
       "      <td>0</td>\n",
       "      <td>Logistic Regression Training</td>\n",
       "      <td>0.983148</td>\n",
       "      <td>0.98359</td>\n",
       "      <td>0.997736</td>\n",
       "      <td>0.992057</td>\n",
       "    </tr>\n",
       "  </tbody>\n",
       "</table>\n",
       "</div>"
      ],
      "text/plain": [
       "                          model        f1  accuracy  roc_score  precision\n",
       "0  Logistic Regression Training  0.983148   0.98359   0.997736   0.992057"
      ]
     },
     "execution_count": 15,
     "metadata": {},
     "output_type": "execute_result"
    }
   ],
   "source": [
    "Logistic_Reg_Training = calculate_performance_1(logmod, X_train, Y_train, 'Logistic Regression Training')\n",
    "Logistic_Reg_Training"
   ]
  },
  {
   "cell_type": "code",
   "execution_count": 16,
   "metadata": {},
   "outputs": [
    {
     "data": {
      "text/html": [
       "<div>\n",
       "<style scoped>\n",
       "    .dataframe tbody tr th:only-of-type {\n",
       "        vertical-align: middle;\n",
       "    }\n",
       "\n",
       "    .dataframe tbody tr th {\n",
       "        vertical-align: top;\n",
       "    }\n",
       "\n",
       "    .dataframe thead th {\n",
       "        text-align: right;\n",
       "    }\n",
       "</style>\n",
       "<table border=\"1\" class=\"dataframe\">\n",
       "  <thead>\n",
       "    <tr style=\"text-align: right;\">\n",
       "      <th></th>\n",
       "      <th>model</th>\n",
       "      <th>f1</th>\n",
       "      <th>accuracy</th>\n",
       "      <th>roc_score</th>\n",
       "      <th>precision</th>\n",
       "    </tr>\n",
       "  </thead>\n",
       "  <tbody>\n",
       "    <tr>\n",
       "      <td>0</td>\n",
       "      <td>Logistic Regression Validation</td>\n",
       "      <td>0.973551</td>\n",
       "      <td>0.974252</td>\n",
       "      <td>0.995979</td>\n",
       "      <td>0.986981</td>\n",
       "    </tr>\n",
       "  </tbody>\n",
       "</table>\n",
       "</div>"
      ],
      "text/plain": [
       "                            model        f1  accuracy  roc_score  precision\n",
       "0  Logistic Regression Validation  0.973551  0.974252   0.995979   0.986981"
      ]
     },
     "execution_count": 16,
     "metadata": {},
     "output_type": "execute_result"
    }
   ],
   "source": [
    "Logistic_Reg_Validation = calculate_performance_1(logmod, x_val, y_val, 'Logistic Regression Validation')\n",
    "Logistic_Reg_Validation"
   ]
  },
  {
   "cell_type": "code",
   "execution_count": 17,
   "metadata": {},
   "outputs": [
    {
     "data": {
      "image/png": "[encoded data removed]",
      "text/plain": [
       "<Figure size 864x504 with 1 Axes>"
      ]
     },
     "metadata": {},
     "output_type": "display_data"
    }
   ],
   "source": [
    "plot_roc_curve_1(logmod, X_train, x_val, Y_train, y_val, \"Logistic\" )"
   ]
  },
  {
   "cell_type": "markdown",
   "metadata": {},
   "source": [
    "## Hyperparameter Optimisation of Logistic Regression with Gridsearch CV"
   ]
  },
  {
   "cell_type": "code",
   "execution_count": 18,
   "metadata": {},
   "outputs": [],
   "source": [
    "skf = StratifiedKFold(n_splits=10, shuffle= True, random_state=102)"
   ]
  },
  {
   "cell_type": "code",
   "execution_count": 19,
   "metadata": {},
   "outputs": [],
   "source": [
    "param_grid = {'C': [0.01,0.1,1,10,100]}"
   ]
  },
  {
   "cell_type": "code",
   "execution_count": 20,
   "metadata": {},
   "outputs": [],
   "source": [
    "opt_model = GridSearchCV(LogisticRegression(class_weight = 'balanced', \n",
    "                                            random_state = 15 \n",
    "                                            ),\n",
    "                         param_grid,\n",
    "                         cv=skf,\n",
    "                         return_train_score=True,\n",
    "                         scoring= 'accuracy')"
   ]
  },
  {
   "cell_type": "code",
   "execution_count": 21,
   "metadata": {},
   "outputs": [
    {
     "data": {
      "text/plain": [
       "GridSearchCV(cv=StratifiedKFold(n_splits=10, random_state=102, shuffle=True),\n",
       "             error_score='raise-deprecating',\n",
       "             estimator=LogisticRegression(C=1.0, class_weight='balanced',\n",
       "                                          dual=False, fit_intercept=True,\n",
       "                                          intercept_scaling=1, l1_ratio=None,\n",
       "                                          max_iter=100, multi_class='warn',\n",
       "                                          n_jobs=None, penalty='l2',\n",
       "                                          random_state=15, solver='warn',\n",
       "                                          tol=0.0001, verbose=0,\n",
       "                                          warm_start=False),\n",
       "             iid='warn', n_jobs=None, param_grid={'C': [0.01, 0.1, 1, 10, 100]},\n",
       "             pre_dispatch='2*n_jobs', refit=True, return_train_score=True,\n",
       "             scoring='accuracy', verbose=0)"
      ]
     },
     "execution_count": 21,
     "metadata": {},
     "output_type": "execute_result"
    }
   ],
   "source": [
    "opt_model.fit(X_train, Y_train)"
   ]
  },
  {
   "cell_type": "code",
   "execution_count": 22,
   "metadata": {},
   "outputs": [
    {
     "data": {
      "text/html": [
       "<div>\n",
       "<style scoped>\n",
       "    .dataframe tbody tr th:only-of-type {\n",
       "        vertical-align: middle;\n",
       "    }\n",
       "\n",
       "    .dataframe tbody tr th {\n",
       "        vertical-align: top;\n",
       "    }\n",
       "\n",
       "    .dataframe thead th {\n",
       "        text-align: right;\n",
       "    }\n",
       "</style>\n",
       "<table border=\"1\" class=\"dataframe\">\n",
       "  <thead>\n",
       "    <tr style=\"text-align: right;\">\n",
       "      <th></th>\n",
       "      <th>mean_fit_time</th>\n",
       "      <th>std_fit_time</th>\n",
       "      <th>mean_score_time</th>\n",
       "      <th>std_score_time</th>\n",
       "      <th>param_C</th>\n",
       "      <th>params</th>\n",
       "      <th>split0_test_score</th>\n",
       "      <th>split1_test_score</th>\n",
       "      <th>split2_test_score</th>\n",
       "      <th>split3_test_score</th>\n",
       "      <th>...</th>\n",
       "      <th>split2_train_score</th>\n",
       "      <th>split3_train_score</th>\n",
       "      <th>split4_train_score</th>\n",
       "      <th>split5_train_score</th>\n",
       "      <th>split6_train_score</th>\n",
       "      <th>split7_train_score</th>\n",
       "      <th>split8_train_score</th>\n",
       "      <th>split9_train_score</th>\n",
       "      <th>mean_train_score</th>\n",
       "      <th>std_train_score</th>\n",
       "    </tr>\n",
       "  </thead>\n",
       "  <tbody>\n",
       "    <tr>\n",
       "      <td>0</td>\n",
       "      <td>1.753014</td>\n",
       "      <td>0.394093</td>\n",
       "      <td>0.036523</td>\n",
       "      <td>0.005765</td>\n",
       "      <td>0.01</td>\n",
       "      <td>{'C': 0.01}</td>\n",
       "      <td>0.923392</td>\n",
       "      <td>0.938267</td>\n",
       "      <td>0.933011</td>\n",
       "      <td>0.927428</td>\n",
       "      <td>...</td>\n",
       "      <td>0.928061</td>\n",
       "      <td>0.929508</td>\n",
       "      <td>0.929384</td>\n",
       "      <td>0.928805</td>\n",
       "      <td>0.930293</td>\n",
       "      <td>0.929921</td>\n",
       "      <td>0.928309</td>\n",
       "      <td>0.928970</td>\n",
       "      <td>0.929110</td>\n",
       "      <td>0.000706</td>\n",
       "    </tr>\n",
       "    <tr>\n",
       "      <td>1</td>\n",
       "      <td>1.655816</td>\n",
       "      <td>0.054885</td>\n",
       "      <td>0.034835</td>\n",
       "      <td>0.004148</td>\n",
       "      <td>0.1</td>\n",
       "      <td>{'C': 0.1}</td>\n",
       "      <td>0.954258</td>\n",
       "      <td>0.963927</td>\n",
       "      <td>0.962039</td>\n",
       "      <td>0.953852</td>\n",
       "      <td>...</td>\n",
       "      <td>0.958904</td>\n",
       "      <td>0.960020</td>\n",
       "      <td>0.959648</td>\n",
       "      <td>0.958945</td>\n",
       "      <td>0.960144</td>\n",
       "      <td>0.959689</td>\n",
       "      <td>0.959069</td>\n",
       "      <td>0.959110</td>\n",
       "      <td>0.959457</td>\n",
       "      <td>0.000490</td>\n",
       "    </tr>\n",
       "    <tr>\n",
       "      <td>2</td>\n",
       "      <td>1.664945</td>\n",
       "      <td>0.057177</td>\n",
       "      <td>0.034284</td>\n",
       "      <td>0.003885</td>\n",
       "      <td>1</td>\n",
       "      <td>{'C': 1}</td>\n",
       "      <td>0.971737</td>\n",
       "      <td>0.980662</td>\n",
       "      <td>0.980648</td>\n",
       "      <td>0.975065</td>\n",
       "      <td>...</td>\n",
       "      <td>0.983380</td>\n",
       "      <td>0.983876</td>\n",
       "      <td>0.983504</td>\n",
       "      <td>0.983007</td>\n",
       "      <td>0.983586</td>\n",
       "      <td>0.984082</td>\n",
       "      <td>0.983504</td>\n",
       "      <td>0.983173</td>\n",
       "      <td>0.983512</td>\n",
       "      <td>0.000366</td>\n",
       "    </tr>\n",
       "    <tr>\n",
       "      <td>3</td>\n",
       "      <td>1.672882</td>\n",
       "      <td>0.007819</td>\n",
       "      <td>0.034594</td>\n",
       "      <td>0.007559</td>\n",
       "      <td>10</td>\n",
       "      <td>{'C': 10}</td>\n",
       "      <td>0.981778</td>\n",
       "      <td>0.988472</td>\n",
       "      <td>0.984369</td>\n",
       "      <td>0.981764</td>\n",
       "      <td>...</td>\n",
       "      <td>0.995576</td>\n",
       "      <td>0.995990</td>\n",
       "      <td>0.995700</td>\n",
       "      <td>0.995700</td>\n",
       "      <td>0.995866</td>\n",
       "      <td>0.995535</td>\n",
       "      <td>0.995700</td>\n",
       "      <td>0.995783</td>\n",
       "      <td>0.995754</td>\n",
       "      <td>0.000132</td>\n",
       "    </tr>\n",
       "    <tr>\n",
       "      <td>4</td>\n",
       "      <td>1.791340</td>\n",
       "      <td>0.206839</td>\n",
       "      <td>0.034952</td>\n",
       "      <td>0.004204</td>\n",
       "      <td>100</td>\n",
       "      <td>{'C': 100}</td>\n",
       "      <td>0.978431</td>\n",
       "      <td>0.986984</td>\n",
       "      <td>0.982136</td>\n",
       "      <td>0.980648</td>\n",
       "      <td>...</td>\n",
       "      <td>0.998801</td>\n",
       "      <td>0.998966</td>\n",
       "      <td>0.998636</td>\n",
       "      <td>0.999008</td>\n",
       "      <td>0.999008</td>\n",
       "      <td>0.998801</td>\n",
       "      <td>0.998884</td>\n",
       "      <td>0.998760</td>\n",
       "      <td>0.998846</td>\n",
       "      <td>0.000119</td>\n",
       "    </tr>\n",
       "  </tbody>\n",
       "</table>\n",
       "<p>5 rows × 31 columns</p>\n",
       "</div>"
      ],
      "text/plain": [
       "   mean_fit_time  std_fit_time  mean_score_time  std_score_time param_C  \\\n",
       "0       1.753014      0.394093         0.036523        0.005765    0.01   \n",
       "1       1.655816      0.054885         0.034835        0.004148     0.1   \n",
       "2       1.664945      0.057177         0.034284        0.003885       1   \n",
       "3       1.672882      0.007819         0.034594        0.007559      10   \n",
       "4       1.791340      0.206839         0.034952        0.004204     100   \n",
       "\n",
       "        params  split0_test_score  split1_test_score  split2_test_score  \\\n",
       "0  {'C': 0.01}           0.923392           0.938267           0.933011   \n",
       "1   {'C': 0.1}           0.954258           0.963927           0.962039   \n",
       "2     {'C': 1}           0.971737           0.980662           0.980648   \n",
       "3    {'C': 10}           0.981778           0.988472           0.984369   \n",
       "4   {'C': 100}           0.978431           0.986984           0.982136   \n",
       "\n",
       "   split3_test_score  ...  split2_train_score  split3_train_score  \\\n",
       "0           0.927428  ...            0.928061            0.929508   \n",
       "1           0.953852  ...            0.958904            0.960020   \n",
       "2           0.975065  ...            0.983380            0.983876   \n",
       "3           0.981764  ...            0.995576            0.995990   \n",
       "4           0.980648  ...            0.998801            0.998966   \n",
       "\n",
       "   split4_train_score  split5_train_score  split6_train_score  \\\n",
       "0            0.929384            0.928805            0.930293   \n",
       "1            0.959648            0.958945            0.960144   \n",
       "2            0.983504            0.983007            0.983586   \n",
       "3            0.995700            0.995700            0.995866   \n",
       "4            0.998636            0.999008            0.999008   \n",
       "\n",
       "   split7_train_score  split8_train_score  split9_train_score  \\\n",
       "0            0.929921            0.928309            0.928970   \n",
       "1            0.959689            0.959069            0.959110   \n",
       "2            0.984082            0.983504            0.983173   \n",
       "3            0.995535            0.995700            0.995783   \n",
       "4            0.998801            0.998884            0.998760   \n",
       "\n",
       "   mean_train_score  std_train_score  \n",
       "0          0.929110         0.000706  \n",
       "1          0.959457         0.000490  \n",
       "2          0.983512         0.000366  \n",
       "3          0.995754         0.000132  \n",
       "4          0.998846         0.000119  \n",
       "\n",
       "[5 rows x 31 columns]"
      ]
     },
     "execution_count": 22,
     "metadata": {},
     "output_type": "execute_result"
    }
   ],
   "source": [
    "pd.DataFrame(opt_model.cv_results_)"
   ]
  },
  {
   "cell_type": "code",
   "execution_count": 23,
   "metadata": {},
   "outputs": [
    {
     "name": "stdout",
     "output_type": "stream",
     "text": [
      "Values of the optimised hyperparameters\n",
      "for the best model found:\n",
      " {'C': 10}\n"
     ]
    },
    {
     "data": {
      "text/plain": [
       "0.9838505618813723"
      ]
     },
     "execution_count": 23,
     "metadata": {},
     "output_type": "execute_result"
    }
   ],
   "source": [
    "print('Values of the optimised hyperparameters\\nfor the best model found:\\n',opt_model.best_params_)\n",
    "opt_model.best_score_"
   ]
  },
  {
   "cell_type": "code",
   "execution_count": 24,
   "metadata": {},
   "outputs": [
    {
     "data": {
      "text/html": [
       "<div>\n",
       "<style scoped>\n",
       "    .dataframe tbody tr th:only-of-type {\n",
       "        vertical-align: middle;\n",
       "    }\n",
       "\n",
       "    .dataframe tbody tr th {\n",
       "        vertical-align: top;\n",
       "    }\n",
       "\n",
       "    .dataframe thead th {\n",
       "        text-align: right;\n",
       "    }\n",
       "</style>\n",
       "<table border=\"1\" class=\"dataframe\">\n",
       "  <thead>\n",
       "    <tr style=\"text-align: right;\">\n",
       "      <th></th>\n",
       "      <th>model</th>\n",
       "      <th>f1</th>\n",
       "      <th>accuracy</th>\n",
       "      <th>roc_score</th>\n",
       "      <th>precision</th>\n",
       "    </tr>\n",
       "  </thead>\n",
       "  <tbody>\n",
       "    <tr>\n",
       "      <td>0</td>\n",
       "      <td>Logistic Regression Training Optimised</td>\n",
       "      <td>0.995415</td>\n",
       "      <td>0.995498</td>\n",
       "      <td>0.999164</td>\n",
       "      <td>0.99583</td>\n",
       "    </tr>\n",
       "  </tbody>\n",
       "</table>\n",
       "</div>"
      ],
      "text/plain": [
       "                                    model        f1  accuracy  roc_score  \\\n",
       "0  Logistic Regression Training Optimised  0.995415  0.995498   0.999164   \n",
       "\n",
       "   precision  \n",
       "0    0.99583  "
      ]
     },
     "execution_count": 24,
     "metadata": {},
     "output_type": "execute_result"
    }
   ],
   "source": [
    "Logistic_Reg_Training_Opt = calculate_performance_1(opt_model, X_train, Y_train, 'Logistic Regression Training Optimised')\n",
    "Logistic_Reg_Training_Opt\n"
   ]
  },
  {
   "cell_type": "code",
   "execution_count": 25,
   "metadata": {},
   "outputs": [
    {
     "data": {
      "text/html": [
       "<div>\n",
       "<style scoped>\n",
       "    .dataframe tbody tr th:only-of-type {\n",
       "        vertical-align: middle;\n",
       "    }\n",
       "\n",
       "    .dataframe tbody tr th {\n",
       "        vertical-align: top;\n",
       "    }\n",
       "\n",
       "    .dataframe thead th {\n",
       "        text-align: right;\n",
       "    }\n",
       "</style>\n",
       "<table border=\"1\" class=\"dataframe\">\n",
       "  <thead>\n",
       "    <tr style=\"text-align: right;\">\n",
       "      <th></th>\n",
       "      <th>model</th>\n",
       "      <th>f1</th>\n",
       "      <th>accuracy</th>\n",
       "      <th>roc_score</th>\n",
       "      <th>precision</th>\n",
       "    </tr>\n",
       "  </thead>\n",
       "  <tbody>\n",
       "    <tr>\n",
       "      <td>0</td>\n",
       "      <td>Logistic Regression Validation Optimised</td>\n",
       "      <td>0.982696</td>\n",
       "      <td>0.983033</td>\n",
       "      <td>0.996584</td>\n",
       "      <td>0.989001</td>\n",
       "    </tr>\n",
       "  </tbody>\n",
       "</table>\n",
       "</div>"
      ],
      "text/plain": [
       "                                      model        f1  accuracy  roc_score  \\\n",
       "0  Logistic Regression Validation Optimised  0.982696  0.983033   0.996584   \n",
       "\n",
       "   precision  \n",
       "0   0.989001  "
      ]
     },
     "execution_count": 25,
     "metadata": {},
     "output_type": "execute_result"
    }
   ],
   "source": [
    "Logistic_Reg_Validation_Opt = calculate_performance_1(opt_model, x_val, y_val, 'Logistic Regression Validation Optimised')\n",
    "Logistic_Reg_Validation_Opt "
   ]
  },
  {
   "cell_type": "code",
   "execution_count": 26,
   "metadata": {},
   "outputs": [],
   "source": [
    "y_hat_log = opt_model.predict(x_val)"
   ]
  },
  {
   "cell_type": "code",
   "execution_count": 27,
   "metadata": {},
   "outputs": [
    {
     "data": {
      "text/plain": [
       "array([[3368,   36],\n",
       "       [  78, 3237]])"
      ]
     },
     "execution_count": 27,
     "metadata": {},
     "output_type": "execute_result"
    }
   ],
   "source": [
    "# visualising a quick confusion matrix for the validation set\n",
    "confusion_matrix(y_val, y_hat_log)"
   ]
  },
  {
   "cell_type": "code",
   "execution_count": 28,
   "metadata": {},
   "outputs": [
    {
     "data": {
      "text/plain": [
       "(3368, 36, 78, 3237)"
      ]
     },
     "execution_count": 28,
     "metadata": {},
     "output_type": "execute_result"
    }
   ],
   "source": [
    "tn, fp, fn, tp = confusion_matrix(y_val, y_hat_log).ravel()\n",
    "tn, fp, fn, tp"
   ]
  },
  {
   "cell_type": "markdown",
   "metadata": {},
   "source": [
    "Overall accuracy on the validation set for logistic regression with c = 10 is equal to **98.3%**, slightly better than the previous baseline one."
   ]
  },
  {
   "cell_type": "code",
   "execution_count": 29,
   "metadata": {},
   "outputs": [
    {
     "data": {
      "image/png": "[encoded data removed]",
      "text/plain": [
       "<Figure size 864x504 with 1 Axes>"
      ]
     },
     "metadata": {},
     "output_type": "display_data"
    }
   ],
   "source": [
    "plot_roc_curve_1(opt_model, X_train, x_val, Y_train, y_val, \"Logistic Roc Score Optimised\" )"
   ]
  },
  {
   "cell_type": "markdown",
   "metadata": {},
   "source": [
    "# Pickling the final winning model (previous version)"
   ]
  },
  {
   "cell_type": "code",
   "execution_count": 30,
   "metadata": {},
   "outputs": [],
   "source": [
    "# logmodel"
   ]
  },
  {
   "cell_type": "code",
   "execution_count": 31,
   "metadata": {},
   "outputs": [],
   "source": [
    "# pickle_out = open('pickled_logistic', 'wb')\n",
    "# pickle.dump(logmodel, pickle_out)"
   ]
  },
  {
   "cell_type": "markdown",
   "metadata": {},
   "source": [
    "# Convolutional Neural Network for Text Analysis"
   ]
  },
  {
   "cell_type": "markdown",
   "metadata": {},
   "source": [
    "Let's try to analyse out Tweets with a fundamentally different method, namely Convolutional Neural Networks. Usually Recursive Neural Networks are the go-to for NLP problems but in this instance, a simple CNN will be applied in order to see whether there's a massive difference in terms of performance between the Logistic Regression approach and this one.\n",
    "\n",
    "Neural Networks  analyse texts in a slightly different way with more dense vectors representing words as opposed to the potentially very sparse tf-idf framework. Given that our dataset is quite large, it might give a good idea to test a CNN and see if it manages to pick up patterns in a better way.\n",
    "\n",
    "Another thing that needs to be said is also that the preprocessing slightly differ from the previous vectorization technique. Word embeddings are processed by Keras with the layer \"Embedding.()\" when it comes to the modelling."
   ]
  },
  {
   "cell_type": "code",
   "execution_count": 32,
   "metadata": {},
   "outputs": [
    {
     "data": {
      "text/html": [
       "<div>\n",
       "<style scoped>\n",
       "    .dataframe tbody tr th:only-of-type {\n",
       "        vertical-align: middle;\n",
       "    }\n",
       "\n",
       "    .dataframe tbody tr th {\n",
       "        vertical-align: top;\n",
       "    }\n",
       "\n",
       "    .dataframe thead th {\n",
       "        text-align: right;\n",
       "    }\n",
       "</style>\n",
       "<table border=\"1\" class=\"dataframe\">\n",
       "  <thead>\n",
       "    <tr style=\"text-align: right;\">\n",
       "      <th></th>\n",
       "      <th>tweet_low</th>\n",
       "      <th>handle_count</th>\n",
       "      <th>no_handle_no_special_no_sin_ash</th>\n",
       "      <th>tweet_length</th>\n",
       "      <th>character_count</th>\n",
       "      <th>lemmatized</th>\n",
       "      <th>lemmatized_1</th>\n",
       "      <th>lemmatized_final</th>\n",
       "      <th>tweet_without_stopwords</th>\n",
       "      <th>tweet_without_stopwords_and_2</th>\n",
       "      <th>neg_label</th>\n",
       "    </tr>\n",
       "  </thead>\n",
       "  <tbody>\n",
       "    <tr>\n",
       "      <td>0</td>\n",
       "      <td>13 days to go #gettingthere</td>\n",
       "      <td>0</td>\n",
       "      <td>days to go #gettingthere</td>\n",
       "      <td>30</td>\n",
       "      <td>21</td>\n",
       "      <td>day to go # gettingthere</td>\n",
       "      <td>day to go #gettingthere</td>\n",
       "      <td>day to go # gettingthere</td>\n",
       "      <td>day go # gettingthere</td>\n",
       "      <td>day gettingthere</td>\n",
       "      <td>0</td>\n",
       "    </tr>\n",
       "    <tr>\n",
       "      <td>1</td>\n",
       "      <td>@anggxo get off my twitter fag</td>\n",
       "      <td>1</td>\n",
       "      <td>get off my twitter fag</td>\n",
       "      <td>23</td>\n",
       "      <td>18</td>\n",
       "      <td>get off my twitter fag</td>\n",
       "      <td>get off my twitter fag</td>\n",
       "      <td>get off my twitter fag</td>\n",
       "      <td>get twitter fag</td>\n",
       "      <td>get twitter fag</td>\n",
       "      <td>1</td>\n",
       "    </tr>\n",
       "    <tr>\n",
       "      <td>2</td>\n",
       "      <td>these hoes got more bodies than a cemetery&amp;#12...</td>\n",
       "      <td>0</td>\n",
       "      <td>these hoes got more bodies than a cemetery    ...</td>\n",
       "      <td>58</td>\n",
       "      <td>35</td>\n",
       "      <td>these hoe get more body than a cemetery</td>\n",
       "      <td>these hoe get more body than a cemetery</td>\n",
       "      <td>these hoe get more body than a cemetery</td>\n",
       "      <td>hoe get body cemetery</td>\n",
       "      <td>hoe get body cemetery</td>\n",
       "      <td>1</td>\n",
       "    </tr>\n",
       "    <tr>\n",
       "      <td>3</td>\n",
       "      <td>a friend just told me she's afraid to go to dc...</td>\n",
       "      <td>1</td>\n",
       "      <td>a friend just told me she's afraid to go to dc...</td>\n",
       "      <td>124</td>\n",
       "      <td>95</td>\n",
       "      <td>a friend just tell me she 's afraid to go to d...</td>\n",
       "      <td>a friend just tell me she 's afraid to go to d...</td>\n",
       "      <td>a friend just tell me she's afraid to go to dc...</td>\n",
       "      <td>friend tell 's afraid go dc rally amp attack #...</td>\n",
       "      <td>friend tell afraid rally amp attack berniebros...</td>\n",
       "      <td>0</td>\n",
       "    </tr>\n",
       "    <tr>\n",
       "      <td>4</td>\n",
       "      <td>i've noticed a lot of #icontf16 presentations ...</td>\n",
       "      <td>1</td>\n",
       "      <td>i've noticed a lot of #icontf   presentations ...</td>\n",
       "      <td>117</td>\n",
       "      <td>95</td>\n",
       "      <td>i 've notice a lot of # icontf presentation me...</td>\n",
       "      <td>i 've notice a lot of #icontf presentation men...</td>\n",
       "      <td>i've notice a lot of # icontf presentation men...</td>\n",
       "      <td>'ve notice lot # icontf presentation mention h...</td>\n",
       "      <td>'ve notice lot icontf presentation mention hap...</td>\n",
       "      <td>0</td>\n",
       "    </tr>\n",
       "    <tr>\n",
       "      <td>5</td>\n",
       "      <td>getting   for this weekends shows! #country #m...</td>\n",
       "      <td>0</td>\n",
       "      <td>getting   for this weekends shows  #country #m...</td>\n",
       "      <td>62</td>\n",
       "      <td>52</td>\n",
       "      <td>get for this weekend show # country # music # ...</td>\n",
       "      <td>get for this weekend show #country #music #lyl...</td>\n",
       "      <td>get for this weekend show # country # music # ...</td>\n",
       "      <td>get weekend show # country # music # lylepierce</td>\n",
       "      <td>get weekend show country music lylepierce</td>\n",
       "      <td>0</td>\n",
       "    </tr>\n",
       "    <tr>\n",
       "      <td>6</td>\n",
       "      <td>@user my final legislative session day has of...</td>\n",
       "      <td>3</td>\n",
       "      <td>my final legislative session day has officia...</td>\n",
       "      <td>69</td>\n",
       "      <td>53</td>\n",
       "      <td>my final legislative session day have official...</td>\n",
       "      <td>my final legislative session day have official...</td>\n",
       "      <td>my final legislative session day have official...</td>\n",
       "      <td>final legislative session day officially begin...</td>\n",
       "      <td>final legislative session day officially begin...</td>\n",
       "      <td>0</td>\n",
       "    </tr>\n",
       "    <tr>\n",
       "      <td>7</td>\n",
       "      <td>@lucas_wright955 @michaelgt03 faggots</td>\n",
       "      <td>2</td>\n",
       "      <td>faggots</td>\n",
       "      <td>9</td>\n",
       "      <td>7</td>\n",
       "      <td>faggot</td>\n",
       "      <td>faggot</td>\n",
       "      <td>faggot</td>\n",
       "      <td>faggot</td>\n",
       "      <td>faggot</td>\n",
       "      <td>1</td>\n",
       "    </tr>\n",
       "    <tr>\n",
       "      <td>8</td>\n",
       "      <td>a #bikini kind of life ð´ summer #palmtrees ...</td>\n",
       "      <td>0</td>\n",
       "      <td>a #bikini kind of life      summer #palmtrees ...</td>\n",
       "      <td>96</td>\n",
       "      <td>72</td>\n",
       "      <td>a # bikini kind of life summer # palmtrees # b...</td>\n",
       "      <td>a #bikini kind of life summer #palmtrees #bree...</td>\n",
       "      <td>a # bikini kind of life summer # palmtrees # b...</td>\n",
       "      <td># bikini kind life summer # palmtrees # breeze...</td>\n",
       "      <td>bikini kind life summer palmtrees breeze place...</td>\n",
       "      <td>0</td>\n",
       "    </tr>\n",
       "    <tr>\n",
       "      <td>9</td>\n",
       "      <td>very sad people with very sad lives, gossiping...</td>\n",
       "      <td>0</td>\n",
       "      <td>very sad people with very sad lives  gossiping...</td>\n",
       "      <td>104</td>\n",
       "      <td>83</td>\n",
       "      <td>very sad people with very sad life gossip abou...</td>\n",
       "      <td>very sad people with very sad life gossip abou...</td>\n",
       "      <td>very sad people with very sad life gossip abou...</td>\n",
       "      <td>sad people sad life gossip people fuck # getalife</td>\n",
       "      <td>sad people sad life gossip people fuck getalife</td>\n",
       "      <td>0</td>\n",
       "    </tr>\n",
       "  </tbody>\n",
       "</table>\n",
       "</div>"
      ],
      "text/plain": [
       "                                           tweet_low  handle_count  \\\n",
       "0                     13 days to go #gettingthere                0   \n",
       "1                     @anggxo get off my twitter fag             1   \n",
       "2  these hoes got more bodies than a cemetery&#12...             0   \n",
       "3  a friend just told me she's afraid to go to dc...             1   \n",
       "4  i've noticed a lot of #icontf16 presentations ...             1   \n",
       "5  getting   for this weekends shows! #country #m...             0   \n",
       "6   @user my final legislative session day has of...             3   \n",
       "7              @lucas_wright955 @michaelgt03 faggots             2   \n",
       "8  a #bikini kind of life ð´ summer #palmtrees ...             0   \n",
       "9  very sad people with very sad lives, gossiping...             0   \n",
       "\n",
       "                     no_handle_no_special_no_sin_ash  tweet_length  \\\n",
       "0                        days to go #gettingthere               30   \n",
       "1                             get off my twitter fag            23   \n",
       "2  these hoes got more bodies than a cemetery    ...            58   \n",
       "3  a friend just told me she's afraid to go to dc...           124   \n",
       "4  i've noticed a lot of #icontf   presentations ...           117   \n",
       "5  getting   for this weekends shows  #country #m...            62   \n",
       "6    my final legislative session day has officia...            69   \n",
       "7                                            faggots             9   \n",
       "8  a #bikini kind of life      summer #palmtrees ...            96   \n",
       "9  very sad people with very sad lives  gossiping...           104   \n",
       "\n",
       "   character_count                                         lemmatized  \\\n",
       "0               21                           day to go # gettingthere   \n",
       "1               18                             get off my twitter fag   \n",
       "2               35            these hoe get more body than a cemetery   \n",
       "3               95  a friend just tell me she 's afraid to go to d...   \n",
       "4               95  i 've notice a lot of # icontf presentation me...   \n",
       "5               52  get for this weekend show # country # music # ...   \n",
       "6               53  my final legislative session day have official...   \n",
       "7                7                                             faggot   \n",
       "8               72  a # bikini kind of life summer # palmtrees # b...   \n",
       "9               83  very sad people with very sad life gossip abou...   \n",
       "\n",
       "                                        lemmatized_1  \\\n",
       "0                            day to go #gettingthere   \n",
       "1                             get off my twitter fag   \n",
       "2            these hoe get more body than a cemetery   \n",
       "3  a friend just tell me she 's afraid to go to d...   \n",
       "4  i 've notice a lot of #icontf presentation men...   \n",
       "5  get for this weekend show #country #music #lyl...   \n",
       "6  my final legislative session day have official...   \n",
       "7                                             faggot   \n",
       "8  a #bikini kind of life summer #palmtrees #bree...   \n",
       "9  very sad people with very sad life gossip abou...   \n",
       "\n",
       "                                    lemmatized_final  \\\n",
       "0                           day to go # gettingthere   \n",
       "1                             get off my twitter fag   \n",
       "2            these hoe get more body than a cemetery   \n",
       "3  a friend just tell me she's afraid to go to dc...   \n",
       "4  i've notice a lot of # icontf presentation men...   \n",
       "5  get for this weekend show # country # music # ...   \n",
       "6  my final legislative session day have official...   \n",
       "7                                             faggot   \n",
       "8  a # bikini kind of life summer # palmtrees # b...   \n",
       "9  very sad people with very sad life gossip abou...   \n",
       "\n",
       "                             tweet_without_stopwords  \\\n",
       "0                              day go # gettingthere   \n",
       "1                                    get twitter fag   \n",
       "2                              hoe get body cemetery   \n",
       "3  friend tell 's afraid go dc rally amp attack #...   \n",
       "4  've notice lot # icontf presentation mention h...   \n",
       "5    get weekend show # country # music # lylepierce   \n",
       "6  final legislative session day officially begin...   \n",
       "7                                             faggot   \n",
       "8  # bikini kind life summer # palmtrees # breeze...   \n",
       "9  sad people sad life gossip people fuck # getalife   \n",
       "\n",
       "                       tweet_without_stopwords_and_2  neg_label  \n",
       "0                                   day gettingthere          0  \n",
       "1                                    get twitter fag          1  \n",
       "2                              hoe get body cemetery          1  \n",
       "3  friend tell afraid rally amp attack berniebros...          0  \n",
       "4  've notice lot icontf presentation mention hap...          0  \n",
       "5          get weekend show country music lylepierce          0  \n",
       "6  final legislative session day officially begin...          0  \n",
       "7                                             faggot          1  \n",
       "8  bikini kind life summer palmtrees breeze place...          0  \n",
       "9    sad people sad life gossip people fuck getalife          0  "
      ]
     },
     "execution_count": 32,
     "metadata": {},
     "output_type": "execute_result"
    }
   ],
   "source": [
    "df.head(10)"
   ]
  },
  {
   "cell_type": "code",
   "execution_count": 33,
   "metadata": {},
   "outputs": [],
   "source": [
    "# df['tokenized'] = df['tweet_without_stopwords_and_2'].apply(tokenize_tweet)"
   ]
  },
  {
   "cell_type": "code",
   "execution_count": 34,
   "metadata": {},
   "outputs": [],
   "source": [
    "# df['tokenized'].head(5)"
   ]
  },
  {
   "cell_type": "code",
   "execution_count": 35,
   "metadata": {},
   "outputs": [],
   "source": [
    "\n",
    "X_train_1, X_test_1, y_train_1, y_test_1 = train_test_split(df['tweet_without_stopwords_and_2'], df['neg_label'], test_size=0.2, random_state=189)\n",
    "\n"
   ]
  },
  {
   "cell_type": "markdown",
   "metadata": {},
   "source": [
    "With the tokenizer object it is possible to decide the max number for our vocabulary along with some text processing such as filtering and lowering.\n",
    "The fit_on_text method creates the word index based on its frequency. \n",
    "\n",
    "Each word is given an unique integer apart from 0 which is reserved for padding.\n",
    "Lastly, text_to_sequences literally takes every single word and coverts it to its index value, thus creating a numerical sequence to represent each tweet."
   ]
  },
  {
   "cell_type": "code",
   "execution_count": 36,
   "metadata": {},
   "outputs": [],
   "source": [
    "tk = Tokenizer(num_words=20000, # The 20000 most important words for our vocabulary\n",
    "               filters='!\"#$%&()*+,-./:;<=>?@[\\]^_`{\"}~\\t\\n', # Regex that will prune off non alphabetical characters\n",
    "               lower=True, # Lowercase the text data for consistency\n",
    "               split=\" \")\n",
    "tk.fit_on_texts(X_train_1) # Fit on our training set\n",
    "X_train_seq = tk.texts_to_sequences(X_train_1) # Indexed sequences based on fitted tokenizer\n",
    "X_test_seq = tk.texts_to_sequences(X_test_1)"
   ]
  },
  {
   "cell_type": "markdown",
   "metadata": {},
   "source": [
    "Below there's an example of how a sequence looks like:"
   ]
  },
  {
   "cell_type": "code",
   "execution_count": 37,
   "metadata": {},
   "outputs": [
    {
     "data": {
      "text/plain": [
       "[2269, 3, 1579, 2270, 7324, 1]"
      ]
     },
     "execution_count": 37,
     "metadata": {},
     "output_type": "execute_result"
    }
   ],
   "source": [
    "X_train_seq[19]"
   ]
  },
  {
   "cell_type": "markdown",
   "metadata": {},
   "source": [
    "Created a custom function to find out what is the max length across all the sequences in teh training test. However, as exceptions, there might be longer ones either in the validation or test set so I'll set the max length to 10 more than 23 just in case."
   ]
  },
  {
   "cell_type": "code",
   "execution_count": 38,
   "metadata": {},
   "outputs": [
    {
     "data": {
      "text/plain": [
       "23"
      ]
     },
     "execution_count": 38,
     "metadata": {},
     "output_type": "execute_result"
    }
   ],
   "source": [
    "max_seq_length(X_train_seq)"
   ]
  },
  {
   "cell_type": "code",
   "execution_count": 39,
   "metadata": {},
   "outputs": [],
   "source": [
    "max_length = 33"
   ]
  },
  {
   "cell_type": "markdown",
   "metadata": {
    "code_folding": []
   },
   "source": [
    "Having looked at the sequential digits, I have realized the highest number of word present is slightly below 20000. That is also because I set the number of max_words in the tokenizer at 20000.\n",
    "     "
   ]
  },
  {
   "cell_type": "code",
   "execution_count": 40,
   "metadata": {},
   "outputs": [],
   "source": [
    "number_of_words = 20000"
   ]
  },
  {
   "cell_type": "markdown",
   "metadata": {},
   "source": [
    "All the sequences have different lengths and that's because sequence pad is used to give a consistent length to all sequences."
   ]
  },
  {
   "cell_type": "code",
   "execution_count": 41,
   "metadata": {},
   "outputs": [],
   "source": [
    "# Padding the sequences so that they are all the same length\n",
    "X_train_seq_pad = pad_sequences(X_train_seq, maxlen=max_length) \n",
    "X_test_seq_pad = pad_sequences(X_test_seq, maxlen=max_length)"
   ]
  },
  {
   "cell_type": "code",
   "execution_count": 42,
   "metadata": {},
   "outputs": [
    {
     "data": {
      "text/plain": [
       "array([   0,    0,    0,    0,    0,    0,    0,    0,    0,    0,    0,\n",
       "          0,    0,    0,    0,    0,    0,    0,    0,    0,  214, 1521,\n",
       "         33,  442,   72,  336, 1166,  264,   88,  181,    5,    1,   57],\n",
       "      dtype=int32)"
      ]
     },
     "execution_count": 42,
     "metadata": {},
     "output_type": "execute_result"
    }
   ],
   "source": [
    "# checking one length\n",
    "X_train_seq_pad[0]"
   ]
  },
  {
   "cell_type": "code",
   "execution_count": 43,
   "metadata": {},
   "outputs": [
    {
     "data": {
      "text/plain": [
       "(33593, 33)"
      ]
     },
     "execution_count": 43,
     "metadata": {},
     "output_type": "execute_result"
    }
   ],
   "source": [
    "X_train_seq_pad.shape\n"
   ]
  },
  {
   "cell_type": "code",
   "execution_count": 44,
   "metadata": {},
   "outputs": [],
   "source": [
    "X_train_emb, X_valid_emb, y_train_emb, y_valid_emb = train_test_split(X_train_seq_pad, y_train, test_size=0.2, random_state=42)"
   ]
  },
  {
   "cell_type": "code",
   "execution_count": 45,
   "metadata": {},
   "outputs": [],
   "source": [
    "batch_size = 64  \n",
    "embedding_dimensions = 100  # Number of dimensions of the trainable embedding layer"
   ]
  },
  {
   "cell_type": "code",
   "execution_count": 46,
   "metadata": {},
   "outputs": [
    {
     "name": "stdout",
     "output_type": "stream",
     "text": [
      "Train on 26874 samples, validate on 6719 samples\n",
      "Epoch 1/10\n",
      "26874/26874 [==============================] - 16s 591us/step - loss: 0.6935 - accuracy: 0.5010 - val_loss: 0.6929 - val_accuracy: 0.5120\n",
      "Epoch 2/10\n",
      "26874/26874 [==============================] - 16s 579us/step - loss: 0.6737 - accuracy: 0.5854 - val_loss: 0.7036 - val_accuracy: 0.5103\n",
      "Epoch 3/10\n",
      "26874/26874 [==============================] - 16s 593us/step - loss: 0.5042 - accuracy: 0.7489 - val_loss: 0.8211 - val_accuracy: 0.5042\n",
      "Epoch 4/10\n",
      "26874/26874 [==============================] - 16s 584us/step - loss: 0.3228 - accuracy: 0.8537 - val_loss: 1.0287 - val_accuracy: 0.5050\n",
      "Epoch 5/10\n",
      "26874/26874 [==============================] - 16s 585us/step - loss: 0.2359 - accuracy: 0.8957 - val_loss: 1.2021 - val_accuracy: 0.5086\n",
      "Epoch 6/10\n",
      "26874/26874 [==============================] - 16s 583us/step - loss: 0.1947 - accuracy: 0.9170 - val_loss: 1.3779 - val_accuracy: 0.5106\n",
      "Epoch 7/10\n",
      "26874/26874 [==============================] - 16s 588us/step - loss: 0.1664 - accuracy: 0.9301 - val_loss: 1.4174 - val_accuracy: 0.5066\n",
      "Epoch 8/10\n",
      "26874/26874 [==============================] - 16s 585us/step - loss: 0.1494 - accuracy: 0.9355 - val_loss: 1.4877 - val_accuracy: 0.5103\n",
      "Epoch 9/10\n",
      "26874/26874 [==============================] - 16s 586us/step - loss: 0.1347 - accuracy: 0.9409 - val_loss: 1.5937 - val_accuracy: 0.5072\n",
      "Epoch 10/10\n",
      "26874/26874 [==============================] - 16s 588us/step - loss: 0.1156 - accuracy: 0.9471 - val_loss: 1.7160 - val_accuracy: 0.5092\n"
     ]
    }
   ],
   "source": [
    "\n",
    "emb_model = models.Sequential()\n",
    "emb_model.add(layers.Embedding(number_of_words, embedding_dimensions, input_length=max_length))\n",
    "emb_model.add(layers.Conv1D(32,\n",
    "                            5,\n",
    "                            activation='relu',\n",
    "                            input_shape=(100,1)))\n",
    "\n",
    "emb_model.add(layers.GlobalMaxPooling1D())\n",
    "emb_model.add(layers.Dropout(0.2))\n",
    "emb_model.add(layers.Dense(64,activation='relu',))\n",
    "emb_model.add(layers.Dropout(0.2))\n",
    "emb_model.add(layers.Dense(1, activation='sigmoid'))\n",
    "emb_model.compile(optimizer='adam',\n",
    "                  loss='binary_crossentropy',\n",
    "                  metrics=['accuracy'])\n",
    "\n",
    "emb_history = emb_model.fit(X_train_emb,\n",
    "                            y_train_emb,\n",
    "                            epochs= 10,\n",
    "                            batch_size= 64,\n",
    "                            validation_data=(X_valid_emb, y_valid_emb))"
   ]
  },
  {
   "cell_type": "code",
   "execution_count": 47,
   "metadata": {
    "scrolled": true
   },
   "outputs": [
    {
     "name": "stdout",
     "output_type": "stream",
     "text": [
      "6719/6719 [==============================] - 0s 60us/step\n"
     ]
    },
    {
     "data": {
      "text/plain": [
       "[1.7159748864965187, 0.5091531276702881]"
      ]
     },
     "execution_count": 47,
     "metadata": {},
     "output_type": "execute_result"
    }
   ],
   "source": [
    "emb_model.evaluate(X_valid_emb, y_valid_emb)"
   ]
  },
  {
   "cell_type": "markdown",
   "metadata": {},
   "source": [
    "Validation results for the CNN are very low around 50% for accuracy with loss function 1.66%.\n",
    "Need to revise this and see if something can be improved."
   ]
  },
  {
   "cell_type": "markdown",
   "metadata": {},
   "source": [
    "# Naive Bayes "
   ]
  },
  {
   "cell_type": "code",
   "execution_count": 48,
   "metadata": {},
   "outputs": [],
   "source": [
    "naives_bayes_clas = GaussianNB()\n",
    "\n",
    "# fitting the model\n",
    "naive_model = naives_bayes_clas.fit(X_train, Y_train)"
   ]
  },
  {
   "cell_type": "code",
   "execution_count": 100,
   "metadata": {},
   "outputs": [
    {
     "data": {
      "text/html": [
       "<div>\n",
       "<style scoped>\n",
       "    .dataframe tbody tr th:only-of-type {\n",
       "        vertical-align: middle;\n",
       "    }\n",
       "\n",
       "    .dataframe tbody tr th {\n",
       "        vertical-align: top;\n",
       "    }\n",
       "\n",
       "    .dataframe thead th {\n",
       "        text-align: right;\n",
       "    }\n",
       "</style>\n",
       "<table border=\"1\" class=\"dataframe\">\n",
       "  <thead>\n",
       "    <tr style=\"text-align: right;\">\n",
       "      <th></th>\n",
       "      <th>model</th>\n",
       "      <th>f1</th>\n",
       "      <th>accuracy</th>\n",
       "      <th>roc_score</th>\n",
       "      <th>precision</th>\n",
       "    </tr>\n",
       "  </thead>\n",
       "  <tbody>\n",
       "    <tr>\n",
       "      <td>0</td>\n",
       "      <td>Naive Bayes Training (tf-idf)</td>\n",
       "      <td>0.925761</td>\n",
       "      <td>0.922899</td>\n",
       "      <td>0.926856</td>\n",
       "      <td>0.878366</td>\n",
       "    </tr>\n",
       "  </tbody>\n",
       "</table>\n",
       "</div>"
      ],
      "text/plain": [
       "                           model        f1  accuracy  roc_score  precision\n",
       "0  Naive Bayes Training (tf-idf)  0.925761  0.922899   0.926856   0.878366"
      ]
     },
     "execution_count": 100,
     "metadata": {},
     "output_type": "execute_result"
    }
   ],
   "source": [
    "naive_model_train = calculate_performance_1(naive_model,X_train, Y_train, 'Naive Bayes Training (tf-idf)')\n",
    "naive_model_train"
   ]
  },
  {
   "cell_type": "code",
   "execution_count": 101,
   "metadata": {},
   "outputs": [
    {
     "data": {
      "text/html": [
       "<div>\n",
       "<style scoped>\n",
       "    .dataframe tbody tr th:only-of-type {\n",
       "        vertical-align: middle;\n",
       "    }\n",
       "\n",
       "    .dataframe tbody tr th {\n",
       "        vertical-align: top;\n",
       "    }\n",
       "\n",
       "    .dataframe thead th {\n",
       "        text-align: right;\n",
       "    }\n",
       "</style>\n",
       "<table border=\"1\" class=\"dataframe\">\n",
       "  <thead>\n",
       "    <tr style=\"text-align: right;\">\n",
       "      <th></th>\n",
       "      <th>model</th>\n",
       "      <th>f1</th>\n",
       "      <th>accuracy</th>\n",
       "      <th>roc_score</th>\n",
       "      <th>precision</th>\n",
       "    </tr>\n",
       "  </thead>\n",
       "  <tbody>\n",
       "    <tr>\n",
       "      <td>0</td>\n",
       "      <td>Naive Bayes Validation (tf-idf)</td>\n",
       "      <td>0.881919</td>\n",
       "      <td>0.876172</td>\n",
       "      <td>0.878681</td>\n",
       "      <td>0.832753</td>\n",
       "    </tr>\n",
       "  </tbody>\n",
       "</table>\n",
       "</div>"
      ],
      "text/plain": [
       "                             model        f1  accuracy  roc_score  precision\n",
       "0  Naive Bayes Validation (tf-idf)  0.881919  0.876172   0.878681   0.832753"
      ]
     },
     "execution_count": 101,
     "metadata": {},
     "output_type": "execute_result"
    }
   ],
   "source": [
    "naive_model_val = calculate_performance_1(naive_model, x_val, y_val, 'Naive Bayes Validation (tf-idf)')\n",
    "naive_model_val \n",
    "\n"
   ]
  },
  {
   "cell_type": "markdown",
   "metadata": {},
   "source": [
    "Performance is significantly worse than our optimised Logistic Regression"
   ]
  },
  {
   "cell_type": "code",
   "execution_count": 51,
   "metadata": {},
   "outputs": [
    {
     "data": {
      "image/png": "[encoded data removed]",
      "text/plain": [
       "<Figure size 864x504 with 1 Axes>"
      ]
     },
     "metadata": {},
     "output_type": "display_data"
    }
   ],
   "source": [
    "plot_roc_curve_1(naive_model, X_train, x_val, Y_train, y_val, 'Naive Bayes TF-IDF' )"
   ]
  },
  {
   "cell_type": "markdown",
   "metadata": {},
   "source": [
    "# Naive Bayes with Count Vectorization"
   ]
  },
  {
   "cell_type": "markdown",
   "metadata": {},
   "source": [
    "This section was just an experiment with the main intent to see if there was a major difference in terms of performance by using bag-of-words as vectorization method."
   ]
  },
  {
   "cell_type": "code",
   "execution_count": 52,
   "metadata": {},
   "outputs": [
    {
     "data": {
      "text/plain": [
       "GaussianNB(priors=None, var_smoothing=1e-09)"
      ]
     },
     "execution_count": 52,
     "metadata": {},
     "output_type": "execute_result"
    }
   ],
   "source": [
    "from sklearn.feature_extraction.text import CountVectorizer\n",
    "cv = CountVectorizer(max_features=9000)\n",
    "\n",
    "# creating a bag-of-words matrix\n",
    "X = cv.fit_transform(df['tweet_without_stopwords_and_2']).toarray()\n",
    "\n",
    "# creating a parallel split of train/val to use only on the count vectorization matrix\n",
    "from sklearn.model_selection import train_test_split\n",
    "X_train_2, X_valid_2, y_train_2, y_val_2 = train_test_split(X, target, test_size = 0.2, random_state = 10)\n",
    "\n",
    "from sklearn.naive_bayes import GaussianNB\n",
    "classifier_bow = GaussianNB()\n",
    "classifier_bow.fit(X_train_2, y_train_2)\n",
    "\n"
   ]
  },
  {
   "cell_type": "code",
   "execution_count": 53,
   "metadata": {},
   "outputs": [],
   "source": [
    "y_pred = classifier_bow.predict(X_valid_2)\n",
    "\n",
    "from sklearn.metrics import confusion_matrix\n",
    "cm = confusion_matrix(y_val_2, y_pred)"
   ]
  },
  {
   "cell_type": "code",
   "execution_count": 54,
   "metadata": {},
   "outputs": [
    {
     "data": {
      "text/plain": [
       "array([[2402, 1852],\n",
       "       [ 195, 3950]])"
      ]
     },
     "execution_count": 54,
     "metadata": {},
     "output_type": "execute_result"
    }
   ],
   "source": [
    "cm"
   ]
  },
  {
   "cell_type": "code",
   "execution_count": 111,
   "metadata": {},
   "outputs": [
    {
     "data": {
      "text/html": [
       "<div>\n",
       "<style scoped>\n",
       "    .dataframe tbody tr th:only-of-type {\n",
       "        vertical-align: middle;\n",
       "    }\n",
       "\n",
       "    .dataframe tbody tr th {\n",
       "        vertical-align: top;\n",
       "    }\n",
       "\n",
       "    .dataframe thead th {\n",
       "        text-align: right;\n",
       "    }\n",
       "</style>\n",
       "<table border=\"1\" class=\"dataframe\">\n",
       "  <thead>\n",
       "    <tr style=\"text-align: right;\">\n",
       "      <th></th>\n",
       "      <th>model</th>\n",
       "      <th>f1</th>\n",
       "      <th>accuracy</th>\n",
       "      <th>roc_score</th>\n",
       "      <th>precision</th>\n",
       "    </tr>\n",
       "  </thead>\n",
       "  <tbody>\n",
       "    <tr>\n",
       "      <td>0</td>\n",
       "      <td>Naive Bayes Training (b-o-w)</td>\n",
       "      <td>0.825409</td>\n",
       "      <td>0.792754</td>\n",
       "      <td>0.796797</td>\n",
       "      <td>0.70293</td>\n",
       "    </tr>\n",
       "  </tbody>\n",
       "</table>\n",
       "</div>"
      ],
      "text/plain": [
       "                          model        f1  accuracy  roc_score  precision\n",
       "0  Naive Bayes Training (b-o-w)  0.825409  0.792754   0.796797    0.70293"
      ]
     },
     "execution_count": 111,
     "metadata": {},
     "output_type": "execute_result"
    }
   ],
   "source": [
    "Naive_Bayes_Tra_bow = calculate_performance_1(classifier_bow, X_train_2, y_train_2, 'Naive Bayes Training (b-o-w)')\n",
    "Naive_Bayes_Tra_bow"
   ]
  },
  {
   "cell_type": "code",
   "execution_count": 98,
   "metadata": {},
   "outputs": [
    {
     "data": {
      "text/html": [
       "<div>\n",
       "<style scoped>\n",
       "    .dataframe tbody tr th:only-of-type {\n",
       "        vertical-align: middle;\n",
       "    }\n",
       "\n",
       "    .dataframe tbody tr th {\n",
       "        vertical-align: top;\n",
       "    }\n",
       "\n",
       "    .dataframe thead th {\n",
       "        text-align: right;\n",
       "    }\n",
       "</style>\n",
       "<table border=\"1\" class=\"dataframe\">\n",
       "  <thead>\n",
       "    <tr style=\"text-align: right;\">\n",
       "      <th></th>\n",
       "      <th>model</th>\n",
       "      <th>f1</th>\n",
       "      <th>accuracy</th>\n",
       "      <th>roc_score</th>\n",
       "      <th>precision</th>\n",
       "    </tr>\n",
       "  </thead>\n",
       "  <tbody>\n",
       "    <tr>\n",
       "      <td>0</td>\n",
       "      <td>Naive Bayes Validation (b-o-w)</td>\n",
       "      <td>0.794209</td>\n",
       "      <td>0.756281</td>\n",
       "      <td>0.758807</td>\n",
       "      <td>0.6808</td>\n",
       "    </tr>\n",
       "  </tbody>\n",
       "</table>\n",
       "</div>"
      ],
      "text/plain": [
       "                            model        f1  accuracy  roc_score  precision\n",
       "0  Naive Bayes Validation (b-o-w)  0.794209  0.756281   0.758807     0.6808"
      ]
     },
     "execution_count": 98,
     "metadata": {},
     "output_type": "execute_result"
    }
   ],
   "source": [
    "Naive_Bayes_Val_bow = calculate_performance_1(classifier_bow, X_valid_2, y_val_2, 'Naive Bayes Validation (b-o-w)')\n",
    "Naive_Bayes_Val_bow\n",
    "\n"
   ]
  },
  {
   "cell_type": "code",
   "execution_count": 99,
   "metadata": {},
   "outputs": [
    {
     "data": {
      "image/png": "[encoded data removed]",
      "text/plain": [
       "<Figure size 864x504 with 1 Axes>"
      ]
     },
     "metadata": {},
     "output_type": "display_data"
    }
   ],
   "source": [
    "plot_roc_curve_1(classifier_bow, X_train_2, X_valid_2, y_train_2, y_val_2, \"Naive Bayes (b-o-w)\")"
   ]
  },
  {
   "cell_type": "markdown",
   "metadata": {},
   "source": [
    "Performance significantly dropped by using a count vectorizer instead of tf-idf."
   ]
  },
  {
   "cell_type": "markdown",
   "metadata": {},
   "source": [
    "# Decision Tree"
   ]
  },
  {
   "cell_type": "markdown",
   "metadata": {},
   "source": [
    "Instatiating a Decision Tree model"
   ]
  },
  {
   "cell_type": "code",
   "execution_count": 59,
   "metadata": {},
   "outputs": [],
   "source": [
    "# initialising decision tree\n",
    "DecisionTree = DecisionTreeClassifier(max_depth=3, min_samples_leaf=10, random_state=86)\n",
    "# fitting the decision tree \n",
    "tree_model = DecisionTree.fit(X_train, Y_train)"
   ]
  },
  {
   "cell_type": "code",
   "execution_count": 85,
   "metadata": {},
   "outputs": [
    {
     "data": {
      "text/html": [
       "<div>\n",
       "<style scoped>\n",
       "    .dataframe tbody tr th:only-of-type {\n",
       "        vertical-align: middle;\n",
       "    }\n",
       "\n",
       "    .dataframe tbody tr th {\n",
       "        vertical-align: top;\n",
       "    }\n",
       "\n",
       "    .dataframe thead th {\n",
       "        text-align: right;\n",
       "    }\n",
       "</style>\n",
       "<table border=\"1\" class=\"dataframe\">\n",
       "  <thead>\n",
       "    <tr style=\"text-align: right;\">\n",
       "      <th></th>\n",
       "      <th>model</th>\n",
       "      <th>f1</th>\n",
       "      <th>accuracy</th>\n",
       "      <th>roc_score</th>\n",
       "      <th>precision</th>\n",
       "    </tr>\n",
       "  </thead>\n",
       "  <tbody>\n",
       "    <tr>\n",
       "      <td>0</td>\n",
       "      <td>Decision Tree Training</td>\n",
       "      <td>0.879331</td>\n",
       "      <td>0.893726</td>\n",
       "      <td>0.892354</td>\n",
       "      <td>0.994267</td>\n",
       "    </tr>\n",
       "  </tbody>\n",
       "</table>\n",
       "</div>"
      ],
      "text/plain": [
       "                    model        f1  accuracy  roc_score  precision\n",
       "0  Decision Tree Training  0.879331  0.893726   0.892354   0.994267"
      ]
     },
     "execution_count": 85,
     "metadata": {},
     "output_type": "execute_result"
    }
   ],
   "source": [
    "Decision_Tree_Tra = calculate_performance_1(tree_model, X_train, Y_train, 'Decision Tree Training')\n",
    "Decision_Tree_Tra\n"
   ]
  },
  {
   "cell_type": "code",
   "execution_count": 86,
   "metadata": {},
   "outputs": [
    {
     "data": {
      "text/html": [
       "<div>\n",
       "<style scoped>\n",
       "    .dataframe tbody tr th:only-of-type {\n",
       "        vertical-align: middle;\n",
       "    }\n",
       "\n",
       "    .dataframe tbody tr th {\n",
       "        vertical-align: top;\n",
       "    }\n",
       "\n",
       "    .dataframe thead th {\n",
       "        text-align: right;\n",
       "    }\n",
       "</style>\n",
       "<table border=\"1\" class=\"dataframe\">\n",
       "  <thead>\n",
       "    <tr style=\"text-align: right;\">\n",
       "      <th></th>\n",
       "      <th>model</th>\n",
       "      <th>f1</th>\n",
       "      <th>accuracy</th>\n",
       "      <th>roc_score</th>\n",
       "      <th>precision</th>\n",
       "    </tr>\n",
       "  </thead>\n",
       "  <tbody>\n",
       "    <tr>\n",
       "      <td>0</td>\n",
       "      <td>Decision Tree Validation</td>\n",
       "      <td>0.87698</td>\n",
       "      <td>0.891353</td>\n",
       "      <td>0.890566</td>\n",
       "      <td>0.993509</td>\n",
       "    </tr>\n",
       "  </tbody>\n",
       "</table>\n",
       "</div>"
      ],
      "text/plain": [
       "                      model       f1  accuracy  roc_score  precision\n",
       "0  Decision Tree Validation  0.87698  0.891353   0.890566   0.993509"
      ]
     },
     "execution_count": 86,
     "metadata": {},
     "output_type": "execute_result"
    }
   ],
   "source": [
    "Decision_Tree_Val = calculate_performance_1(tree_model, x_val, y_val, 'Decision Tree Validation')\n",
    "Decision_Tree_Val \n"
   ]
  },
  {
   "cell_type": "markdown",
   "metadata": {},
   "source": [
    "# Hyperparameter Tuning with Decision Tree"
   ]
  },
  {
   "cell_type": "markdown",
   "metadata": {},
   "source": [
    "Decision Tree is the only model to get close to the our best model Logistic Regression. However, after some tuning it looks like performance doesn't get a lot better and it also takes a larger amount of time to process and run since our dataset is quite big."
   ]
  },
  {
   "cell_type": "code",
   "execution_count": 62,
   "metadata": {},
   "outputs": [],
   "source": [
    "cv_1 = StratifiedKFold(random_state=1050, shuffle=True, n_splits=3)"
   ]
  },
  {
   "cell_type": "code",
   "execution_count": 63,
   "metadata": {},
   "outputs": [],
   "source": [
    "param_grid = {'max_depth': [5,6,7,8], 'min_samples_leaf': [5,10,15]}"
   ]
  },
  {
   "cell_type": "code",
   "execution_count": 64,
   "metadata": {},
   "outputs": [],
   "source": [
    "opt_model_tree = GridSearchCV(DecisionTreeClassifier(random_state=23),\n",
    "                             param_grid,\n",
    "                             cv=cv_1,\n",
    "                             return_train_score=True\n",
    "                             )"
   ]
  },
  {
   "cell_type": "code",
   "execution_count": 65,
   "metadata": {},
   "outputs": [
    {
     "data": {
      "text/plain": [
       "GridSearchCV(cv=StratifiedKFold(n_splits=3, random_state=1050, shuffle=True),\n",
       "             error_score='raise-deprecating',\n",
       "             estimator=DecisionTreeClassifier(class_weight=None,\n",
       "                                              criterion='gini', max_depth=None,\n",
       "                                              max_features=None,\n",
       "                                              max_leaf_nodes=None,\n",
       "                                              min_impurity_decrease=0.0,\n",
       "                                              min_impurity_split=None,\n",
       "                                              min_samples_leaf=1,\n",
       "                                              min_samples_split=2,\n",
       "                                              min_weight_fraction_leaf=0.0,\n",
       "                                              presort=False, random_state=23,\n",
       "                                              splitter='best'),\n",
       "             iid='warn', n_jobs=None,\n",
       "             param_grid={'max_depth': [5, 6, 7, 8],\n",
       "                         'min_samples_leaf': [5, 10, 15]},\n",
       "             pre_dispatch='2*n_jobs', refit=True, return_train_score=True,\n",
       "             scoring=None, verbose=0)"
      ]
     },
     "execution_count": 65,
     "metadata": {},
     "output_type": "execute_result"
    }
   ],
   "source": [
    "opt_model_tree.fit(X_train, Y_train)"
   ]
  },
  {
   "cell_type": "code",
   "execution_count": 66,
   "metadata": {},
   "outputs": [
    {
     "data": {
      "text/plain": [
       "{'max_depth': 8, 'min_samples_leaf': 10}"
      ]
     },
     "execution_count": 66,
     "metadata": {},
     "output_type": "execute_result"
    }
   ],
   "source": [
    "opt_model_tree.best_params_"
   ]
  },
  {
   "cell_type": "code",
   "execution_count": 67,
   "metadata": {},
   "outputs": [
    {
     "data": {
      "text/plain": [
       "0.934174294857483"
      ]
     },
     "execution_count": 67,
     "metadata": {},
     "output_type": "execute_result"
    }
   ],
   "source": [
    "opt_model_tree.best_score_"
   ]
  },
  {
   "cell_type": "code",
   "execution_count": 68,
   "metadata": {},
   "outputs": [
    {
     "data": {
      "text/html": [
       "<div>\n",
       "<style scoped>\n",
       "    .dataframe tbody tr th:only-of-type {\n",
       "        vertical-align: middle;\n",
       "    }\n",
       "\n",
       "    .dataframe tbody tr th {\n",
       "        vertical-align: top;\n",
       "    }\n",
       "\n",
       "    .dataframe thead th {\n",
       "        text-align: right;\n",
       "    }\n",
       "</style>\n",
       "<table border=\"1\" class=\"dataframe\">\n",
       "  <thead>\n",
       "    <tr style=\"text-align: right;\">\n",
       "      <th></th>\n",
       "      <th>mean_fit_time</th>\n",
       "      <th>std_fit_time</th>\n",
       "      <th>mean_score_time</th>\n",
       "      <th>std_score_time</th>\n",
       "      <th>param_max_depth</th>\n",
       "      <th>param_min_samples_leaf</th>\n",
       "      <th>params</th>\n",
       "      <th>split0_test_score</th>\n",
       "      <th>split1_test_score</th>\n",
       "      <th>split2_test_score</th>\n",
       "      <th>mean_test_score</th>\n",
       "      <th>std_test_score</th>\n",
       "      <th>rank_test_score</th>\n",
       "      <th>split0_train_score</th>\n",
       "      <th>split1_train_score</th>\n",
       "      <th>split2_train_score</th>\n",
       "      <th>mean_train_score</th>\n",
       "      <th>std_train_score</th>\n",
       "    </tr>\n",
       "  </thead>\n",
       "  <tbody>\n",
       "    <tr>\n",
       "      <td>0</td>\n",
       "      <td>15.120475</td>\n",
       "      <td>0.507780</td>\n",
       "      <td>0.352684</td>\n",
       "      <td>0.042532</td>\n",
       "      <td>5</td>\n",
       "      <td>5</td>\n",
       "      <td>{'max_depth': 5, 'min_samples_leaf': 5}</td>\n",
       "      <td>0.911932</td>\n",
       "      <td>0.913597</td>\n",
       "      <td>0.919504</td>\n",
       "      <td>0.915011</td>\n",
       "      <td>0.003249</td>\n",
       "      <td>12</td>\n",
       "      <td>0.916662</td>\n",
       "      <td>0.915885</td>\n",
       "      <td>0.912876</td>\n",
       "      <td>0.915141</td>\n",
       "      <td>0.001633</td>\n",
       "    </tr>\n",
       "    <tr>\n",
       "      <td>1</td>\n",
       "      <td>14.663516</td>\n",
       "      <td>0.192003</td>\n",
       "      <td>0.353431</td>\n",
       "      <td>0.021245</td>\n",
       "      <td>5</td>\n",
       "      <td>10</td>\n",
       "      <td>{'max_depth': 5, 'min_samples_leaf': 10}</td>\n",
       "      <td>0.912044</td>\n",
       "      <td>0.913597</td>\n",
       "      <td>0.919504</td>\n",
       "      <td>0.915048</td>\n",
       "      <td>0.003214</td>\n",
       "      <td>10</td>\n",
       "      <td>0.916662</td>\n",
       "      <td>0.915885</td>\n",
       "      <td>0.912876</td>\n",
       "      <td>0.915141</td>\n",
       "      <td>0.001633</td>\n",
       "    </tr>\n",
       "    <tr>\n",
       "      <td>2</td>\n",
       "      <td>14.548945</td>\n",
       "      <td>0.100080</td>\n",
       "      <td>0.358343</td>\n",
       "      <td>0.001418</td>\n",
       "      <td>5</td>\n",
       "      <td>15</td>\n",
       "      <td>{'max_depth': 5, 'min_samples_leaf': 15}</td>\n",
       "      <td>0.912044</td>\n",
       "      <td>0.913597</td>\n",
       "      <td>0.919504</td>\n",
       "      <td>0.915048</td>\n",
       "      <td>0.003214</td>\n",
       "      <td>10</td>\n",
       "      <td>0.916662</td>\n",
       "      <td>0.915885</td>\n",
       "      <td>0.912876</td>\n",
       "      <td>0.915141</td>\n",
       "      <td>0.001633</td>\n",
       "    </tr>\n",
       "    <tr>\n",
       "      <td>3</td>\n",
       "      <td>16.510601</td>\n",
       "      <td>0.057469</td>\n",
       "      <td>0.361252</td>\n",
       "      <td>0.001714</td>\n",
       "      <td>6</td>\n",
       "      <td>5</td>\n",
       "      <td>{'max_depth': 6, 'min_samples_leaf': 5}</td>\n",
       "      <td>0.919076</td>\n",
       "      <td>0.920630</td>\n",
       "      <td>0.925198</td>\n",
       "      <td>0.921634</td>\n",
       "      <td>0.002598</td>\n",
       "      <td>9</td>\n",
       "      <td>0.923193</td>\n",
       "      <td>0.922472</td>\n",
       "      <td>0.920132</td>\n",
       "      <td>0.921932</td>\n",
       "      <td>0.001307</td>\n",
       "    </tr>\n",
       "    <tr>\n",
       "      <td>4</td>\n",
       "      <td>16.578518</td>\n",
       "      <td>0.096751</td>\n",
       "      <td>0.358005</td>\n",
       "      <td>0.002391</td>\n",
       "      <td>6</td>\n",
       "      <td>10</td>\n",
       "      <td>{'max_depth': 6, 'min_samples_leaf': 10}</td>\n",
       "      <td>0.919187</td>\n",
       "      <td>0.920630</td>\n",
       "      <td>0.925198</td>\n",
       "      <td>0.921672</td>\n",
       "      <td>0.002562</td>\n",
       "      <td>7</td>\n",
       "      <td>0.923193</td>\n",
       "      <td>0.922472</td>\n",
       "      <td>0.920132</td>\n",
       "      <td>0.921932</td>\n",
       "      <td>0.001307</td>\n",
       "    </tr>\n",
       "    <tr>\n",
       "      <td>5</td>\n",
       "      <td>16.514594</td>\n",
       "      <td>0.231259</td>\n",
       "      <td>0.356796</td>\n",
       "      <td>0.000316</td>\n",
       "      <td>6</td>\n",
       "      <td>15</td>\n",
       "      <td>{'max_depth': 6, 'min_samples_leaf': 15}</td>\n",
       "      <td>0.919187</td>\n",
       "      <td>0.920630</td>\n",
       "      <td>0.925198</td>\n",
       "      <td>0.921672</td>\n",
       "      <td>0.002562</td>\n",
       "      <td>7</td>\n",
       "      <td>0.923193</td>\n",
       "      <td>0.922472</td>\n",
       "      <td>0.920132</td>\n",
       "      <td>0.921932</td>\n",
       "      <td>0.001307</td>\n",
       "    </tr>\n",
       "    <tr>\n",
       "      <td>6</td>\n",
       "      <td>18.238773</td>\n",
       "      <td>0.054871</td>\n",
       "      <td>0.360645</td>\n",
       "      <td>0.000966</td>\n",
       "      <td>7</td>\n",
       "      <td>5</td>\n",
       "      <td>{'max_depth': 7, 'min_samples_leaf': 5}</td>\n",
       "      <td>0.926554</td>\n",
       "      <td>0.927774</td>\n",
       "      <td>0.931004</td>\n",
       "      <td>0.928444</td>\n",
       "      <td>0.001877</td>\n",
       "      <td>6</td>\n",
       "      <td>0.929500</td>\n",
       "      <td>0.928946</td>\n",
       "      <td>0.927276</td>\n",
       "      <td>0.928574</td>\n",
       "      <td>0.000946</td>\n",
       "    </tr>\n",
       "    <tr>\n",
       "      <td>7</td>\n",
       "      <td>25.182494</td>\n",
       "      <td>2.095467</td>\n",
       "      <td>0.521024</td>\n",
       "      <td>0.192598</td>\n",
       "      <td>7</td>\n",
       "      <td>10</td>\n",
       "      <td>{'max_depth': 7, 'min_samples_leaf': 10}</td>\n",
       "      <td>0.926666</td>\n",
       "      <td>0.927774</td>\n",
       "      <td>0.931004</td>\n",
       "      <td>0.928481</td>\n",
       "      <td>0.001840</td>\n",
       "      <td>4</td>\n",
       "      <td>0.929500</td>\n",
       "      <td>0.928946</td>\n",
       "      <td>0.927276</td>\n",
       "      <td>0.928574</td>\n",
       "      <td>0.000946</td>\n",
       "    </tr>\n",
       "    <tr>\n",
       "      <td>8</td>\n",
       "      <td>30.478766</td>\n",
       "      <td>3.599351</td>\n",
       "      <td>0.567803</td>\n",
       "      <td>0.182229</td>\n",
       "      <td>7</td>\n",
       "      <td>15</td>\n",
       "      <td>{'max_depth': 7, 'min_samples_leaf': 15}</td>\n",
       "      <td>0.926666</td>\n",
       "      <td>0.927774</td>\n",
       "      <td>0.931004</td>\n",
       "      <td>0.928481</td>\n",
       "      <td>0.001840</td>\n",
       "      <td>4</td>\n",
       "      <td>0.929500</td>\n",
       "      <td>0.928946</td>\n",
       "      <td>0.927276</td>\n",
       "      <td>0.928574</td>\n",
       "      <td>0.000946</td>\n",
       "    </tr>\n",
       "    <tr>\n",
       "      <td>9</td>\n",
       "      <td>21.462300</td>\n",
       "      <td>0.710556</td>\n",
       "      <td>0.368101</td>\n",
       "      <td>0.037187</td>\n",
       "      <td>8</td>\n",
       "      <td>5</td>\n",
       "      <td>{'max_depth': 8, 'min_samples_leaf': 5}</td>\n",
       "      <td>0.933363</td>\n",
       "      <td>0.933579</td>\n",
       "      <td>0.935469</td>\n",
       "      <td>0.934137</td>\n",
       "      <td>0.000946</td>\n",
       "      <td>3</td>\n",
       "      <td>0.935250</td>\n",
       "      <td>0.935198</td>\n",
       "      <td>0.933918</td>\n",
       "      <td>0.934788</td>\n",
       "      <td>0.000616</td>\n",
       "    </tr>\n",
       "    <tr>\n",
       "      <td>10</td>\n",
       "      <td>27.197547</td>\n",
       "      <td>0.899076</td>\n",
       "      <td>0.429201</td>\n",
       "      <td>0.021617</td>\n",
       "      <td>8</td>\n",
       "      <td>10</td>\n",
       "      <td>{'max_depth': 8, 'min_samples_leaf': 10}</td>\n",
       "      <td>0.933475</td>\n",
       "      <td>0.933579</td>\n",
       "      <td>0.935469</td>\n",
       "      <td>0.934174</td>\n",
       "      <td>0.000917</td>\n",
       "      <td>1</td>\n",
       "      <td>0.935250</td>\n",
       "      <td>0.935198</td>\n",
       "      <td>0.933918</td>\n",
       "      <td>0.934788</td>\n",
       "      <td>0.000616</td>\n",
       "    </tr>\n",
       "    <tr>\n",
       "      <td>11</td>\n",
       "      <td>32.389085</td>\n",
       "      <td>8.283151</td>\n",
       "      <td>0.390697</td>\n",
       "      <td>0.021746</td>\n",
       "      <td>8</td>\n",
       "      <td>15</td>\n",
       "      <td>{'max_depth': 8, 'min_samples_leaf': 15}</td>\n",
       "      <td>0.933475</td>\n",
       "      <td>0.933579</td>\n",
       "      <td>0.935469</td>\n",
       "      <td>0.934174</td>\n",
       "      <td>0.000917</td>\n",
       "      <td>1</td>\n",
       "      <td>0.935250</td>\n",
       "      <td>0.935198</td>\n",
       "      <td>0.933918</td>\n",
       "      <td>0.934788</td>\n",
       "      <td>0.000616</td>\n",
       "    </tr>\n",
       "  </tbody>\n",
       "</table>\n",
       "</div>"
      ],
      "text/plain": [
       "    mean_fit_time  std_fit_time  mean_score_time  std_score_time  \\\n",
       "0       15.120475      0.507780         0.352684        0.042532   \n",
       "1       14.663516      0.192003         0.353431        0.021245   \n",
       "2       14.548945      0.100080         0.358343        0.001418   \n",
       "3       16.510601      0.057469         0.361252        0.001714   \n",
       "4       16.578518      0.096751         0.358005        0.002391   \n",
       "5       16.514594      0.231259         0.356796        0.000316   \n",
       "6       18.238773      0.054871         0.360645        0.000966   \n",
       "7       25.182494      2.095467         0.521024        0.192598   \n",
       "8       30.478766      3.599351         0.567803        0.182229   \n",
       "9       21.462300      0.710556         0.368101        0.037187   \n",
       "10      27.197547      0.899076         0.429201        0.021617   \n",
       "11      32.389085      8.283151         0.390697        0.021746   \n",
       "\n",
       "   param_max_depth param_min_samples_leaf  \\\n",
       "0                5                      5   \n",
       "1                5                     10   \n",
       "2                5                     15   \n",
       "3                6                      5   \n",
       "4                6                     10   \n",
       "5                6                     15   \n",
       "6                7                      5   \n",
       "7                7                     10   \n",
       "8                7                     15   \n",
       "9                8                      5   \n",
       "10               8                     10   \n",
       "11               8                     15   \n",
       "\n",
       "                                      params  split0_test_score  \\\n",
       "0    {'max_depth': 5, 'min_samples_leaf': 5}           0.911932   \n",
       "1   {'max_depth': 5, 'min_samples_leaf': 10}           0.912044   \n",
       "2   {'max_depth': 5, 'min_samples_leaf': 15}           0.912044   \n",
       "3    {'max_depth': 6, 'min_samples_leaf': 5}           0.919076   \n",
       "4   {'max_depth': 6, 'min_samples_leaf': 10}           0.919187   \n",
       "5   {'max_depth': 6, 'min_samples_leaf': 15}           0.919187   \n",
       "6    {'max_depth': 7, 'min_samples_leaf': 5}           0.926554   \n",
       "7   {'max_depth': 7, 'min_samples_leaf': 10}           0.926666   \n",
       "8   {'max_depth': 7, 'min_samples_leaf': 15}           0.926666   \n",
       "9    {'max_depth': 8, 'min_samples_leaf': 5}           0.933363   \n",
       "10  {'max_depth': 8, 'min_samples_leaf': 10}           0.933475   \n",
       "11  {'max_depth': 8, 'min_samples_leaf': 15}           0.933475   \n",
       "\n",
       "    split1_test_score  split2_test_score  mean_test_score  std_test_score  \\\n",
       "0            0.913597           0.919504         0.915011        0.003249   \n",
       "1            0.913597           0.919504         0.915048        0.003214   \n",
       "2            0.913597           0.919504         0.915048        0.003214   \n",
       "3            0.920630           0.925198         0.921634        0.002598   \n",
       "4            0.920630           0.925198         0.921672        0.002562   \n",
       "5            0.920630           0.925198         0.921672        0.002562   \n",
       "6            0.927774           0.931004         0.928444        0.001877   \n",
       "7            0.927774           0.931004         0.928481        0.001840   \n",
       "8            0.927774           0.931004         0.928481        0.001840   \n",
       "9            0.933579           0.935469         0.934137        0.000946   \n",
       "10           0.933579           0.935469         0.934174        0.000917   \n",
       "11           0.933579           0.935469         0.934174        0.000917   \n",
       "\n",
       "    rank_test_score  split0_train_score  split1_train_score  \\\n",
       "0                12            0.916662            0.915885   \n",
       "1                10            0.916662            0.915885   \n",
       "2                10            0.916662            0.915885   \n",
       "3                 9            0.923193            0.922472   \n",
       "4                 7            0.923193            0.922472   \n",
       "5                 7            0.923193            0.922472   \n",
       "6                 6            0.929500            0.928946   \n",
       "7                 4            0.929500            0.928946   \n",
       "8                 4            0.929500            0.928946   \n",
       "9                 3            0.935250            0.935198   \n",
       "10                1            0.935250            0.935198   \n",
       "11                1            0.935250            0.935198   \n",
       "\n",
       "    split2_train_score  mean_train_score  std_train_score  \n",
       "0             0.912876          0.915141         0.001633  \n",
       "1             0.912876          0.915141         0.001633  \n",
       "2             0.912876          0.915141         0.001633  \n",
       "3             0.920132          0.921932         0.001307  \n",
       "4             0.920132          0.921932         0.001307  \n",
       "5             0.920132          0.921932         0.001307  \n",
       "6             0.927276          0.928574         0.000946  \n",
       "7             0.927276          0.928574         0.000946  \n",
       "8             0.927276          0.928574         0.000946  \n",
       "9             0.933918          0.934788         0.000616  \n",
       "10            0.933918          0.934788         0.000616  \n",
       "11            0.933918          0.934788         0.000616  "
      ]
     },
     "execution_count": 68,
     "metadata": {},
     "output_type": "execute_result"
    }
   ],
   "source": [
    "pd.DataFrame(opt_model_tree.cv_results_)"
   ]
  },
  {
   "cell_type": "code",
   "execution_count": 87,
   "metadata": {},
   "outputs": [
    {
     "data": {
      "text/html": [
       "<div>\n",
       "<style scoped>\n",
       "    .dataframe tbody tr th:only-of-type {\n",
       "        vertical-align: middle;\n",
       "    }\n",
       "\n",
       "    .dataframe tbody tr th {\n",
       "        vertical-align: top;\n",
       "    }\n",
       "\n",
       "    .dataframe thead th {\n",
       "        text-align: right;\n",
       "    }\n",
       "</style>\n",
       "<table border=\"1\" class=\"dataframe\">\n",
       "  <thead>\n",
       "    <tr style=\"text-align: right;\">\n",
       "      <th></th>\n",
       "      <th>model</th>\n",
       "      <th>f1</th>\n",
       "      <th>accuracy</th>\n",
       "      <th>roc_score</th>\n",
       "      <th>precision</th>\n",
       "    </tr>\n",
       "  </thead>\n",
       "  <tbody>\n",
       "    <tr>\n",
       "      <td>0</td>\n",
       "      <td>Decision Tree Training Optimised</td>\n",
       "      <td>0.929131</td>\n",
       "      <td>0.934658</td>\n",
       "      <td>0.934791</td>\n",
       "      <td>0.994385</td>\n",
       "    </tr>\n",
       "  </tbody>\n",
       "</table>\n",
       "</div>"
      ],
      "text/plain": [
       "                              model        f1  accuracy  roc_score  precision\n",
       "0  Decision Tree Training Optimised  0.929131  0.934658   0.934791   0.994385"
      ]
     },
     "execution_count": 87,
     "metadata": {},
     "output_type": "execute_result"
    }
   ],
   "source": [
    "Decision_Tree_Tra_Opt = calculate_performance_1(opt_model_tree, X_train, Y_train, 'Decision Tree Training Optimised')\n",
    "Decision_Tree_Tra_Opt\n"
   ]
  },
  {
   "cell_type": "code",
   "execution_count": 88,
   "metadata": {},
   "outputs": [
    {
     "data": {
      "text/html": [
       "<div>\n",
       "<style scoped>\n",
       "    .dataframe tbody tr th:only-of-type {\n",
       "        vertical-align: middle;\n",
       "    }\n",
       "\n",
       "    .dataframe tbody tr th {\n",
       "        vertical-align: top;\n",
       "    }\n",
       "\n",
       "    .dataframe thead th {\n",
       "        text-align: right;\n",
       "    }\n",
       "</style>\n",
       "<table border=\"1\" class=\"dataframe\">\n",
       "  <thead>\n",
       "    <tr style=\"text-align: right;\">\n",
       "      <th></th>\n",
       "      <th>model</th>\n",
       "      <th>f1</th>\n",
       "      <th>accuracy</th>\n",
       "      <th>roc_score</th>\n",
       "      <th>precision</th>\n",
       "    </tr>\n",
       "  </thead>\n",
       "  <tbody>\n",
       "    <tr>\n",
       "      <td>0</td>\n",
       "      <td>Decision Tree Validation Optimised</td>\n",
       "      <td>0.92558</td>\n",
       "      <td>0.93124</td>\n",
       "      <td>0.9311</td>\n",
       "      <td>0.993087</td>\n",
       "    </tr>\n",
       "  </tbody>\n",
       "</table>\n",
       "</div>"
      ],
      "text/plain": [
       "                                model       f1  accuracy  roc_score  precision\n",
       "0  Decision Tree Validation Optimised  0.92558   0.93124     0.9311   0.993087"
      ]
     },
     "execution_count": 88,
     "metadata": {},
     "output_type": "execute_result"
    }
   ],
   "source": [
    "Decision_Tree_Validation_Opt = calculate_performance_1(opt_model_tree, x_val, y_val, 'Decision Tree Validation Optimised')\n",
    "Decision_Tree_Validation_Opt"
   ]
  },
  {
   "cell_type": "code",
   "execution_count": 71,
   "metadata": {
    "scrolled": false
   },
   "outputs": [
    {
     "data": {
      "image/png": "[encoded data removed]",
      "text/plain": [
       "<Figure size 864x504 with 1 Axes>"
      ]
     },
     "metadata": {},
     "output_type": "display_data"
    }
   ],
   "source": [
    "plot_roc_curve_1(opt_model_tree, X_train, x_val, Y_train, y_val,\"Decision Tree\")"
   ]
  },
  {
   "cell_type": "markdown",
   "metadata": {},
   "source": [
    "# Evaluating all models performance"
   ]
  },
  {
   "cell_type": "markdown",
   "metadata": {},
   "source": [
    "Attaching below a snapshot of all the different variations of our models"
   ]
  },
  {
   "cell_type": "code",
   "execution_count": 102,
   "metadata": {},
   "outputs": [],
   "source": [
    "# concatenating all the results into a larger df\n",
    "eval_df = pd.concat([Decision_Tree_Validation_Opt,\n",
    "                    Decision_Tree_Tra_Opt,\n",
    "                    Naive_Bayes_Val_bow,\n",
    "                    Naive_Bayes_Tra_bow,\n",
    "                    naive_model_val,\n",
    "                    naive_model_train,\n",
    "                    Logistic_Reg_Training_Opt, \n",
    "                    Logistic_Reg_Validation_Opt,\n",
    "                    Logistic_Reg_Training,\n",
    "                    Logistic_Reg_Validation])"
   ]
  },
  {
   "cell_type": "code",
   "execution_count": 162,
   "metadata": {},
   "outputs": [
    {
     "data": {
      "text/html": [
       "<div>\n",
       "<style scoped>\n",
       "    .dataframe tbody tr th:only-of-type {\n",
       "        vertical-align: middle;\n",
       "    }\n",
       "\n",
       "    .dataframe tbody tr th {\n",
       "        vertical-align: top;\n",
       "    }\n",
       "\n",
       "    .dataframe thead th {\n",
       "        text-align: right;\n",
       "    }\n",
       "</style>\n",
       "<table border=\"1\" class=\"dataframe\">\n",
       "  <thead>\n",
       "    <tr style=\"text-align: right;\">\n",
       "      <th></th>\n",
       "      <th>model</th>\n",
       "      <th>f1</th>\n",
       "      <th>accuracy</th>\n",
       "      <th>roc_score</th>\n",
       "      <th>precision</th>\n",
       "    </tr>\n",
       "  </thead>\n",
       "  <tbody>\n",
       "    <tr>\n",
       "      <td>0</td>\n",
       "      <td>Decision Tree Validation Optimised</td>\n",
       "      <td>0.925580</td>\n",
       "      <td>0.931240</td>\n",
       "      <td>0.931100</td>\n",
       "      <td>0.993087</td>\n",
       "    </tr>\n",
       "    <tr>\n",
       "      <td>0</td>\n",
       "      <td>Decision Tree Training Optimised</td>\n",
       "      <td>0.929131</td>\n",
       "      <td>0.934658</td>\n",
       "      <td>0.934791</td>\n",
       "      <td>0.994385</td>\n",
       "    </tr>\n",
       "    <tr>\n",
       "      <td>0</td>\n",
       "      <td>Naive Bayes Validation (b-o-w)</td>\n",
       "      <td>0.794209</td>\n",
       "      <td>0.756281</td>\n",
       "      <td>0.758807</td>\n",
       "      <td>0.680800</td>\n",
       "    </tr>\n",
       "    <tr>\n",
       "      <td>0</td>\n",
       "      <td>Naive Bayes Training b-o-w</td>\n",
       "      <td>0.825409</td>\n",
       "      <td>0.792754</td>\n",
       "      <td>0.796797</td>\n",
       "      <td>0.702930</td>\n",
       "    </tr>\n",
       "    <tr>\n",
       "      <td>0</td>\n",
       "      <td>Naive Bayes Validation (tf-idf)</td>\n",
       "      <td>0.881919</td>\n",
       "      <td>0.876172</td>\n",
       "      <td>0.878681</td>\n",
       "      <td>0.832753</td>\n",
       "    </tr>\n",
       "    <tr>\n",
       "      <td>0</td>\n",
       "      <td>Naive Bayes Training (tf-idf)</td>\n",
       "      <td>0.925761</td>\n",
       "      <td>0.922899</td>\n",
       "      <td>0.926856</td>\n",
       "      <td>0.878366</td>\n",
       "    </tr>\n",
       "    <tr>\n",
       "      <td>0</td>\n",
       "      <td>Logistic Regression Training Optimised</td>\n",
       "      <td>0.995415</td>\n",
       "      <td>0.995498</td>\n",
       "      <td>0.999164</td>\n",
       "      <td>0.995830</td>\n",
       "    </tr>\n",
       "    <tr>\n",
       "      <td>0</td>\n",
       "      <td>Logistic Regression Validation Optimised</td>\n",
       "      <td>0.982696</td>\n",
       "      <td>0.983033</td>\n",
       "      <td>0.996584</td>\n",
       "      <td>0.989001</td>\n",
       "    </tr>\n",
       "    <tr>\n",
       "      <td>0</td>\n",
       "      <td>Logistic Regression Training</td>\n",
       "      <td>0.983148</td>\n",
       "      <td>0.983590</td>\n",
       "      <td>0.997736</td>\n",
       "      <td>0.992057</td>\n",
       "    </tr>\n",
       "    <tr>\n",
       "      <td>0</td>\n",
       "      <td>Logistic Regression Validation</td>\n",
       "      <td>0.973551</td>\n",
       "      <td>0.974252</td>\n",
       "      <td>0.995979</td>\n",
       "      <td>0.986981</td>\n",
       "    </tr>\n",
       "  </tbody>\n",
       "</table>\n",
       "</div>"
      ],
      "text/plain": [
       "                                      model        f1  accuracy  roc_score  \\\n",
       "0        Decision Tree Validation Optimised  0.925580  0.931240   0.931100   \n",
       "0          Decision Tree Training Optimised  0.929131  0.934658   0.934791   \n",
       "0            Naive Bayes Validation (b-o-w)  0.794209  0.756281   0.758807   \n",
       "0                Naive Bayes Training b-o-w  0.825409  0.792754   0.796797   \n",
       "0           Naive Bayes Validation (tf-idf)  0.881919  0.876172   0.878681   \n",
       "0             Naive Bayes Training (tf-idf)  0.925761  0.922899   0.926856   \n",
       "0    Logistic Regression Training Optimised  0.995415  0.995498   0.999164   \n",
       "0  Logistic Regression Validation Optimised  0.982696  0.983033   0.996584   \n",
       "0              Logistic Regression Training  0.983148  0.983590   0.997736   \n",
       "0            Logistic Regression Validation  0.973551  0.974252   0.995979   \n",
       "\n",
       "   precision  \n",
       "0   0.993087  \n",
       "0   0.994385  \n",
       "0   0.680800  \n",
       "0   0.702930  \n",
       "0   0.832753  \n",
       "0   0.878366  \n",
       "0   0.995830  \n",
       "0   0.989001  \n",
       "0   0.992057  \n",
       "0   0.986981  "
      ]
     },
     "execution_count": 162,
     "metadata": {},
     "output_type": "execute_result"
    }
   ],
   "source": [
    "# visualising all scores\n",
    "eval_df"
   ]
  },
  {
   "cell_type": "markdown",
   "metadata": {},
   "source": [
    "Logistic Regression Optimised performs better than all the other models from any metrics perspective with a final **98.2** f-1 score on the validation set.\n",
    "\n",
    "\n",
    "All things considered I have seen that for the time being the best model seems to be a Logistic Regression with value C = 10.\n",
    "Retraning the model on the whole training set instead of having the model trained on subsets of the stratified k-fold object.\n",
    "\n"
   ]
  },
  {
   "cell_type": "code",
   "execution_count": 32,
   "metadata": {},
   "outputs": [],
   "source": [
    "# instatiating Logistic Regression with the best params\n",
    "log_model_best = LogisticRegression(C = 10, random_state=1006)"
   ]
  },
  {
   "cell_type": "code",
   "execution_count": 33,
   "metadata": {},
   "outputs": [
    {
     "data": {
      "text/plain": [
       "LogisticRegression(C=10, class_weight=None, dual=False, fit_intercept=True,\n",
       "                   intercept_scaling=1, l1_ratio=None, max_iter=100,\n",
       "                   multi_class='warn', n_jobs=None, penalty='l2',\n",
       "                   random_state=1006, solver='warn', tol=0.0001, verbose=0,\n",
       "                   warm_start=False)"
      ]
     },
     "execution_count": 33,
     "metadata": {},
     "output_type": "execute_result"
    }
   ],
   "source": [
    "# fitting the logistic regression\n",
    "log_model_best.fit(X_train, Y_train)"
   ]
  },
  {
   "cell_type": "markdown",
   "metadata": {},
   "source": [
    "Another useful feature of Logistic Regression is the possibility of actually displaying the coefficients of the algorithm which should give an insight into what words are the most relevant in our classifier to differentiate positive from negative Tweets."
   ]
  },
  {
   "cell_type": "code",
   "execution_count": 109,
   "metadata": {},
   "outputs": [],
   "source": [
    "coefficients = pd.concat([pd.DataFrame(X_train.columns),pd.DataFrame(np.transpose(log_model_best.coef_))], axis = 1)"
   ]
  },
  {
   "cell_type": "code",
   "execution_count": 113,
   "metadata": {},
   "outputs": [],
   "source": [
    "coefficients.columns=['word', 'coef']"
   ]
  },
  {
   "cell_type": "code",
   "execution_count": 126,
   "metadata": {
    "scrolled": true
   },
   "outputs": [],
   "source": [
    "coefficients.sort_values(by='coef', ascending=False, inplace=True)\n",
    "coefficients = coefficients[:25]\n"
   ]
  },
  {
   "cell_type": "code",
   "execution_count": 136,
   "metadata": {
    "scrolled": true
   },
   "outputs": [
    {
     "data": {
      "text/html": [
       "<div>\n",
       "<style scoped>\n",
       "    .dataframe tbody tr th:only-of-type {\n",
       "        vertical-align: middle;\n",
       "    }\n",
       "\n",
       "    .dataframe tbody tr th {\n",
       "        vertical-align: top;\n",
       "    }\n",
       "\n",
       "    .dataframe thead th {\n",
       "        text-align: right;\n",
       "    }\n",
       "</style>\n",
       "<table border=\"1\" class=\"dataframe\">\n",
       "  <thead>\n",
       "    <tr style=\"text-align: right;\">\n",
       "      <th></th>\n",
       "      <th>index</th>\n",
       "      <th>word</th>\n",
       "      <th>coef</th>\n",
       "    </tr>\n",
       "  </thead>\n",
       "  <tbody>\n",
       "    <tr>\n",
       "      <td>0</td>\n",
       "      <td>717</td>\n",
       "      <td>bitch</td>\n",
       "      <td>45.103282</td>\n",
       "    </tr>\n",
       "    <tr>\n",
       "      <td>1</td>\n",
       "      <td>3768</td>\n",
       "      <td>hoe</td>\n",
       "      <td>31.698257</td>\n",
       "    </tr>\n",
       "    <tr>\n",
       "      <td>2</td>\n",
       "      <td>6412</td>\n",
       "      <td>pussy</td>\n",
       "      <td>26.069221</td>\n",
       "    </tr>\n",
       "    <tr>\n",
       "      <td>3</td>\n",
       "      <td>2661</td>\n",
       "      <td>faggot</td>\n",
       "      <td>18.334207</td>\n",
       "    </tr>\n",
       "    <tr>\n",
       "      <td>4</td>\n",
       "      <td>6713</td>\n",
       "      <td>retard</td>\n",
       "      <td>16.372071</td>\n",
       "    </tr>\n",
       "    <tr>\n",
       "      <td>5</td>\n",
       "      <td>5683</td>\n",
       "      <td>nigger</td>\n",
       "      <td>16.304946</td>\n",
       "    </tr>\n",
       "    <tr>\n",
       "      <td>6</td>\n",
       "      <td>8170</td>\n",
       "      <td>trash</td>\n",
       "      <td>16.059374</td>\n",
       "    </tr>\n",
       "    <tr>\n",
       "      <td>7</td>\n",
       "      <td>1859</td>\n",
       "      <td>cunt</td>\n",
       "      <td>14.667797</td>\n",
       "    </tr>\n",
       "    <tr>\n",
       "      <td>8</td>\n",
       "      <td>2658</td>\n",
       "      <td>fag</td>\n",
       "      <td>14.573277</td>\n",
       "    </tr>\n",
       "    <tr>\n",
       "      <td>9</td>\n",
       "      <td>5664</td>\n",
       "      <td>niggah</td>\n",
       "      <td>14.171840</td>\n",
       "    </tr>\n",
       "    <tr>\n",
       "      <td>10</td>\n",
       "      <td>3210</td>\n",
       "      <td>ghetto</td>\n",
       "      <td>12.354699</td>\n",
       "    </tr>\n",
       "    <tr>\n",
       "      <td>11</td>\n",
       "      <td>5615</td>\n",
       "      <td>nig</td>\n",
       "      <td>11.712657</td>\n",
       "    </tr>\n",
       "    <tr>\n",
       "      <td>12</td>\n",
       "      <td>6475</td>\n",
       "      <td>queer</td>\n",
       "      <td>11.704335</td>\n",
       "    </tr>\n",
       "    <tr>\n",
       "      <td>13</td>\n",
       "      <td>5601</td>\n",
       "      <td>nicca</td>\n",
       "      <td>11.365303</td>\n",
       "    </tr>\n",
       "    <tr>\n",
       "      <td>14</td>\n",
       "      <td>6622</td>\n",
       "      <td>redneck</td>\n",
       "      <td>11.259217</td>\n",
       "    </tr>\n",
       "    <tr>\n",
       "      <td>15</td>\n",
       "      <td>5604</td>\n",
       "      <td>niccas</td>\n",
       "      <td>10.916660</td>\n",
       "    </tr>\n",
       "    <tr>\n",
       "      <td>16</td>\n",
       "      <td>6715</td>\n",
       "      <td>retarded</td>\n",
       "      <td>10.734667</td>\n",
       "    </tr>\n",
       "    <tr>\n",
       "      <td>17</td>\n",
       "      <td>2420</td>\n",
       "      <td>dyke</td>\n",
       "      <td>9.960452</td>\n",
       "    </tr>\n",
       "    <tr>\n",
       "      <td>18</td>\n",
       "      <td>5687</td>\n",
       "      <td>nigguh</td>\n",
       "      <td>9.939258</td>\n",
       "    </tr>\n",
       "    <tr>\n",
       "      <td>19</td>\n",
       "      <td>1747</td>\n",
       "      <td>coon</td>\n",
       "      <td>9.003668</td>\n",
       "    </tr>\n",
       "    <tr>\n",
       "      <td>20</td>\n",
       "      <td>8749</td>\n",
       "      <td>whitey</td>\n",
       "      <td>8.781060</td>\n",
       "    </tr>\n",
       "    <tr>\n",
       "      <td>21</td>\n",
       "      <td>1795</td>\n",
       "      <td>cracker</td>\n",
       "      <td>8.408101</td>\n",
       "    </tr>\n",
       "    <tr>\n",
       "      <td>22</td>\n",
       "      <td>5529</td>\n",
       "      <td>negro</td>\n",
       "      <td>8.331394</td>\n",
       "    </tr>\n",
       "    <tr>\n",
       "      <td>23</td>\n",
       "      <td>8258</td>\n",
       "      <td>twat</td>\n",
       "      <td>8.084398</td>\n",
       "    </tr>\n",
       "    <tr>\n",
       "      <td>24</td>\n",
       "      <td>5698</td>\n",
       "      <td>nigs</td>\n",
       "      <td>8.009477</td>\n",
       "    </tr>\n",
       "  </tbody>\n",
       "</table>\n",
       "</div>"
      ],
      "text/plain": [
       "    index      word       coef\n",
       "0     717     bitch  45.103282\n",
       "1    3768       hoe  31.698257\n",
       "2    6412     pussy  26.069221\n",
       "3    2661    faggot  18.334207\n",
       "4    6713    retard  16.372071\n",
       "5    5683    nigger  16.304946\n",
       "6    8170     trash  16.059374\n",
       "7    1859      cunt  14.667797\n",
       "8    2658       fag  14.573277\n",
       "9    5664    niggah  14.171840\n",
       "10   3210    ghetto  12.354699\n",
       "11   5615       nig  11.712657\n",
       "12   6475     queer  11.704335\n",
       "13   5601     nicca  11.365303\n",
       "14   6622   redneck  11.259217\n",
       "15   5604    niccas  10.916660\n",
       "16   6715  retarded  10.734667\n",
       "17   2420      dyke   9.960452\n",
       "18   5687    nigguh   9.939258\n",
       "19   1747      coon   9.003668\n",
       "20   8749    whitey   8.781060\n",
       "21   1795   cracker   8.408101\n",
       "22   5529     negro   8.331394\n",
       "23   8258      twat   8.084398\n",
       "24   5698      nigs   8.009477"
      ]
     },
     "execution_count": 136,
     "metadata": {},
     "output_type": "execute_result"
    }
   ],
   "source": [
    "coefficients.reset_index()"
   ]
  },
  {
   "cell_type": "code",
   "execution_count": 156,
   "metadata": {
    "scrolled": false
   },
   "outputs": [
    {
     "data": {
      "image/png": "[encoded data removed]",
      "text/plain": [
       "<Figure size 1152x864 with 1 Axes>"
      ]
     },
     "metadata": {},
     "output_type": "display_data"
    }
   ],
   "source": [
    "plt.figure(figsize=(16,12))\n",
    "sns.barplot(coefficients['coef'],\n",
    "            coefficients['word'], \n",
    "            orient = 'h',\n",
    "            palette= 'GnBu_d'\n",
    "            )\n",
    "\n",
    "plt.xticks(fontsize=15)\n",
    "plt.yticks(fontsize=18)\n",
    "plt.xlabel('Logistic Regression Coefficient',fontsize=20)\n",
    "plt.ylabel('Words',fontsize=20)\n",
    "plt.title('Top 20 Words Logistic Regression Coefficients',fontsize=30)\n",
    "plt.show()"
   ]
  },
  {
   "cell_type": "markdown",
   "metadata": {},
   "source": [
    "# Testing Winning Model on Test Set"
   ]
  },
  {
   "cell_type": "code",
   "execution_count": 55,
   "metadata": {},
   "outputs": [],
   "source": [
    "y_hat_log = log_model_best.predict(x_test)"
   ]
  },
  {
   "cell_type": "code",
   "execution_count": 56,
   "metadata": {},
   "outputs": [
    {
     "data": {
      "text/plain": [
       "array([[4280,   27],\n",
       "       [  75, 4017]])"
      ]
     },
     "execution_count": 56,
     "metadata": {},
     "output_type": "execute_result"
    }
   ],
   "source": [
    "cm = confusion_matrix(y_test, y_hat_log)"
   ]
  },
  {
   "cell_type": "code",
   "execution_count": 85,
   "metadata": {
    "scrolled": false
   },
   "outputs": [
    {
     "data": {
      "text/html": [
       "<div>\n",
       "<style scoped>\n",
       "    .dataframe tbody tr th:only-of-type {\n",
       "        vertical-align: middle;\n",
       "    }\n",
       "\n",
       "    .dataframe tbody tr th {\n",
       "        vertical-align: top;\n",
       "    }\n",
       "\n",
       "    .dataframe thead th {\n",
       "        text-align: right;\n",
       "    }\n",
       "</style>\n",
       "<table border=\"1\" class=\"dataframe\">\n",
       "  <thead>\n",
       "    <tr style=\"text-align: right;\">\n",
       "      <th></th>\n",
       "      <th>model</th>\n",
       "      <th>f1</th>\n",
       "      <th>accuracy</th>\n",
       "      <th>roc_score</th>\n",
       "      <th>precision</th>\n",
       "    </tr>\n",
       "  </thead>\n",
       "  <tbody>\n",
       "    <tr>\n",
       "      <td>0</td>\n",
       "      <td>Test Set Logistic Regression Winning Model</td>\n",
       "      <td>0.987463</td>\n",
       "      <td>0.987856</td>\n",
       "      <td>0.997712</td>\n",
       "      <td>0.993323</td>\n",
       "    </tr>\n",
       "  </tbody>\n",
       "</table>\n",
       "</div>"
      ],
      "text/plain": [
       "                                        model        f1  accuracy  roc_score  \\\n",
       "0  Test Set Logistic Regression Winning Model  0.987463  0.987856   0.997712   \n",
       "\n",
       "   precision  \n",
       "0   0.993323  "
      ]
     },
     "execution_count": 85,
     "metadata": {},
     "output_type": "execute_result"
    }
   ],
   "source": [
    "calculate_performance_1(log_model_best, x_test, y_test, 'Test Set Logistic Regression Winning Model')"
   ]
  },
  {
   "cell_type": "markdown",
   "metadata": {},
   "source": [
    "Finally, we pickle the best performing model to be used on unseen Tweets in the following sections."
   ]
  },
  {
   "cell_type": "code",
   "execution_count": 72,
   "metadata": {},
   "outputs": [],
   "source": [
    "# instatiating the Logistic Regression\n",
    "# log_model_best = LogisticRegression(C = 10, random_state=1006)"
   ]
  },
  {
   "cell_type": "code",
   "execution_count": 73,
   "metadata": {},
   "outputs": [],
   "source": [
    "# fitting the logistic regression\n",
    "# log_model_best.fit(X_train, Y_train)"
   ]
  },
  {
   "cell_type": "code",
   "execution_count": 158,
   "metadata": {},
   "outputs": [
    {
     "data": {
      "text/plain": [
       "LogisticRegression(C=10, class_weight=None, dual=False, fit_intercept=True,\n",
       "                   intercept_scaling=1, l1_ratio=None, max_iter=100,\n",
       "                   multi_class='warn', n_jobs=None, penalty='l2',\n",
       "                   random_state=1006, solver='warn', tol=0.0001, verbose=0,\n",
       "                   warm_start=False)"
      ]
     },
     "execution_count": 158,
     "metadata": {},
     "output_type": "execute_result"
    }
   ],
   "source": [
    "log_model_best"
   ]
  },
  {
   "cell_type": "code",
   "execution_count": 159,
   "metadata": {},
   "outputs": [],
   "source": [
    "# from joblib import dump, load\n",
    "\n",
    "# pickle_log_model = open('best_log_model', 'wb')\n",
    "# pickle.dump(log_model_best, pickle_log_model )"
   ]
  },
  {
   "cell_type": "markdown",
   "metadata": {},
   "source": [
    "dump(log_model_best, 'filename.joblib')"
   ]
  },
  {
   "cell_type": "code",
   "execution_count": 160,
   "metadata": {},
   "outputs": [
    {
     "data": {
      "text/plain": [
       "['final_model']"
      ]
     },
     "execution_count": 160,
     "metadata": {},
     "output_type": "execute_result"
    }
   ],
   "source": [
    "dump(log_model_best, 'final_model')"
   ]
  },
  {
   "cell_type": "code",
   "execution_count": null,
   "metadata": {},
   "outputs": [],
   "source": []
  }
 ],
 "metadata": {
  "kernelspec": {
   "display_name": "Python 3",
   "language": "python",
   "name": "python3"
  },
  "language_info": {
   "codemirror_mode": {
    "name": "ipython",
    "version": 3
   },
   "file_extension": ".py",
   "mimetype": "text/x-python",
   "name": "python",
   "nbconvert_exporter": "python",
   "pygments_lexer": "ipython3",
   "version": "3.7.4"
  }
 },
 "nbformat": 4,
 "nbformat_minor": 2
}
