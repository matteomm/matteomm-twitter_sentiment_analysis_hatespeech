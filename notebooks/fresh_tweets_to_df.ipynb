{
 "cells": [
  {
   "cell_type": "markdown",
   "metadata": {},
   "source": [
    "***Viewers are warned that this notebook contains content that is offensive and objectionable***\n",
    "\n",
    "This notebook has the main purpose to make a call to my local MySQL database and import all the tweets that have been collected from the Twitter API in the last 300 minutes.\n",
    "\n",
    "After that, these fresh tweets go exactly through the same process that all the tweets for the training of the model have also gone through.\n",
    "\n",
    "Attaching below all the steps mimicking the previous pre-processing for the offline 40000 tweets:\n",
    "\n",
    "- Lemmatization with part-of-speech\n",
    "- Removal of stopwords and words shorter than 3 characters\n",
    "- Lowering of all words \n",
    "- tf-idf vectorization using the pickled fitted matrix made out of the 9000 most important words\n",
    "\n",
    "At this point, the final winning model is recalled and predictions are made on the newly collected tweets.\n",
    "\n",
    "Threshold selection is applied only at this stage whereby we are telling the model to deem as offensive only tweets with 90%+ chance of being offensive. This has been done because the whole model is based purely on tf-idf guesses and context is not something this algorithm really deals well with. Selecting such a high threshold will ensure that only messages with very strong content get deemed as offensive. Building a model better at picking up the nuances of context is something that can be achieved with a RNN model or by using pre-trained word embeddings such as word2vec and Glove. This is some of the areas this projects can be improved on. \n",
    "\n",
    "Tweets are called from the local MySQL every 4 hours and a new csv with all the fresh tweets is sent to another git repo responsible for the final processing and uploading of updated findings onto Heroku.\n",
    "\n",
    "    "
   ]
  },
  {
   "cell_type": "code",
   "execution_count": null,
   "metadata": {},
   "outputs": [],
   "source": [
    "import pandas as pd\n",
    "import numpy as np\n",
    "import matplotlib.pyplot as plt \n",
    "from datetime import datetime, timedelta\n",
    "import seaborn as sns\n",
    "import re\n",
    "import nltk\n",
    "import pickle\n",
    "from joblib import dump, load\n",
    "from datetime import date\n",
    "\n",
    "import os\n",
    "from sklearn.metrics import accuracy_score,roc_auc_score, f1_score, recall_score\n",
    "from sklearn.metrics import  roc_curve, confusion_matrix, precision_score\n",
    "\n",
    "from nltk.corpus import stopwords\n",
    "from nltk.tokenize import TweetTokenizer\n",
    "from sklearn.feature_extraction.text import TfidfVectorizer\n",
    "\n",
    "from sklearn.model_selection import train_test_split\n",
    "\n",
    "from keras.preprocessing.sequence import pad_sequences\n",
    "from keras.preprocessing.text import Tokenizer\n",
    "\n",
    "# function to make n-grams\n",
    "from nltk.util import ngrams \n",
    "from nltk import everygrams\n",
    "import streamlit as st\n",
    "\n",
    "from sklearn.feature_extraction.text import TfidfVectorizer\n",
    "\n",
    "import warnings\n",
    "warnings.filterwarnings('ignore') \n",
    "# %matplotlib inline\n",
    "\n",
    "# connection to the MySQL local database\n",
    "import mysql.connector\n",
    "\n",
    "# importing cusstom functions\n",
    "from functions.custom_function_5 import tokenize_tweet\n",
    "from functions.custom_function_5 import get_tokens_frequency_df\n",
    "from functions.custom_function_5 import plot_word_cloud\n",
    "from functions.custom_function_5 import clean_text\n",
    "from functions.custom_function_5 import lemmatize_sentence"
   ]
  },
  {
   "cell_type": "code",
   "execution_count": 16,
   "metadata": {},
   "outputs": [],
   "source": [
    "# increasing max length for all columns and number of columns\n",
    "pd.set_option('display.max_colwidth', -1)\n",
    "pd.set_option(\"display.max_columns\", 50)\n",
    "\n",
    "pd.set_option('display.max_info_columns', 500)\n",
    "pd.set_option('display.max_rows', 500)"
   ]
  },
  {
   "cell_type": "markdown",
   "metadata": {},
   "source": [
    "In the next cell, a connection with the local databse where all the fresh Tweets are stored is established."
   ]
  },
  {
   "cell_type": "code",
   "execution_count": 17,
   "metadata": {},
   "outputs": [],
   "source": [
    "db = mysql.connector.connect(\n",
    "    host=\"localhost\",\n",
    "    user=\"root\",\n",
    "    passwd=\"password\",\n",
    "    database=\"twitter_2\",\n",
    "    charset = 'utf8'\n",
    " )\n"
   ]
  },
  {
   "cell_type": "code",
   "execution_count": 18,
   "metadata": {},
   "outputs": [
    {
     "name": "stdout",
     "output_type": "stream",
     "text": [
      "('twitter_2',)\n"
     ]
    }
   ],
   "source": [
    "# check that it's connected\n",
    "mycursor = db.cursor()\n",
    "mycursor.execute(\"SHOW TABLES\")\n",
    "\n",
    "for x in mycursor:\n",
    "    print(x)\n",
    "    "
   ]
  },
  {
   "cell_type": "markdown",
   "metadata": {},
   "source": [
    "Here the present time and the delta of 300 minutes is created so that only Tweets from the last 300 minutes are pulled in the dataframe."
   ]
  },
  {
   "cell_type": "code",
   "execution_count": 19,
   "metadata": {},
   "outputs": [
    {
     "data": {
      "text/plain": [
       "'2020-05-26 12:07:46'"
      ]
     },
     "execution_count": 19,
     "metadata": {},
     "output_type": "execute_result"
    }
   ],
   "source": [
    "time_now = datetime.now()\n",
    "time_now.strftime('%Y-%m-%d %H:%M:%S')"
   ]
  },
  {
   "cell_type": "code",
   "execution_count": 23,
   "metadata": {},
   "outputs": [
    {
     "data": {
      "text/plain": [
       "datetime.timedelta(seconds=12000)"
      ]
     },
     "execution_count": 23,
     "metadata": {},
     "output_type": "execute_result"
    }
   ],
   "source": [
    "time_300mins_before = timedelta(hours=0,minutes=200)\n",
    "time_300mins_before"
   ]
  },
  {
   "cell_type": "code",
   "execution_count": 24,
   "metadata": {},
   "outputs": [
    {
     "data": {
      "text/plain": [
       "'2020-05-26 08:47:46'"
      ]
     },
     "execution_count": 24,
     "metadata": {},
     "output_type": "execute_result"
    }
   ],
   "source": [
    "time_interval = time_now - time_300mins_before\n",
    "time_interval.strftime('%Y-%m-%d %H:%M:%S')"
   ]
  },
  {
   "cell_type": "code",
   "execution_count": 25,
   "metadata": {},
   "outputs": [],
   "source": [
    "# load data in the last 1 hour\n",
    "query = \"SELECT id_str, created_at, text, processed FROM twitter_2 WHERE created_at >= '{}'\"     \\\n",
    "        .format(time_interval)\n",
    "\n",
    "df = pd.read_sql(query, con=db)"
   ]
  },
  {
   "cell_type": "code",
   "execution_count": 26,
   "metadata": {},
   "outputs": [],
   "source": [
    "# UTC for date time at default\n",
    "df['created_at'] = pd.to_datetime(df['created_at'])"
   ]
  },
  {
   "cell_type": "code",
   "execution_count": 27,
   "metadata": {
    "scrolled": true
   },
   "outputs": [
    {
     "data": {
      "text/html": [
       "<div>\n",
       "<style scoped>\n",
       "    .dataframe tbody tr th:only-of-type {\n",
       "        vertical-align: middle;\n",
       "    }\n",
       "\n",
       "    .dataframe tbody tr th {\n",
       "        vertical-align: top;\n",
       "    }\n",
       "\n",
       "    .dataframe thead th {\n",
       "        text-align: right;\n",
       "    }\n",
       "</style>\n",
       "<table border=\"1\" class=\"dataframe\">\n",
       "  <thead>\n",
       "    <tr style=\"text-align: right;\">\n",
       "      <th></th>\n",
       "      <th>id_str</th>\n",
       "      <th>created_at</th>\n",
       "      <th>text</th>\n",
       "      <th>processed</th>\n",
       "    </tr>\n",
       "  </thead>\n",
       "  <tbody>\n",
       "    <tr>\n",
       "      <td>0</td>\n",
       "      <td>1265237759049920513</td>\n",
       "      <td>2020-05-26 11:06:03</td>\n",
       "      <td>#Tokyo started a new normal way of life on Tuesday after lifting its health alert for the #coronavirus pandemic. https://t.co/GMkpSOMkhk</td>\n",
       "      <td>-1</td>\n",
       "    </tr>\n",
       "    <tr>\n",
       "      <td>1</td>\n",
       "      <td>1265237759821844486</td>\n",
       "      <td>2020-05-26 11:06:03</td>\n",
       "      <td>RT @KOKO_TV: Nigerians Reacts To Empty Kano Isolation Centre Despite Huge Figure Of COVID-19 Cases. https://t.co/IeqD1u4luU #StopCovidLies</td>\n",
       "      <td>-1</td>\n",
       "    </tr>\n",
       "    <tr>\n",
       "      <td>2</td>\n",
       "      <td>1265237761038192641</td>\n",
       "      <td>2020-05-26 11:06:03</td>\n",
       "      <td>RT @FACLTD: Were receiving multiple enquiries from from businesses regarding non contact temperature monitoring as part of lockdown releas</td>\n",
       "      <td>-1</td>\n",
       "    </tr>\n",
       "    <tr>\n",
       "      <td>3</td>\n",
       "      <td>1265237762531262466</td>\n",
       "      <td>2020-05-26 11:06:04</td>\n",
       "      <td>RT @McauleyHolmes: Staten Islanders with masks drive out non-mask wearing person in grocery store. #Coronavirus https://t.co/iPQwk7lD9y</td>\n",
       "      <td>-1</td>\n",
       "    </tr>\n",
       "    <tr>\n",
       "      <td>4</td>\n",
       "      <td>1265237762543763457</td>\n",
       "      <td>2020-05-26 11:06:04</td>\n",
       "      <td>RT @cryborg: Idk about you?\\nDid we go to all this trouble (to stop the spread of #coronavirus) just to turn around and let these brainwashe</td>\n",
       "      <td>-1</td>\n",
       "    </tr>\n",
       "  </tbody>\n",
       "</table>\n",
       "</div>"
      ],
      "text/plain": [
       "                id_str          created_at  \\\n",
       "0  1265237759049920513 2020-05-26 11:06:03   \n",
       "1  1265237759821844486 2020-05-26 11:06:03   \n",
       "2  1265237761038192641 2020-05-26 11:06:03   \n",
       "3  1265237762531262466 2020-05-26 11:06:04   \n",
       "4  1265237762543763457 2020-05-26 11:06:04   \n",
       "\n",
       "                                                                                                                                           text  \\\n",
       "0  #Tokyo started a new normal way of life on Tuesday after lifting its health alert for the #coronavirus pandemic. https://t.co/GMkpSOMkhk       \n",
       "1  RT @KOKO_TV: Nigerians Reacts To Empty Kano Isolation Centre Despite Huge Figure Of COVID-19 Cases. https://t.co/IeqD1u4luU #StopCovidLies     \n",
       "2  RT @FACLTD: Were receiving multiple enquiries from from businesses regarding non contact temperature monitoring as part of lockdown releas     \n",
       "3  RT @McauleyHolmes: Staten Islanders with masks drive out non-mask wearing person in grocery store. #Coronavirus https://t.co/iPQwk7lD9y        \n",
       "4  RT @cryborg: Idk about you?\\nDid we go to all this trouble (to stop the spread of #coronavirus) just to turn around and let these brainwashe   \n",
       "\n",
       "   processed  \n",
       "0 -1          \n",
       "1 -1          \n",
       "2 -1          \n",
       "3 -1          \n",
       "4 -1          "
      ]
     },
     "execution_count": 27,
     "metadata": {},
     "output_type": "execute_result"
    }
   ],
   "source": [
    "df.head(5)"
   ]
  },
  {
   "cell_type": "code",
   "execution_count": 28,
   "metadata": {},
   "outputs": [
    {
     "data": {
      "text/plain": [
       "176"
      ]
     },
     "execution_count": 28,
     "metadata": {},
     "output_type": "execute_result"
    }
   ],
   "source": [
    "len(df)"
   ]
  },
  {
   "cell_type": "markdown",
   "metadata": {},
   "source": [
    "A separate function has been created so that all the preproccesing steps are also applied to the fresh Tweets."
   ]
  },
  {
   "cell_type": "code",
   "execution_count": 29,
   "metadata": {},
   "outputs": [],
   "source": [
    "df['text'] = df['text'].apply(clean_text)"
   ]
  },
  {
   "cell_type": "code",
   "execution_count": 30,
   "metadata": {},
   "outputs": [],
   "source": [
    "# also getting rid of all words shorter than 3 characters\n",
    "df['tweet_more_2_charac'] = df['text'].apply(lambda x: ' '.join([word for word in x.split() if len(word)>2]))"
   ]
  },
  {
   "cell_type": "code",
   "execution_count": 31,
   "metadata": {},
   "outputs": [
    {
     "data": {
      "text/html": [
       "<div>\n",
       "<style scoped>\n",
       "    .dataframe tbody tr th:only-of-type {\n",
       "        vertical-align: middle;\n",
       "    }\n",
       "\n",
       "    .dataframe tbody tr th {\n",
       "        vertical-align: top;\n",
       "    }\n",
       "\n",
       "    .dataframe thead th {\n",
       "        text-align: right;\n",
       "    }\n",
       "</style>\n",
       "<table border=\"1\" class=\"dataframe\">\n",
       "  <thead>\n",
       "    <tr style=\"text-align: right;\">\n",
       "      <th></th>\n",
       "      <th>id_str</th>\n",
       "      <th>created_at</th>\n",
       "      <th>text</th>\n",
       "      <th>processed</th>\n",
       "      <th>tweet_more_2_charac</th>\n",
       "    </tr>\n",
       "  </thead>\n",
       "  <tbody>\n",
       "    <tr>\n",
       "      <td>0</td>\n",
       "      <td>1265237759049920513</td>\n",
       "      <td>2020-05-26 11:06:03</td>\n",
       "      <td>#Tokyo started a new normal way of life on Tuesday after lifting its health alert for the #coronavirus pandemic</td>\n",
       "      <td>-1</td>\n",
       "      <td>#Tokyo started new normal way life Tuesday after lifting its health alert for the #coronavirus pandemic</td>\n",
       "    </tr>\n",
       "    <tr>\n",
       "      <td>1</td>\n",
       "      <td>1265237759821844486</td>\n",
       "      <td>2020-05-26 11:06:03</td>\n",
       "      <td>RT   Nigerians Reacts To Empty Kano Isolation Centre Despite Huge Figure Of COVID    Cases   #StopCovidLies</td>\n",
       "      <td>-1</td>\n",
       "      <td>Nigerians Reacts Empty Kano Isolation Centre Despite Huge Figure COVID Cases #StopCovidLies</td>\n",
       "    </tr>\n",
       "    <tr>\n",
       "      <td>2</td>\n",
       "      <td>1265237761038192641</td>\n",
       "      <td>2020-05-26 11:06:03</td>\n",
       "      <td>RT   Were receiving multiple enquiries from from businesses regarding non contact temperature monitoring as part of lockdown releas</td>\n",
       "      <td>-1</td>\n",
       "      <td>Were receiving multiple enquiries from from businesses regarding non contact temperature monitoring part lockdown releas</td>\n",
       "    </tr>\n",
       "    <tr>\n",
       "      <td>3</td>\n",
       "      <td>1265237762531262466</td>\n",
       "      <td>2020-05-26 11:06:04</td>\n",
       "      <td>RT   Staten Islanders with masks drive out non mask wearing person in grocery store  #Coronavirus</td>\n",
       "      <td>-1</td>\n",
       "      <td>Staten Islanders with masks drive out non mask wearing person grocery store #Coronavirus</td>\n",
       "    </tr>\n",
       "    <tr>\n",
       "      <td>4</td>\n",
       "      <td>1265237762543763457</td>\n",
       "      <td>2020-05-26 11:06:04</td>\n",
       "      <td>RT   Idk about you  Did we go to all this trouble  to stop the spread of #coronavirus  just to turn around and let these brainwashe</td>\n",
       "      <td>-1</td>\n",
       "      <td>Idk about you Did all this trouble stop the spread #coronavirus just turn around and let these brainwashe</td>\n",
       "    </tr>\n",
       "  </tbody>\n",
       "</table>\n",
       "</div>"
      ],
      "text/plain": [
       "                id_str          created_at  \\\n",
       "0  1265237759049920513 2020-05-26 11:06:03   \n",
       "1  1265237759821844486 2020-05-26 11:06:03   \n",
       "2  1265237761038192641 2020-05-26 11:06:03   \n",
       "3  1265237762531262466 2020-05-26 11:06:04   \n",
       "4  1265237762543763457 2020-05-26 11:06:04   \n",
       "\n",
       "                                                                                                                                  text  \\\n",
       "0  #Tokyo started a new normal way of life on Tuesday after lifting its health alert for the #coronavirus pandemic                       \n",
       "1  RT   Nigerians Reacts To Empty Kano Isolation Centre Despite Huge Figure Of COVID    Cases   #StopCovidLies                           \n",
       "2  RT   Were receiving multiple enquiries from from businesses regarding non contact temperature monitoring as part of lockdown releas   \n",
       "3  RT   Staten Islanders with masks drive out non mask wearing person in grocery store  #Coronavirus                                     \n",
       "4  RT   Idk about you  Did we go to all this trouble  to stop the spread of #coronavirus  just to turn around and let these brainwashe   \n",
       "\n",
       "   processed  \\\n",
       "0 -1           \n",
       "1 -1           \n",
       "2 -1           \n",
       "3 -1           \n",
       "4 -1           \n",
       "\n",
       "                                                                                                        tweet_more_2_charac  \n",
       "0  #Tokyo started new normal way life Tuesday after lifting its health alert for the #coronavirus pandemic                   \n",
       "1  Nigerians Reacts Empty Kano Isolation Centre Despite Huge Figure COVID Cases #StopCovidLies                               \n",
       "2  Were receiving multiple enquiries from from businesses regarding non contact temperature monitoring part lockdown releas  \n",
       "3  Staten Islanders with masks drive out non mask wearing person grocery store #Coronavirus                                  \n",
       "4  Idk about you Did all this trouble stop the spread #coronavirus just turn around and let these brainwashe                 "
      ]
     },
     "execution_count": 31,
     "metadata": {},
     "output_type": "execute_result"
    }
   ],
   "source": [
    "df.head(5)"
   ]
  },
  {
   "cell_type": "markdown",
   "metadata": {},
   "source": [
    "\n",
    "# Lemmatization with POS"
   ]
  },
  {
   "cell_type": "markdown",
   "metadata": {},
   "source": [
    "Applying lemmatization exaclty in the same way it has been done for the original dataset."
   ]
  },
  {
   "cell_type": "code",
   "execution_count": 32,
   "metadata": {},
   "outputs": [],
   "source": [
    "df['lemmatized'] = df['tweet_more_2_charac'].apply(lambda x: lemmatize_sentence(x))"
   ]
  },
  {
   "cell_type": "code",
   "execution_count": 33,
   "metadata": {
    "scrolled": true
   },
   "outputs": [
    {
     "data": {
      "text/html": [
       "<div>\n",
       "<style scoped>\n",
       "    .dataframe tbody tr th:only-of-type {\n",
       "        vertical-align: middle;\n",
       "    }\n",
       "\n",
       "    .dataframe tbody tr th {\n",
       "        vertical-align: top;\n",
       "    }\n",
       "\n",
       "    .dataframe thead th {\n",
       "        text-align: right;\n",
       "    }\n",
       "</style>\n",
       "<table border=\"1\" class=\"dataframe\">\n",
       "  <thead>\n",
       "    <tr style=\"text-align: right;\">\n",
       "      <th></th>\n",
       "      <th>id_str</th>\n",
       "      <th>created_at</th>\n",
       "      <th>text</th>\n",
       "      <th>processed</th>\n",
       "      <th>tweet_more_2_charac</th>\n",
       "      <th>lemmatized</th>\n",
       "    </tr>\n",
       "  </thead>\n",
       "  <tbody>\n",
       "    <tr>\n",
       "      <td>0</td>\n",
       "      <td>1265237759049920513</td>\n",
       "      <td>2020-05-26 11:06:03</td>\n",
       "      <td>#Tokyo started a new normal way of life on Tuesday after lifting its health alert for the #coronavirus pandemic</td>\n",
       "      <td>-1</td>\n",
       "      <td>#Tokyo started new normal way life Tuesday after lifting its health alert for the #coronavirus pandemic</td>\n",
       "      <td># Tokyo start new normal way life Tuesday after lift its health alert for the # coronavirus pandemic</td>\n",
       "    </tr>\n",
       "    <tr>\n",
       "      <td>1</td>\n",
       "      <td>1265237759821844486</td>\n",
       "      <td>2020-05-26 11:06:03</td>\n",
       "      <td>RT   Nigerians Reacts To Empty Kano Isolation Centre Despite Huge Figure Of COVID    Cases   #StopCovidLies</td>\n",
       "      <td>-1</td>\n",
       "      <td>Nigerians Reacts Empty Kano Isolation Centre Despite Huge Figure COVID Cases #StopCovidLies</td>\n",
       "      <td>Nigerians Reacts Empty Kano Isolation Centre Despite Huge Figure COVID Cases # StopCovidLies</td>\n",
       "    </tr>\n",
       "    <tr>\n",
       "      <td>2</td>\n",
       "      <td>1265237761038192641</td>\n",
       "      <td>2020-05-26 11:06:03</td>\n",
       "      <td>RT   Were receiving multiple enquiries from from businesses regarding non contact temperature monitoring as part of lockdown releas</td>\n",
       "      <td>-1</td>\n",
       "      <td>Were receiving multiple enquiries from from businesses regarding non contact temperature monitoring part lockdown releas</td>\n",
       "      <td>Were receive multiple enquiry from from business regard non contact temperature monitor part lockdown releas</td>\n",
       "    </tr>\n",
       "    <tr>\n",
       "      <td>3</td>\n",
       "      <td>1265237762531262466</td>\n",
       "      <td>2020-05-26 11:06:04</td>\n",
       "      <td>RT   Staten Islanders with masks drive out non mask wearing person in grocery store  #Coronavirus</td>\n",
       "      <td>-1</td>\n",
       "      <td>Staten Islanders with masks drive out non mask wearing person grocery store #Coronavirus</td>\n",
       "      <td>Staten Islanders with mask drive out non mask wear person grocery store # Coronavirus</td>\n",
       "    </tr>\n",
       "    <tr>\n",
       "      <td>4</td>\n",
       "      <td>1265237762543763457</td>\n",
       "      <td>2020-05-26 11:06:04</td>\n",
       "      <td>RT   Idk about you  Did we go to all this trouble  to stop the spread of #coronavirus  just to turn around and let these brainwashe</td>\n",
       "      <td>-1</td>\n",
       "      <td>Idk about you Did all this trouble stop the spread #coronavirus just turn around and let these brainwashe</td>\n",
       "      <td>Idk about you Did all this trouble stop the spread # coronavirus just turn around and let these brainwashe</td>\n",
       "    </tr>\n",
       "  </tbody>\n",
       "</table>\n",
       "</div>"
      ],
      "text/plain": [
       "                id_str          created_at  \\\n",
       "0  1265237759049920513 2020-05-26 11:06:03   \n",
       "1  1265237759821844486 2020-05-26 11:06:03   \n",
       "2  1265237761038192641 2020-05-26 11:06:03   \n",
       "3  1265237762531262466 2020-05-26 11:06:04   \n",
       "4  1265237762543763457 2020-05-26 11:06:04   \n",
       "\n",
       "                                                                                                                                  text  \\\n",
       "0  #Tokyo started a new normal way of life on Tuesday after lifting its health alert for the #coronavirus pandemic                       \n",
       "1  RT   Nigerians Reacts To Empty Kano Isolation Centre Despite Huge Figure Of COVID    Cases   #StopCovidLies                           \n",
       "2  RT   Were receiving multiple enquiries from from businesses regarding non contact temperature monitoring as part of lockdown releas   \n",
       "3  RT   Staten Islanders with masks drive out non mask wearing person in grocery store  #Coronavirus                                     \n",
       "4  RT   Idk about you  Did we go to all this trouble  to stop the spread of #coronavirus  just to turn around and let these brainwashe   \n",
       "\n",
       "   processed  \\\n",
       "0 -1           \n",
       "1 -1           \n",
       "2 -1           \n",
       "3 -1           \n",
       "4 -1           \n",
       "\n",
       "                                                                                                        tweet_more_2_charac  \\\n",
       "0  #Tokyo started new normal way life Tuesday after lifting its health alert for the #coronavirus pandemic                    \n",
       "1  Nigerians Reacts Empty Kano Isolation Centre Despite Huge Figure COVID Cases #StopCovidLies                                \n",
       "2  Were receiving multiple enquiries from from businesses regarding non contact temperature monitoring part lockdown releas   \n",
       "3  Staten Islanders with masks drive out non mask wearing person grocery store #Coronavirus                                   \n",
       "4  Idk about you Did all this trouble stop the spread #coronavirus just turn around and let these brainwashe                  \n",
       "\n",
       "                                                                                                     lemmatized  \n",
       "0  # Tokyo start new normal way life Tuesday after lift its health alert for the # coronavirus pandemic          \n",
       "1  Nigerians Reacts Empty Kano Isolation Centre Despite Huge Figure COVID Cases # StopCovidLies                  \n",
       "2  Were receive multiple enquiry from from business regard non contact temperature monitor part lockdown releas  \n",
       "3  Staten Islanders with mask drive out non mask wear person grocery store # Coronavirus                         \n",
       "4  Idk about you Did all this trouble stop the spread # coronavirus just turn around and let these brainwashe    "
      ]
     },
     "execution_count": 33,
     "metadata": {},
     "output_type": "execute_result"
    }
   ],
   "source": [
    "df.head(5)"
   ]
  },
  {
   "cell_type": "code",
   "execution_count": 34,
   "metadata": {},
   "outputs": [],
   "source": [
    "# getting rid of the ashtags\n",
    "df['lemmatized_no_ash'] = df['lemmatized'].str.replace('# ', '')"
   ]
  },
  {
   "cell_type": "code",
   "execution_count": 35,
   "metadata": {
    "scrolled": false
   },
   "outputs": [
    {
     "data": {
      "text/html": [
       "<div>\n",
       "<style scoped>\n",
       "    .dataframe tbody tr th:only-of-type {\n",
       "        vertical-align: middle;\n",
       "    }\n",
       "\n",
       "    .dataframe tbody tr th {\n",
       "        vertical-align: top;\n",
       "    }\n",
       "\n",
       "    .dataframe thead th {\n",
       "        text-align: right;\n",
       "    }\n",
       "</style>\n",
       "<table border=\"1\" class=\"dataframe\">\n",
       "  <thead>\n",
       "    <tr style=\"text-align: right;\">\n",
       "      <th></th>\n",
       "      <th>id_str</th>\n",
       "      <th>created_at</th>\n",
       "      <th>text</th>\n",
       "      <th>processed</th>\n",
       "      <th>tweet_more_2_charac</th>\n",
       "      <th>lemmatized</th>\n",
       "      <th>lemmatized_no_ash</th>\n",
       "    </tr>\n",
       "  </thead>\n",
       "  <tbody>\n",
       "    <tr>\n",
       "      <td>0</td>\n",
       "      <td>1265237759049920513</td>\n",
       "      <td>2020-05-26 11:06:03</td>\n",
       "      <td>#Tokyo started a new normal way of life on Tuesday after lifting its health alert for the #coronavirus pandemic</td>\n",
       "      <td>-1</td>\n",
       "      <td>#Tokyo started new normal way life Tuesday after lifting its health alert for the #coronavirus pandemic</td>\n",
       "      <td># Tokyo start new normal way life Tuesday after lift its health alert for the # coronavirus pandemic</td>\n",
       "      <td>Tokyo start new normal way life Tuesday after lift its health alert for the coronavirus pandemic</td>\n",
       "    </tr>\n",
       "    <tr>\n",
       "      <td>1</td>\n",
       "      <td>1265237759821844486</td>\n",
       "      <td>2020-05-26 11:06:03</td>\n",
       "      <td>RT   Nigerians Reacts To Empty Kano Isolation Centre Despite Huge Figure Of COVID    Cases   #StopCovidLies</td>\n",
       "      <td>-1</td>\n",
       "      <td>Nigerians Reacts Empty Kano Isolation Centre Despite Huge Figure COVID Cases #StopCovidLies</td>\n",
       "      <td>Nigerians Reacts Empty Kano Isolation Centre Despite Huge Figure COVID Cases # StopCovidLies</td>\n",
       "      <td>Nigerians Reacts Empty Kano Isolation Centre Despite Huge Figure COVID Cases StopCovidLies</td>\n",
       "    </tr>\n",
       "    <tr>\n",
       "      <td>2</td>\n",
       "      <td>1265237761038192641</td>\n",
       "      <td>2020-05-26 11:06:03</td>\n",
       "      <td>RT   Were receiving multiple enquiries from from businesses regarding non contact temperature monitoring as part of lockdown releas</td>\n",
       "      <td>-1</td>\n",
       "      <td>Were receiving multiple enquiries from from businesses regarding non contact temperature monitoring part lockdown releas</td>\n",
       "      <td>Were receive multiple enquiry from from business regard non contact temperature monitor part lockdown releas</td>\n",
       "      <td>Were receive multiple enquiry from from business regard non contact temperature monitor part lockdown releas</td>\n",
       "    </tr>\n",
       "    <tr>\n",
       "      <td>3</td>\n",
       "      <td>1265237762531262466</td>\n",
       "      <td>2020-05-26 11:06:04</td>\n",
       "      <td>RT   Staten Islanders with masks drive out non mask wearing person in grocery store  #Coronavirus</td>\n",
       "      <td>-1</td>\n",
       "      <td>Staten Islanders with masks drive out non mask wearing person grocery store #Coronavirus</td>\n",
       "      <td>Staten Islanders with mask drive out non mask wear person grocery store # Coronavirus</td>\n",
       "      <td>Staten Islanders with mask drive out non mask wear person grocery store Coronavirus</td>\n",
       "    </tr>\n",
       "    <tr>\n",
       "      <td>4</td>\n",
       "      <td>1265237762543763457</td>\n",
       "      <td>2020-05-26 11:06:04</td>\n",
       "      <td>RT   Idk about you  Did we go to all this trouble  to stop the spread of #coronavirus  just to turn around and let these brainwashe</td>\n",
       "      <td>-1</td>\n",
       "      <td>Idk about you Did all this trouble stop the spread #coronavirus just turn around and let these brainwashe</td>\n",
       "      <td>Idk about you Did all this trouble stop the spread # coronavirus just turn around and let these brainwashe</td>\n",
       "      <td>Idk about you Did all this trouble stop the spread coronavirus just turn around and let these brainwashe</td>\n",
       "    </tr>\n",
       "  </tbody>\n",
       "</table>\n",
       "</div>"
      ],
      "text/plain": [
       "                id_str          created_at  \\\n",
       "0  1265237759049920513 2020-05-26 11:06:03   \n",
       "1  1265237759821844486 2020-05-26 11:06:03   \n",
       "2  1265237761038192641 2020-05-26 11:06:03   \n",
       "3  1265237762531262466 2020-05-26 11:06:04   \n",
       "4  1265237762543763457 2020-05-26 11:06:04   \n",
       "\n",
       "                                                                                                                                  text  \\\n",
       "0  #Tokyo started a new normal way of life on Tuesday after lifting its health alert for the #coronavirus pandemic                       \n",
       "1  RT   Nigerians Reacts To Empty Kano Isolation Centre Despite Huge Figure Of COVID    Cases   #StopCovidLies                           \n",
       "2  RT   Were receiving multiple enquiries from from businesses regarding non contact temperature monitoring as part of lockdown releas   \n",
       "3  RT   Staten Islanders with masks drive out non mask wearing person in grocery store  #Coronavirus                                     \n",
       "4  RT   Idk about you  Did we go to all this trouble  to stop the spread of #coronavirus  just to turn around and let these brainwashe   \n",
       "\n",
       "   processed  \\\n",
       "0 -1           \n",
       "1 -1           \n",
       "2 -1           \n",
       "3 -1           \n",
       "4 -1           \n",
       "\n",
       "                                                                                                        tweet_more_2_charac  \\\n",
       "0  #Tokyo started new normal way life Tuesday after lifting its health alert for the #coronavirus pandemic                    \n",
       "1  Nigerians Reacts Empty Kano Isolation Centre Despite Huge Figure COVID Cases #StopCovidLies                                \n",
       "2  Were receiving multiple enquiries from from businesses regarding non contact temperature monitoring part lockdown releas   \n",
       "3  Staten Islanders with masks drive out non mask wearing person grocery store #Coronavirus                                   \n",
       "4  Idk about you Did all this trouble stop the spread #coronavirus just turn around and let these brainwashe                  \n",
       "\n",
       "                                                                                                     lemmatized  \\\n",
       "0  # Tokyo start new normal way life Tuesday after lift its health alert for the # coronavirus pandemic           \n",
       "1  Nigerians Reacts Empty Kano Isolation Centre Despite Huge Figure COVID Cases # StopCovidLies                   \n",
       "2  Were receive multiple enquiry from from business regard non contact temperature monitor part lockdown releas   \n",
       "3  Staten Islanders with mask drive out non mask wear person grocery store # Coronavirus                          \n",
       "4  Idk about you Did all this trouble stop the spread # coronavirus just turn around and let these brainwashe     \n",
       "\n",
       "                                                                                              lemmatized_no_ash  \n",
       "0  Tokyo start new normal way life Tuesday after lift its health alert for the coronavirus pandemic              \n",
       "1  Nigerians Reacts Empty Kano Isolation Centre Despite Huge Figure COVID Cases StopCovidLies                    \n",
       "2  Were receive multiple enquiry from from business regard non contact temperature monitor part lockdown releas  \n",
       "3  Staten Islanders with mask drive out non mask wear person grocery store Coronavirus                           \n",
       "4  Idk about you Did all this trouble stop the spread coronavirus just turn around and let these brainwashe      "
      ]
     },
     "execution_count": 35,
     "metadata": {},
     "output_type": "execute_result"
    }
   ],
   "source": [
    "df.head(5)"
   ]
  },
  {
   "cell_type": "markdown",
   "metadata": {},
   "source": [
    "Removing StopWords"
   ]
  },
  {
   "cell_type": "code",
   "execution_count": 36,
   "metadata": {},
   "outputs": [],
   "source": [
    "# importing english stopwords\n",
    "stop = stopwords.words('english')\n",
    "\n",
    "df['tweet_low'] = df['lemmatized_no_ash'].apply(lambda x: x if type(x)!=str else x.lower())\n",
    "df['tweet_without_stopwords'] = df['tweet_low'].apply(lambda x: ' '.join([word for word in x.split() if word not in (stop)]))\n",
    "\n"
   ]
  },
  {
   "cell_type": "code",
   "execution_count": 37,
   "metadata": {},
   "outputs": [
    {
     "data": {
      "text/html": [
       "<div>\n",
       "<style scoped>\n",
       "    .dataframe tbody tr th:only-of-type {\n",
       "        vertical-align: middle;\n",
       "    }\n",
       "\n",
       "    .dataframe tbody tr th {\n",
       "        vertical-align: top;\n",
       "    }\n",
       "\n",
       "    .dataframe thead th {\n",
       "        text-align: right;\n",
       "    }\n",
       "</style>\n",
       "<table border=\"1\" class=\"dataframe\">\n",
       "  <thead>\n",
       "    <tr style=\"text-align: right;\">\n",
       "      <th></th>\n",
       "      <th>id_str</th>\n",
       "      <th>created_at</th>\n",
       "      <th>text</th>\n",
       "      <th>processed</th>\n",
       "      <th>tweet_more_2_charac</th>\n",
       "      <th>lemmatized</th>\n",
       "      <th>lemmatized_no_ash</th>\n",
       "      <th>tweet_low</th>\n",
       "      <th>tweet_without_stopwords</th>\n",
       "    </tr>\n",
       "  </thead>\n",
       "  <tbody>\n",
       "    <tr>\n",
       "      <td>0</td>\n",
       "      <td>1265237759049920513</td>\n",
       "      <td>2020-05-26 11:06:03</td>\n",
       "      <td>#Tokyo started a new normal way of life on Tuesday after lifting its health alert for the #coronavirus pandemic</td>\n",
       "      <td>-1</td>\n",
       "      <td>#Tokyo started new normal way life Tuesday after lifting its health alert for the #coronavirus pandemic</td>\n",
       "      <td># Tokyo start new normal way life Tuesday after lift its health alert for the # coronavirus pandemic</td>\n",
       "      <td>Tokyo start new normal way life Tuesday after lift its health alert for the coronavirus pandemic</td>\n",
       "      <td>tokyo start new normal way life tuesday after lift its health alert for the coronavirus pandemic</td>\n",
       "      <td>tokyo start new normal way life tuesday lift health alert coronavirus pandemic</td>\n",
       "    </tr>\n",
       "    <tr>\n",
       "      <td>1</td>\n",
       "      <td>1265237759821844486</td>\n",
       "      <td>2020-05-26 11:06:03</td>\n",
       "      <td>RT   Nigerians Reacts To Empty Kano Isolation Centre Despite Huge Figure Of COVID    Cases   #StopCovidLies</td>\n",
       "      <td>-1</td>\n",
       "      <td>Nigerians Reacts Empty Kano Isolation Centre Despite Huge Figure COVID Cases #StopCovidLies</td>\n",
       "      <td>Nigerians Reacts Empty Kano Isolation Centre Despite Huge Figure COVID Cases # StopCovidLies</td>\n",
       "      <td>Nigerians Reacts Empty Kano Isolation Centre Despite Huge Figure COVID Cases StopCovidLies</td>\n",
       "      <td>nigerians reacts empty kano isolation centre despite huge figure covid cases stopcovidlies</td>\n",
       "      <td>nigerians reacts empty kano isolation centre despite huge figure covid cases stopcovidlies</td>\n",
       "    </tr>\n",
       "    <tr>\n",
       "      <td>2</td>\n",
       "      <td>1265237761038192641</td>\n",
       "      <td>2020-05-26 11:06:03</td>\n",
       "      <td>RT   Were receiving multiple enquiries from from businesses regarding non contact temperature monitoring as part of lockdown releas</td>\n",
       "      <td>-1</td>\n",
       "      <td>Were receiving multiple enquiries from from businesses regarding non contact temperature monitoring part lockdown releas</td>\n",
       "      <td>Were receive multiple enquiry from from business regard non contact temperature monitor part lockdown releas</td>\n",
       "      <td>Were receive multiple enquiry from from business regard non contact temperature monitor part lockdown releas</td>\n",
       "      <td>were receive multiple enquiry from from business regard non contact temperature monitor part lockdown releas</td>\n",
       "      <td>receive multiple enquiry business regard non contact temperature monitor part lockdown releas</td>\n",
       "    </tr>\n",
       "    <tr>\n",
       "      <td>3</td>\n",
       "      <td>1265237762531262466</td>\n",
       "      <td>2020-05-26 11:06:04</td>\n",
       "      <td>RT   Staten Islanders with masks drive out non mask wearing person in grocery store  #Coronavirus</td>\n",
       "      <td>-1</td>\n",
       "      <td>Staten Islanders with masks drive out non mask wearing person grocery store #Coronavirus</td>\n",
       "      <td>Staten Islanders with mask drive out non mask wear person grocery store # Coronavirus</td>\n",
       "      <td>Staten Islanders with mask drive out non mask wear person grocery store Coronavirus</td>\n",
       "      <td>staten islanders with mask drive out non mask wear person grocery store coronavirus</td>\n",
       "      <td>staten islanders mask drive non mask wear person grocery store coronavirus</td>\n",
       "    </tr>\n",
       "    <tr>\n",
       "      <td>4</td>\n",
       "      <td>1265237762543763457</td>\n",
       "      <td>2020-05-26 11:06:04</td>\n",
       "      <td>RT   Idk about you  Did we go to all this trouble  to stop the spread of #coronavirus  just to turn around and let these brainwashe</td>\n",
       "      <td>-1</td>\n",
       "      <td>Idk about you Did all this trouble stop the spread #coronavirus just turn around and let these brainwashe</td>\n",
       "      <td>Idk about you Did all this trouble stop the spread # coronavirus just turn around and let these brainwashe</td>\n",
       "      <td>Idk about you Did all this trouble stop the spread coronavirus just turn around and let these brainwashe</td>\n",
       "      <td>idk about you did all this trouble stop the spread coronavirus just turn around and let these brainwashe</td>\n",
       "      <td>idk trouble stop spread coronavirus turn around let brainwashe</td>\n",
       "    </tr>\n",
       "  </tbody>\n",
       "</table>\n",
       "</div>"
      ],
      "text/plain": [
       "                id_str          created_at  \\\n",
       "0  1265237759049920513 2020-05-26 11:06:03   \n",
       "1  1265237759821844486 2020-05-26 11:06:03   \n",
       "2  1265237761038192641 2020-05-26 11:06:03   \n",
       "3  1265237762531262466 2020-05-26 11:06:04   \n",
       "4  1265237762543763457 2020-05-26 11:06:04   \n",
       "\n",
       "                                                                                                                                  text  \\\n",
       "0  #Tokyo started a new normal way of life on Tuesday after lifting its health alert for the #coronavirus pandemic                       \n",
       "1  RT   Nigerians Reacts To Empty Kano Isolation Centre Despite Huge Figure Of COVID    Cases   #StopCovidLies                           \n",
       "2  RT   Were receiving multiple enquiries from from businesses regarding non contact temperature monitoring as part of lockdown releas   \n",
       "3  RT   Staten Islanders with masks drive out non mask wearing person in grocery store  #Coronavirus                                     \n",
       "4  RT   Idk about you  Did we go to all this trouble  to stop the spread of #coronavirus  just to turn around and let these brainwashe   \n",
       "\n",
       "   processed  \\\n",
       "0 -1           \n",
       "1 -1           \n",
       "2 -1           \n",
       "3 -1           \n",
       "4 -1           \n",
       "\n",
       "                                                                                                        tweet_more_2_charac  \\\n",
       "0  #Tokyo started new normal way life Tuesday after lifting its health alert for the #coronavirus pandemic                    \n",
       "1  Nigerians Reacts Empty Kano Isolation Centre Despite Huge Figure COVID Cases #StopCovidLies                                \n",
       "2  Were receiving multiple enquiries from from businesses regarding non contact temperature monitoring part lockdown releas   \n",
       "3  Staten Islanders with masks drive out non mask wearing person grocery store #Coronavirus                                   \n",
       "4  Idk about you Did all this trouble stop the spread #coronavirus just turn around and let these brainwashe                  \n",
       "\n",
       "                                                                                                     lemmatized  \\\n",
       "0  # Tokyo start new normal way life Tuesday after lift its health alert for the # coronavirus pandemic           \n",
       "1  Nigerians Reacts Empty Kano Isolation Centre Despite Huge Figure COVID Cases # StopCovidLies                   \n",
       "2  Were receive multiple enquiry from from business regard non contact temperature monitor part lockdown releas   \n",
       "3  Staten Islanders with mask drive out non mask wear person grocery store # Coronavirus                          \n",
       "4  Idk about you Did all this trouble stop the spread # coronavirus just turn around and let these brainwashe     \n",
       "\n",
       "                                                                                              lemmatized_no_ash  \\\n",
       "0  Tokyo start new normal way life Tuesday after lift its health alert for the coronavirus pandemic               \n",
       "1  Nigerians Reacts Empty Kano Isolation Centre Despite Huge Figure COVID Cases StopCovidLies                     \n",
       "2  Were receive multiple enquiry from from business regard non contact temperature monitor part lockdown releas   \n",
       "3  Staten Islanders with mask drive out non mask wear person grocery store Coronavirus                            \n",
       "4  Idk about you Did all this trouble stop the spread coronavirus just turn around and let these brainwashe       \n",
       "\n",
       "                                                                                                      tweet_low  \\\n",
       "0  tokyo start new normal way life tuesday after lift its health alert for the coronavirus pandemic               \n",
       "1  nigerians reacts empty kano isolation centre despite huge figure covid cases stopcovidlies                     \n",
       "2  were receive multiple enquiry from from business regard non contact temperature monitor part lockdown releas   \n",
       "3  staten islanders with mask drive out non mask wear person grocery store coronavirus                            \n",
       "4  idk about you did all this trouble stop the spread coronavirus just turn around and let these brainwashe       \n",
       "\n",
       "                                                                         tweet_without_stopwords  \n",
       "0  tokyo start new normal way life tuesday lift health alert coronavirus pandemic                 \n",
       "1  nigerians reacts empty kano isolation centre despite huge figure covid cases stopcovidlies     \n",
       "2  receive multiple enquiry business regard non contact temperature monitor part lockdown releas  \n",
       "3  staten islanders mask drive non mask wear person grocery store coronavirus                     \n",
       "4  idk trouble stop spread coronavirus turn around let brainwashe                                 "
      ]
     },
     "execution_count": 37,
     "metadata": {},
     "output_type": "execute_result"
    }
   ],
   "source": [
    "df.head(5)"
   ]
  },
  {
   "cell_type": "markdown",
   "metadata": {},
   "source": [
    "# Vectorizing TF-IDF for Fresh Tweets for Logistic Regression"
   ]
  },
  {
   "cell_type": "markdown",
   "metadata": {},
   "source": [
    "In this instance, the only-fitted tf-idf object is recalled with pickle. In this way, the same matrix with 9000 columns is used to transform the new batch of words. This is necessary in orer for the model to be able to make predictins on unseen text. Unfortunately, new words are simpy ignored and not included in the vectorised matrix."
   ]
  },
  {
   "cell_type": "code",
   "execution_count": 38,
   "metadata": {},
   "outputs": [],
   "source": [
    "tf_idf_fit_only = pickle.load( open(\"tfidf_pickle_fit\", \"rb\" ))"
   ]
  },
  {
   "cell_type": "code",
   "execution_count": 39,
   "metadata": {},
   "outputs": [],
   "source": [
    "matrix =tf_idf_fit_only.transform(df['tweet_without_stopwords'])"
   ]
  },
  {
   "cell_type": "code",
   "execution_count": 40,
   "metadata": {},
   "outputs": [],
   "source": [
    "# vectorising the new tweets\n",
    "df_vector = pd.DataFrame(matrix.todense(),columns = tf_idf_fit_only.get_feature_names())"
   ]
  },
  {
   "cell_type": "code",
   "execution_count": 41,
   "metadata": {},
   "outputs": [
    {
     "data": {
      "text/html": [
       "<div>\n",
       "<style scoped>\n",
       "    .dataframe tbody tr th:only-of-type {\n",
       "        vertical-align: middle;\n",
       "    }\n",
       "\n",
       "    .dataframe tbody tr th {\n",
       "        vertical-align: top;\n",
       "    }\n",
       "\n",
       "    .dataframe thead th {\n",
       "        text-align: right;\n",
       "    }\n",
       "</style>\n",
       "<table border=\"1\" class=\"dataframe\">\n",
       "  <thead>\n",
       "    <tr style=\"text-align: right;\">\n",
       "      <th></th>\n",
       "      <th>aap</th>\n",
       "      <th>aaron</th>\n",
       "      <th>abandon</th>\n",
       "      <th>abc</th>\n",
       "      <th>ability</th>\n",
       "      <th>able</th>\n",
       "      <th>abo</th>\n",
       "      <th>absolute</th>\n",
       "      <th>absolutely</th>\n",
       "      <th>absolutely love</th>\n",
       "      <th>abt</th>\n",
       "      <th>abundance</th>\n",
       "      <th>abuse</th>\n",
       "      <th>abusive</th>\n",
       "      <th>academy</th>\n",
       "      <th>acc</th>\n",
       "      <th>accent</th>\n",
       "      <th>accept</th>\n",
       "      <th>accept fact</th>\n",
       "      <th>acceptable</th>\n",
       "      <th>access</th>\n",
       "      <th>accessory</th>\n",
       "      <th>accident</th>\n",
       "      <th>accidentally</th>\n",
       "      <th>accord</th>\n",
       "      <th>...</th>\n",
       "      <th>youre</th>\n",
       "      <th>yous</th>\n",
       "      <th>youth</th>\n",
       "      <th>youtube</th>\n",
       "      <th>youtube video</th>\n",
       "      <th>youtuber</th>\n",
       "      <th>youuu</th>\n",
       "      <th>yoy</th>\n",
       "      <th>yrs</th>\n",
       "      <th>yum</th>\n",
       "      <th>yummy</th>\n",
       "      <th>yung</th>\n",
       "      <th>yup</th>\n",
       "      <th>yyc</th>\n",
       "      <th>zealand</th>\n",
       "      <th>zebra</th>\n",
       "      <th>zelda</th>\n",
       "      <th>zen</th>\n",
       "      <th>zero</th>\n",
       "      <th>zimmerman</th>\n",
       "      <th>zip</th>\n",
       "      <th>zoe</th>\n",
       "      <th>zombie</th>\n",
       "      <th>zone</th>\n",
       "      <th>zoo</th>\n",
       "    </tr>\n",
       "  </thead>\n",
       "  <tbody>\n",
       "    <tr>\n",
       "      <td>0</td>\n",
       "      <td>0.0</td>\n",
       "      <td>0.0</td>\n",
       "      <td>0.0</td>\n",
       "      <td>0.0</td>\n",
       "      <td>0.0</td>\n",
       "      <td>0.0</td>\n",
       "      <td>0.0</td>\n",
       "      <td>0.0</td>\n",
       "      <td>0.0</td>\n",
       "      <td>0.0</td>\n",
       "      <td>0.0</td>\n",
       "      <td>0.0</td>\n",
       "      <td>0.0</td>\n",
       "      <td>0.0</td>\n",
       "      <td>0.0</td>\n",
       "      <td>0.0</td>\n",
       "      <td>0.0</td>\n",
       "      <td>0.0</td>\n",
       "      <td>0.0</td>\n",
       "      <td>0.0</td>\n",
       "      <td>0.0</td>\n",
       "      <td>0.0</td>\n",
       "      <td>0.0</td>\n",
       "      <td>0.0</td>\n",
       "      <td>0.0</td>\n",
       "      <td>...</td>\n",
       "      <td>0.0</td>\n",
       "      <td>0.0</td>\n",
       "      <td>0.0</td>\n",
       "      <td>0.0</td>\n",
       "      <td>0.0</td>\n",
       "      <td>0.0</td>\n",
       "      <td>0.0</td>\n",
       "      <td>0.0</td>\n",
       "      <td>0.0</td>\n",
       "      <td>0.0</td>\n",
       "      <td>0.0</td>\n",
       "      <td>0.0</td>\n",
       "      <td>0.0</td>\n",
       "      <td>0.0</td>\n",
       "      <td>0.0</td>\n",
       "      <td>0.0</td>\n",
       "      <td>0.0</td>\n",
       "      <td>0.0</td>\n",
       "      <td>0.0</td>\n",
       "      <td>0.0</td>\n",
       "      <td>0.0</td>\n",
       "      <td>0.0</td>\n",
       "      <td>0.0</td>\n",
       "      <td>0.0</td>\n",
       "      <td>0.0</td>\n",
       "    </tr>\n",
       "    <tr>\n",
       "      <td>1</td>\n",
       "      <td>0.0</td>\n",
       "      <td>0.0</td>\n",
       "      <td>0.0</td>\n",
       "      <td>0.0</td>\n",
       "      <td>0.0</td>\n",
       "      <td>0.0</td>\n",
       "      <td>0.0</td>\n",
       "      <td>0.0</td>\n",
       "      <td>0.0</td>\n",
       "      <td>0.0</td>\n",
       "      <td>0.0</td>\n",
       "      <td>0.0</td>\n",
       "      <td>0.0</td>\n",
       "      <td>0.0</td>\n",
       "      <td>0.0</td>\n",
       "      <td>0.0</td>\n",
       "      <td>0.0</td>\n",
       "      <td>0.0</td>\n",
       "      <td>0.0</td>\n",
       "      <td>0.0</td>\n",
       "      <td>0.0</td>\n",
       "      <td>0.0</td>\n",
       "      <td>0.0</td>\n",
       "      <td>0.0</td>\n",
       "      <td>0.0</td>\n",
       "      <td>...</td>\n",
       "      <td>0.0</td>\n",
       "      <td>0.0</td>\n",
       "      <td>0.0</td>\n",
       "      <td>0.0</td>\n",
       "      <td>0.0</td>\n",
       "      <td>0.0</td>\n",
       "      <td>0.0</td>\n",
       "      <td>0.0</td>\n",
       "      <td>0.0</td>\n",
       "      <td>0.0</td>\n",
       "      <td>0.0</td>\n",
       "      <td>0.0</td>\n",
       "      <td>0.0</td>\n",
       "      <td>0.0</td>\n",
       "      <td>0.0</td>\n",
       "      <td>0.0</td>\n",
       "      <td>0.0</td>\n",
       "      <td>0.0</td>\n",
       "      <td>0.0</td>\n",
       "      <td>0.0</td>\n",
       "      <td>0.0</td>\n",
       "      <td>0.0</td>\n",
       "      <td>0.0</td>\n",
       "      <td>0.0</td>\n",
       "      <td>0.0</td>\n",
       "    </tr>\n",
       "    <tr>\n",
       "      <td>2</td>\n",
       "      <td>0.0</td>\n",
       "      <td>0.0</td>\n",
       "      <td>0.0</td>\n",
       "      <td>0.0</td>\n",
       "      <td>0.0</td>\n",
       "      <td>0.0</td>\n",
       "      <td>0.0</td>\n",
       "      <td>0.0</td>\n",
       "      <td>0.0</td>\n",
       "      <td>0.0</td>\n",
       "      <td>0.0</td>\n",
       "      <td>0.0</td>\n",
       "      <td>0.0</td>\n",
       "      <td>0.0</td>\n",
       "      <td>0.0</td>\n",
       "      <td>0.0</td>\n",
       "      <td>0.0</td>\n",
       "      <td>0.0</td>\n",
       "      <td>0.0</td>\n",
       "      <td>0.0</td>\n",
       "      <td>0.0</td>\n",
       "      <td>0.0</td>\n",
       "      <td>0.0</td>\n",
       "      <td>0.0</td>\n",
       "      <td>0.0</td>\n",
       "      <td>...</td>\n",
       "      <td>0.0</td>\n",
       "      <td>0.0</td>\n",
       "      <td>0.0</td>\n",
       "      <td>0.0</td>\n",
       "      <td>0.0</td>\n",
       "      <td>0.0</td>\n",
       "      <td>0.0</td>\n",
       "      <td>0.0</td>\n",
       "      <td>0.0</td>\n",
       "      <td>0.0</td>\n",
       "      <td>0.0</td>\n",
       "      <td>0.0</td>\n",
       "      <td>0.0</td>\n",
       "      <td>0.0</td>\n",
       "      <td>0.0</td>\n",
       "      <td>0.0</td>\n",
       "      <td>0.0</td>\n",
       "      <td>0.0</td>\n",
       "      <td>0.0</td>\n",
       "      <td>0.0</td>\n",
       "      <td>0.0</td>\n",
       "      <td>0.0</td>\n",
       "      <td>0.0</td>\n",
       "      <td>0.0</td>\n",
       "      <td>0.0</td>\n",
       "    </tr>\n",
       "    <tr>\n",
       "      <td>3</td>\n",
       "      <td>0.0</td>\n",
       "      <td>0.0</td>\n",
       "      <td>0.0</td>\n",
       "      <td>0.0</td>\n",
       "      <td>0.0</td>\n",
       "      <td>0.0</td>\n",
       "      <td>0.0</td>\n",
       "      <td>0.0</td>\n",
       "      <td>0.0</td>\n",
       "      <td>0.0</td>\n",
       "      <td>0.0</td>\n",
       "      <td>0.0</td>\n",
       "      <td>0.0</td>\n",
       "      <td>0.0</td>\n",
       "      <td>0.0</td>\n",
       "      <td>0.0</td>\n",
       "      <td>0.0</td>\n",
       "      <td>0.0</td>\n",
       "      <td>0.0</td>\n",
       "      <td>0.0</td>\n",
       "      <td>0.0</td>\n",
       "      <td>0.0</td>\n",
       "      <td>0.0</td>\n",
       "      <td>0.0</td>\n",
       "      <td>0.0</td>\n",
       "      <td>...</td>\n",
       "      <td>0.0</td>\n",
       "      <td>0.0</td>\n",
       "      <td>0.0</td>\n",
       "      <td>0.0</td>\n",
       "      <td>0.0</td>\n",
       "      <td>0.0</td>\n",
       "      <td>0.0</td>\n",
       "      <td>0.0</td>\n",
       "      <td>0.0</td>\n",
       "      <td>0.0</td>\n",
       "      <td>0.0</td>\n",
       "      <td>0.0</td>\n",
       "      <td>0.0</td>\n",
       "      <td>0.0</td>\n",
       "      <td>0.0</td>\n",
       "      <td>0.0</td>\n",
       "      <td>0.0</td>\n",
       "      <td>0.0</td>\n",
       "      <td>0.0</td>\n",
       "      <td>0.0</td>\n",
       "      <td>0.0</td>\n",
       "      <td>0.0</td>\n",
       "      <td>0.0</td>\n",
       "      <td>0.0</td>\n",
       "      <td>0.0</td>\n",
       "    </tr>\n",
       "    <tr>\n",
       "      <td>4</td>\n",
       "      <td>0.0</td>\n",
       "      <td>0.0</td>\n",
       "      <td>0.0</td>\n",
       "      <td>0.0</td>\n",
       "      <td>0.0</td>\n",
       "      <td>0.0</td>\n",
       "      <td>0.0</td>\n",
       "      <td>0.0</td>\n",
       "      <td>0.0</td>\n",
       "      <td>0.0</td>\n",
       "      <td>0.0</td>\n",
       "      <td>0.0</td>\n",
       "      <td>0.0</td>\n",
       "      <td>0.0</td>\n",
       "      <td>0.0</td>\n",
       "      <td>0.0</td>\n",
       "      <td>0.0</td>\n",
       "      <td>0.0</td>\n",
       "      <td>0.0</td>\n",
       "      <td>0.0</td>\n",
       "      <td>0.0</td>\n",
       "      <td>0.0</td>\n",
       "      <td>0.0</td>\n",
       "      <td>0.0</td>\n",
       "      <td>0.0</td>\n",
       "      <td>...</td>\n",
       "      <td>0.0</td>\n",
       "      <td>0.0</td>\n",
       "      <td>0.0</td>\n",
       "      <td>0.0</td>\n",
       "      <td>0.0</td>\n",
       "      <td>0.0</td>\n",
       "      <td>0.0</td>\n",
       "      <td>0.0</td>\n",
       "      <td>0.0</td>\n",
       "      <td>0.0</td>\n",
       "      <td>0.0</td>\n",
       "      <td>0.0</td>\n",
       "      <td>0.0</td>\n",
       "      <td>0.0</td>\n",
       "      <td>0.0</td>\n",
       "      <td>0.0</td>\n",
       "      <td>0.0</td>\n",
       "      <td>0.0</td>\n",
       "      <td>0.0</td>\n",
       "      <td>0.0</td>\n",
       "      <td>0.0</td>\n",
       "      <td>0.0</td>\n",
       "      <td>0.0</td>\n",
       "      <td>0.0</td>\n",
       "      <td>0.0</td>\n",
       "    </tr>\n",
       "  </tbody>\n",
       "</table>\n",
       "<p>5 rows × 9000 columns</p>\n",
       "</div>"
      ],
      "text/plain": [
       "   aap  aaron  abandon  abc  ability  able  abo  absolute  absolutely  \\\n",
       "0  0.0  0.0    0.0      0.0  0.0      0.0   0.0  0.0       0.0          \n",
       "1  0.0  0.0    0.0      0.0  0.0      0.0   0.0  0.0       0.0          \n",
       "2  0.0  0.0    0.0      0.0  0.0      0.0   0.0  0.0       0.0          \n",
       "3  0.0  0.0    0.0      0.0  0.0      0.0   0.0  0.0       0.0          \n",
       "4  0.0  0.0    0.0      0.0  0.0      0.0   0.0  0.0       0.0          \n",
       "\n",
       "   absolutely love  abt  abundance  abuse  abusive  academy  acc  accent  \\\n",
       "0  0.0              0.0  0.0        0.0    0.0      0.0      0.0  0.0      \n",
       "1  0.0              0.0  0.0        0.0    0.0      0.0      0.0  0.0      \n",
       "2  0.0              0.0  0.0        0.0    0.0      0.0      0.0  0.0      \n",
       "3  0.0              0.0  0.0        0.0    0.0      0.0      0.0  0.0      \n",
       "4  0.0              0.0  0.0        0.0    0.0      0.0      0.0  0.0      \n",
       "\n",
       "   accept  accept fact  acceptable  access  accessory  accident  accidentally  \\\n",
       "0  0.0     0.0          0.0         0.0     0.0        0.0       0.0            \n",
       "1  0.0     0.0          0.0         0.0     0.0        0.0       0.0            \n",
       "2  0.0     0.0          0.0         0.0     0.0        0.0       0.0            \n",
       "3  0.0     0.0          0.0         0.0     0.0        0.0       0.0            \n",
       "4  0.0     0.0          0.0         0.0     0.0        0.0       0.0            \n",
       "\n",
       "   accord  ...  youre  yous  youth  youtube  youtube video  youtuber  youuu  \\\n",
       "0  0.0     ...  0.0    0.0   0.0    0.0      0.0            0.0       0.0     \n",
       "1  0.0     ...  0.0    0.0   0.0    0.0      0.0            0.0       0.0     \n",
       "2  0.0     ...  0.0    0.0   0.0    0.0      0.0            0.0       0.0     \n",
       "3  0.0     ...  0.0    0.0   0.0    0.0      0.0            0.0       0.0     \n",
       "4  0.0     ...  0.0    0.0   0.0    0.0      0.0            0.0       0.0     \n",
       "\n",
       "   yoy  yrs  yum  yummy  yung  yup  yyc  zealand  zebra  zelda  zen  zero  \\\n",
       "0  0.0  0.0  0.0  0.0    0.0   0.0  0.0  0.0      0.0    0.0    0.0  0.0    \n",
       "1  0.0  0.0  0.0  0.0    0.0   0.0  0.0  0.0      0.0    0.0    0.0  0.0    \n",
       "2  0.0  0.0  0.0  0.0    0.0   0.0  0.0  0.0      0.0    0.0    0.0  0.0    \n",
       "3  0.0  0.0  0.0  0.0    0.0   0.0  0.0  0.0      0.0    0.0    0.0  0.0    \n",
       "4  0.0  0.0  0.0  0.0    0.0   0.0  0.0  0.0      0.0    0.0    0.0  0.0    \n",
       "\n",
       "   zimmerman  zip  zoe  zombie  zone  zoo  \n",
       "0  0.0        0.0  0.0  0.0     0.0   0.0  \n",
       "1  0.0        0.0  0.0  0.0     0.0   0.0  \n",
       "2  0.0        0.0  0.0  0.0     0.0   0.0  \n",
       "3  0.0        0.0  0.0  0.0     0.0   0.0  \n",
       "4  0.0        0.0  0.0  0.0     0.0   0.0  \n",
       "\n",
       "[5 rows x 9000 columns]"
      ]
     },
     "execution_count": 41,
     "metadata": {},
     "output_type": "execute_result"
    }
   ],
   "source": [
    "df_vector.head(5)"
   ]
  },
  {
   "cell_type": "code",
   "execution_count": 42,
   "metadata": {
    "scrolled": true
   },
   "outputs": [],
   "source": [
    "# pickle.load(open('best_log_model', 'rb'))"
   ]
  },
  {
   "cell_type": "code",
   "execution_count": 43,
   "metadata": {},
   "outputs": [],
   "source": [
    "final_log_model = load('final_model') "
   ]
  },
  {
   "cell_type": "code",
   "execution_count": 44,
   "metadata": {
    "scrolled": false
   },
   "outputs": [],
   "source": [
    "# import pickled logistic regression\n",
    "# model_log_1 = pickle.load(open(\"pickled_logistic\", \"rb\" ))\n"
   ]
  },
  {
   "cell_type": "code",
   "execution_count": 45,
   "metadata": {},
   "outputs": [],
   "source": [
    "# model_1 = pickle.load(open('pickled_logistic_1', \"rb\"))\n",
    "# model_log_1"
   ]
  },
  {
   "cell_type": "code",
   "execution_count": 46,
   "metadata": {},
   "outputs": [],
   "source": [
    "y_hat_fresh =  final_log_model.predict_proba(df_vector)\n",
    "predictions = y_hat_fresh[:,1]\n",
    "\n"
   ]
  },
  {
   "cell_type": "code",
   "execution_count": 47,
   "metadata": {},
   "outputs": [
    {
     "data": {
      "text/plain": [
       "0.9360947935623389"
      ]
     },
     "execution_count": 47,
     "metadata": {},
     "output_type": "execute_result"
    }
   ],
   "source": [
    "max(predictions)"
   ]
  },
  {
   "cell_type": "code",
   "execution_count": 48,
   "metadata": {},
   "outputs": [
    {
     "data": {
      "text/plain": [
       "176"
      ]
     },
     "execution_count": 48,
     "metadata": {},
     "output_type": "execute_result"
    }
   ],
   "source": [
    "final_res =[]\n",
    "for x in predictions:\n",
    "    if x >.9:\n",
    "        final_res.append(1)\n",
    "    else:\n",
    "        final_res.append(0)\n",
    "final_res\n",
    "len(final_res)\n",
    "\n"
   ]
  },
  {
   "cell_type": "code",
   "execution_count": 49,
   "metadata": {},
   "outputs": [],
   "source": [
    "df['predictions'] = pd.Series(final_res)\n"
   ]
  },
  {
   "cell_type": "code",
   "execution_count": 50,
   "metadata": {
    "scrolled": true
   },
   "outputs": [
    {
     "data": {
      "text/html": [
       "<div>\n",
       "<style scoped>\n",
       "    .dataframe tbody tr th:only-of-type {\n",
       "        vertical-align: middle;\n",
       "    }\n",
       "\n",
       "    .dataframe tbody tr th {\n",
       "        vertical-align: top;\n",
       "    }\n",
       "\n",
       "    .dataframe thead th {\n",
       "        text-align: right;\n",
       "    }\n",
       "</style>\n",
       "<table border=\"1\" class=\"dataframe\">\n",
       "  <thead>\n",
       "    <tr style=\"text-align: right;\">\n",
       "      <th></th>\n",
       "      <th>id_str</th>\n",
       "      <th>created_at</th>\n",
       "      <th>text</th>\n",
       "      <th>processed</th>\n",
       "      <th>tweet_more_2_charac</th>\n",
       "      <th>lemmatized</th>\n",
       "      <th>lemmatized_no_ash</th>\n",
       "      <th>tweet_low</th>\n",
       "      <th>tweet_without_stopwords</th>\n",
       "      <th>predictions</th>\n",
       "    </tr>\n",
       "  </thead>\n",
       "  <tbody>\n",
       "    <tr>\n",
       "      <td>0</td>\n",
       "      <td>1265237759049920513</td>\n",
       "      <td>2020-05-26 11:06:03</td>\n",
       "      <td>#Tokyo started a new normal way of life on Tuesday after lifting its health alert for the #coronavirus pandemic</td>\n",
       "      <td>-1</td>\n",
       "      <td>#Tokyo started new normal way life Tuesday after lifting its health alert for the #coronavirus pandemic</td>\n",
       "      <td># Tokyo start new normal way life Tuesday after lift its health alert for the # coronavirus pandemic</td>\n",
       "      <td>Tokyo start new normal way life Tuesday after lift its health alert for the coronavirus pandemic</td>\n",
       "      <td>tokyo start new normal way life tuesday after lift its health alert for the coronavirus pandemic</td>\n",
       "      <td>tokyo start new normal way life tuesday lift health alert coronavirus pandemic</td>\n",
       "      <td>0</td>\n",
       "    </tr>\n",
       "    <tr>\n",
       "      <td>1</td>\n",
       "      <td>1265237759821844486</td>\n",
       "      <td>2020-05-26 11:06:03</td>\n",
       "      <td>RT   Nigerians Reacts To Empty Kano Isolation Centre Despite Huge Figure Of COVID    Cases   #StopCovidLies</td>\n",
       "      <td>-1</td>\n",
       "      <td>Nigerians Reacts Empty Kano Isolation Centre Despite Huge Figure COVID Cases #StopCovidLies</td>\n",
       "      <td>Nigerians Reacts Empty Kano Isolation Centre Despite Huge Figure COVID Cases # StopCovidLies</td>\n",
       "      <td>Nigerians Reacts Empty Kano Isolation Centre Despite Huge Figure COVID Cases StopCovidLies</td>\n",
       "      <td>nigerians reacts empty kano isolation centre despite huge figure covid cases stopcovidlies</td>\n",
       "      <td>nigerians reacts empty kano isolation centre despite huge figure covid cases stopcovidlies</td>\n",
       "      <td>0</td>\n",
       "    </tr>\n",
       "    <tr>\n",
       "      <td>2</td>\n",
       "      <td>1265237761038192641</td>\n",
       "      <td>2020-05-26 11:06:03</td>\n",
       "      <td>RT   Were receiving multiple enquiries from from businesses regarding non contact temperature monitoring as part of lockdown releas</td>\n",
       "      <td>-1</td>\n",
       "      <td>Were receiving multiple enquiries from from businesses regarding non contact temperature monitoring part lockdown releas</td>\n",
       "      <td>Were receive multiple enquiry from from business regard non contact temperature monitor part lockdown releas</td>\n",
       "      <td>Were receive multiple enquiry from from business regard non contact temperature monitor part lockdown releas</td>\n",
       "      <td>were receive multiple enquiry from from business regard non contact temperature monitor part lockdown releas</td>\n",
       "      <td>receive multiple enquiry business regard non contact temperature monitor part lockdown releas</td>\n",
       "      <td>0</td>\n",
       "    </tr>\n",
       "    <tr>\n",
       "      <td>3</td>\n",
       "      <td>1265237762531262466</td>\n",
       "      <td>2020-05-26 11:06:04</td>\n",
       "      <td>RT   Staten Islanders with masks drive out non mask wearing person in grocery store  #Coronavirus</td>\n",
       "      <td>-1</td>\n",
       "      <td>Staten Islanders with masks drive out non mask wearing person grocery store #Coronavirus</td>\n",
       "      <td>Staten Islanders with mask drive out non mask wear person grocery store # Coronavirus</td>\n",
       "      <td>Staten Islanders with mask drive out non mask wear person grocery store Coronavirus</td>\n",
       "      <td>staten islanders with mask drive out non mask wear person grocery store coronavirus</td>\n",
       "      <td>staten islanders mask drive non mask wear person grocery store coronavirus</td>\n",
       "      <td>0</td>\n",
       "    </tr>\n",
       "    <tr>\n",
       "      <td>4</td>\n",
       "      <td>1265237762543763457</td>\n",
       "      <td>2020-05-26 11:06:04</td>\n",
       "      <td>RT   Idk about you  Did we go to all this trouble  to stop the spread of #coronavirus  just to turn around and let these brainwashe</td>\n",
       "      <td>-1</td>\n",
       "      <td>Idk about you Did all this trouble stop the spread #coronavirus just turn around and let these brainwashe</td>\n",
       "      <td>Idk about you Did all this trouble stop the spread # coronavirus just turn around and let these brainwashe</td>\n",
       "      <td>Idk about you Did all this trouble stop the spread coronavirus just turn around and let these brainwashe</td>\n",
       "      <td>idk about you did all this trouble stop the spread coronavirus just turn around and let these brainwashe</td>\n",
       "      <td>idk trouble stop spread coronavirus turn around let brainwashe</td>\n",
       "      <td>0</td>\n",
       "    </tr>\n",
       "  </tbody>\n",
       "</table>\n",
       "</div>"
      ],
      "text/plain": [
       "                id_str          created_at  \\\n",
       "0  1265237759049920513 2020-05-26 11:06:03   \n",
       "1  1265237759821844486 2020-05-26 11:06:03   \n",
       "2  1265237761038192641 2020-05-26 11:06:03   \n",
       "3  1265237762531262466 2020-05-26 11:06:04   \n",
       "4  1265237762543763457 2020-05-26 11:06:04   \n",
       "\n",
       "                                                                                                                                  text  \\\n",
       "0  #Tokyo started a new normal way of life on Tuesday after lifting its health alert for the #coronavirus pandemic                       \n",
       "1  RT   Nigerians Reacts To Empty Kano Isolation Centre Despite Huge Figure Of COVID    Cases   #StopCovidLies                           \n",
       "2  RT   Were receiving multiple enquiries from from businesses regarding non contact temperature monitoring as part of lockdown releas   \n",
       "3  RT   Staten Islanders with masks drive out non mask wearing person in grocery store  #Coronavirus                                     \n",
       "4  RT   Idk about you  Did we go to all this trouble  to stop the spread of #coronavirus  just to turn around and let these brainwashe   \n",
       "\n",
       "   processed  \\\n",
       "0 -1           \n",
       "1 -1           \n",
       "2 -1           \n",
       "3 -1           \n",
       "4 -1           \n",
       "\n",
       "                                                                                                        tweet_more_2_charac  \\\n",
       "0  #Tokyo started new normal way life Tuesday after lifting its health alert for the #coronavirus pandemic                    \n",
       "1  Nigerians Reacts Empty Kano Isolation Centre Despite Huge Figure COVID Cases #StopCovidLies                                \n",
       "2  Were receiving multiple enquiries from from businesses regarding non contact temperature monitoring part lockdown releas   \n",
       "3  Staten Islanders with masks drive out non mask wearing person grocery store #Coronavirus                                   \n",
       "4  Idk about you Did all this trouble stop the spread #coronavirus just turn around and let these brainwashe                  \n",
       "\n",
       "                                                                                                     lemmatized  \\\n",
       "0  # Tokyo start new normal way life Tuesday after lift its health alert for the # coronavirus pandemic           \n",
       "1  Nigerians Reacts Empty Kano Isolation Centre Despite Huge Figure COVID Cases # StopCovidLies                   \n",
       "2  Were receive multiple enquiry from from business regard non contact temperature monitor part lockdown releas   \n",
       "3  Staten Islanders with mask drive out non mask wear person grocery store # Coronavirus                          \n",
       "4  Idk about you Did all this trouble stop the spread # coronavirus just turn around and let these brainwashe     \n",
       "\n",
       "                                                                                              lemmatized_no_ash  \\\n",
       "0  Tokyo start new normal way life Tuesday after lift its health alert for the coronavirus pandemic               \n",
       "1  Nigerians Reacts Empty Kano Isolation Centre Despite Huge Figure COVID Cases StopCovidLies                     \n",
       "2  Were receive multiple enquiry from from business regard non contact temperature monitor part lockdown releas   \n",
       "3  Staten Islanders with mask drive out non mask wear person grocery store Coronavirus                            \n",
       "4  Idk about you Did all this trouble stop the spread coronavirus just turn around and let these brainwashe       \n",
       "\n",
       "                                                                                                      tweet_low  \\\n",
       "0  tokyo start new normal way life tuesday after lift its health alert for the coronavirus pandemic               \n",
       "1  nigerians reacts empty kano isolation centre despite huge figure covid cases stopcovidlies                     \n",
       "2  were receive multiple enquiry from from business regard non contact temperature monitor part lockdown releas   \n",
       "3  staten islanders with mask drive out non mask wear person grocery store coronavirus                            \n",
       "4  idk about you did all this trouble stop the spread coronavirus just turn around and let these brainwashe       \n",
       "\n",
       "                                                                         tweet_without_stopwords  \\\n",
       "0  tokyo start new normal way life tuesday lift health alert coronavirus pandemic                  \n",
       "1  nigerians reacts empty kano isolation centre despite huge figure covid cases stopcovidlies      \n",
       "2  receive multiple enquiry business regard non contact temperature monitor part lockdown releas   \n",
       "3  staten islanders mask drive non mask wear person grocery store coronavirus                      \n",
       "4  idk trouble stop spread coronavirus turn around let brainwashe                                  \n",
       "\n",
       "   predictions  \n",
       "0  0            \n",
       "1  0            \n",
       "2  0            \n",
       "3  0            \n",
       "4  0            "
      ]
     },
     "execution_count": 50,
     "metadata": {},
     "output_type": "execute_result"
    }
   ],
   "source": [
    "df.head(5)"
   ]
  },
  {
   "cell_type": "code",
   "execution_count": 51,
   "metadata": {},
   "outputs": [],
   "source": [
    "# saving the pre-procssed fresh tweets onto the heroku app folder\n",
    "path = '/Users/Matteo/github_mod_5_twitter/heroku_streamlit_2'\n",
    "\n",
    "df.to_csv(os.path.join(path,r'fresh_tweets.csv'))"
   ]
  },
  {
   "cell_type": "markdown",
   "metadata": {},
   "source": [
    "Saving the preprocessed df of fresh Tweets for uploading on Heroku."
   ]
  },
  {
   "cell_type": "markdown",
   "metadata": {},
   "source": [
    "# CNN for Fresh Tweets"
   ]
  },
  {
   "cell_type": "code",
   "execution_count": null,
   "metadata": {},
   "outputs": [],
   "source": []
  },
  {
   "cell_type": "code",
   "execution_count": 62,
   "metadata": {},
   "outputs": [],
   "source": [
    "# cnn = pickle.load( open(\"pickle_cnn\", \"rb\" ) )"
   ]
  },
  {
   "cell_type": "code",
   "execution_count": 63,
   "metadata": {},
   "outputs": [],
   "source": [
    "# df['tokenized'] = df['lemmatized_no_ash'].apply(tokenize_tweet)"
   ]
  },
  {
   "cell_type": "code",
   "execution_count": 64,
   "metadata": {},
   "outputs": [],
   "source": [
    "# df"
   ]
  },
  {
   "cell_type": "code",
   "execution_count": 77,
   "metadata": {},
   "outputs": [],
   "source": [
    "# # Some variables that will be used throughout the modeling process\n",
    "# num_words = 20000 # The max number of words in our vocabulary\n",
    "# epochs = 10  \n",
    "# batch_size = 64  \n",
    "# sequence_len = 200  # Maximum number of words in a sequence\n",
    "# embedding_dimensions = 200  # Number of dimensions of the trainable embedding layer"
   ]
  },
  {
   "cell_type": "code",
   "execution_count": 78,
   "metadata": {},
   "outputs": [],
   "source": [
    "# tk = Tokenizer(num_words=num_words, # The 20000 most important words for our vocabulary\n",
    "#                filters='!\"#$%&()*+,-./:;<=>?@[\\]^_`{\"}~\\t\\n', # Regex that will prune off non alphabetical characters\n",
    "#                lower=True, # Lowercase the text data for consistency\n",
    "#                split=\" \")\n",
    "# tk.fit_on_texts(df['tokenized']) # Fit on our training set\n",
    "# X_train_seq = tk.texts_to_sequences(df['tokenized']) # Indexed sequences based on fitted tokenizer\n"
   ]
  },
  {
   "cell_type": "code",
   "execution_count": 79,
   "metadata": {},
   "outputs": [],
   "source": [
    "# X_train_seq_pad = pad_sequences(X_train_seq, maxlen=23) # Padding the sequences so that they are all the same length\n"
   ]
  },
  {
   "cell_type": "code",
   "execution_count": 80,
   "metadata": {},
   "outputs": [],
   "source": [
    "# predictions = cnn.predict(X_train_seq_pad)[:,0]"
   ]
  },
  {
   "cell_type": "code",
   "execution_count": 81,
   "metadata": {
    "scrolled": true
   },
   "outputs": [],
   "source": [
    "# len(predictions)"
   ]
  },
  {
   "cell_type": "code",
   "execution_count": 82,
   "metadata": {},
   "outputs": [],
   "source": [
    "# predictions"
   ]
  },
  {
   "cell_type": "markdown",
   "metadata": {},
   "source": [
    "# Naive Bayes for Fresh Tweets"
   ]
  },
  {
   "cell_type": "code",
   "execution_count": 83,
   "metadata": {},
   "outputs": [],
   "source": [
    "# cv = pickle.load(open(\"CVBayes\", \"rb\" ))"
   ]
  },
  {
   "cell_type": "code",
   "execution_count": 84,
   "metadata": {},
   "outputs": [],
   "source": [
    "# bayes = pickle.load(open(\"BayesModel\", \"rb\" ))"
   ]
  },
  {
   "cell_type": "code",
   "execution_count": 85,
   "metadata": {},
   "outputs": [],
   "source": [
    "# docs_new = df['lemmatized_no_ash']\n",
    "# x_new_counts = cv.transform(docs_new).toarray()\n",
    "# bayes.predict_proba(x_new_counts)"
   ]
  },
  {
   "cell_type": "code",
   "execution_count": 86,
   "metadata": {},
   "outputs": [],
   "source": [
    "# x_new_counts.shape"
   ]
  },
  {
   "cell_type": "markdown",
   "metadata": {},
   "source": [
    "# WordCount and Negative Tweets Highlight"
   ]
  },
  {
   "cell_type": "code",
   "execution_count": 66,
   "metadata": {},
   "outputs": [],
   "source": [
    "# # Clean and transform data to enable time series\n",
    "# result = df.groupby(                                        \\\n",
    "#       [pd.Grouper(key='created_at', freq='2s'), 'predictions'] \\\n",
    "#     ).count().unstack().stack().reset_index()\n",
    "\n",
    "# result = result.rename(columns=    { \"id_str\": \"Num of 'Coronavirus' mentions\",  \\\n",
    "#       \"created_at\": \"Time\" })"
   ]
  },
  {
   "cell_type": "code",
   "execution_count": 67,
   "metadata": {},
   "outputs": [
    {
     "data": {
      "text/html": [
       "<div>\n",
       "<style scoped>\n",
       "    .dataframe tbody tr th:only-of-type {\n",
       "        vertical-align: middle;\n",
       "    }\n",
       "\n",
       "    .dataframe tbody tr th {\n",
       "        vertical-align: top;\n",
       "    }\n",
       "\n",
       "    .dataframe thead th {\n",
       "        text-align: right;\n",
       "    }\n",
       "</style>\n",
       "<table border=\"1\" class=\"dataframe\">\n",
       "  <thead>\n",
       "    <tr style=\"text-align: right;\">\n",
       "      <th></th>\n",
       "      <th>Time</th>\n",
       "      <th>predictions</th>\n",
       "      <th>Num of 'Coronavirus' mentions</th>\n",
       "      <th>text</th>\n",
       "      <th>processed</th>\n",
       "      <th>tweet_more_2_charac</th>\n",
       "      <th>lemmatized</th>\n",
       "      <th>lemmatized_no_ash</th>\n",
       "      <th>tweet_low</th>\n",
       "      <th>tweet_without_stopwords</th>\n",
       "    </tr>\n",
       "  </thead>\n",
       "  <tbody>\n",
       "    <tr>\n",
       "      <td>0</td>\n",
       "      <td>2020-05-24 17:38:30</td>\n",
       "      <td>0</td>\n",
       "      <td>4.0</td>\n",
       "      <td>4.0</td>\n",
       "      <td>4.0</td>\n",
       "      <td>4.0</td>\n",
       "      <td>4.0</td>\n",
       "      <td>4.0</td>\n",
       "      <td>4.0</td>\n",
       "      <td>4.0</td>\n",
       "    </tr>\n",
       "    <tr>\n",
       "      <td>1</td>\n",
       "      <td>2020-05-24 17:38:32</td>\n",
       "      <td>0</td>\n",
       "      <td>5.0</td>\n",
       "      <td>5.0</td>\n",
       "      <td>5.0</td>\n",
       "      <td>5.0</td>\n",
       "      <td>5.0</td>\n",
       "      <td>5.0</td>\n",
       "      <td>5.0</td>\n",
       "      <td>5.0</td>\n",
       "    </tr>\n",
       "    <tr>\n",
       "      <td>2</td>\n",
       "      <td>2020-05-24 17:38:34</td>\n",
       "      <td>0</td>\n",
       "      <td>4.0</td>\n",
       "      <td>4.0</td>\n",
       "      <td>4.0</td>\n",
       "      <td>4.0</td>\n",
       "      <td>4.0</td>\n",
       "      <td>4.0</td>\n",
       "      <td>4.0</td>\n",
       "      <td>4.0</td>\n",
       "    </tr>\n",
       "    <tr>\n",
       "      <td>3</td>\n",
       "      <td>2020-05-24 17:38:36</td>\n",
       "      <td>0</td>\n",
       "      <td>4.0</td>\n",
       "      <td>4.0</td>\n",
       "      <td>4.0</td>\n",
       "      <td>4.0</td>\n",
       "      <td>4.0</td>\n",
       "      <td>4.0</td>\n",
       "      <td>4.0</td>\n",
       "      <td>4.0</td>\n",
       "    </tr>\n",
       "    <tr>\n",
       "      <td>4</td>\n",
       "      <td>2020-05-24 17:38:38</td>\n",
       "      <td>0</td>\n",
       "      <td>5.0</td>\n",
       "      <td>5.0</td>\n",
       "      <td>5.0</td>\n",
       "      <td>5.0</td>\n",
       "      <td>5.0</td>\n",
       "      <td>5.0</td>\n",
       "      <td>5.0</td>\n",
       "      <td>5.0</td>\n",
       "    </tr>\n",
       "  </tbody>\n",
       "</table>\n",
       "</div>"
      ],
      "text/plain": [
       "                 Time  predictions  Num of 'Coronavirus' mentions  text  \\\n",
       "0 2020-05-24 17:38:30  0            4.0                            4.0    \n",
       "1 2020-05-24 17:38:32  0            5.0                            5.0    \n",
       "2 2020-05-24 17:38:34  0            4.0                            4.0    \n",
       "3 2020-05-24 17:38:36  0            4.0                            4.0    \n",
       "4 2020-05-24 17:38:38  0            5.0                            5.0    \n",
       "\n",
       "   processed  tweet_more_2_charac  lemmatized  lemmatized_no_ash  tweet_low  \\\n",
       "0  4.0        4.0                  4.0         4.0                4.0         \n",
       "1  5.0        5.0                  5.0         5.0                5.0         \n",
       "2  4.0        4.0                  4.0         4.0                4.0         \n",
       "3  4.0        4.0                  4.0         4.0                4.0         \n",
       "4  5.0        5.0                  5.0         5.0                5.0         \n",
       "\n",
       "   tweet_without_stopwords  \n",
       "0  4.0                      \n",
       "1  5.0                      \n",
       "2  4.0                      \n",
       "3  4.0                      \n",
       "4  5.0                      "
      ]
     },
     "execution_count": 67,
     "metadata": {},
     "output_type": "execute_result"
    }
   ],
   "source": [
    "# result.head(5)\n"
   ]
  },
  {
   "cell_type": "code",
   "execution_count": 68,
   "metadata": {},
   "outputs": [],
   "source": [
    "# df['tokenized'] = df['tweet_without_stopwords'].apply(tokenize_tweet)"
   ]
  },
  {
   "cell_type": "code",
   "execution_count": 69,
   "metadata": {},
   "outputs": [
    {
     "name": "stderr",
     "output_type": "stream",
     "text": [
      "adding document #0 to Dictionary(0 unique tokens: [])\n",
      "built Dictionary(982 unique tokens: ['cleaning', 'close', 'coronavirus', 'employee', 'expose']...) from 211 documents (total 2239 corpus positions)\n"
     ]
    }
   ],
   "source": [
    "# counts = get_tokens_frequency_df(df['tokenized'])\n",
    "# counts = counts.sort_values(by='token_count', ascending = False)\n",
    "# counts = counts[:10]\n"
   ]
  },
  {
   "cell_type": "code",
   "execution_count": 70,
   "metadata": {
    "scrolled": false
   },
   "outputs": [
    {
     "name": "stderr",
     "output_type": "stream",
     "text": [
      "NumExpr defaulting to 4 threads.\n"
     ]
    },
    {
     "data": {
      "image/png": "[encoded data removed]",
      "text/plain": [
       "<Figure size 1440x1440 with 3 Axes>"
      ]
     },
     "metadata": {
      "needs_background": "light"
     },
     "output_type": "display_data"
    }
   ],
   "source": [
    "# fig, axes = plt.subplots(2,2, figsize = (20,20))\n",
    "\n",
    "\n",
    "# ax1 = plt.subplot(221)\n",
    "# plt.title('Number of positive/neutral/negative over time', fontsize = 15)\n",
    "\n",
    "# ax1 = plt.plot(result['Time'], (result[\"Num of 'Coronavirus' mentions\"]))\n",
    "# # ax1 = plt.plot(result['created_at'], (result['predictions']==1))\n",
    "\n",
    "# ax2 = plt.subplot(122)\n",
    "# plt.title('Most common words in the topic', fontsize = 15)\n",
    "# plt.xticks(fontsize= 20)\n",
    "# plt.yticks(fontsize = 15)\n",
    "# ax2 = plt.barh(counts['token'], counts['token_count'])\n",
    "\n",
    "# ax3 = plt.subplot(223)\n",
    "# plt.title('Ration of negative and neutral words', fontsize = 15)\n",
    "# plt.xlabel('1 Negative / 0 Positive', fontsize = 15)\n",
    "# plt.ylabel('Tweet Count', fontsize = 15)\n",
    "# predictions = df['predictions'].value_counts()\n",
    "# sns.barplot(predictions.index, predictions.values)\n",
    "\n",
    "# plt.show()\n"
   ]
  },
  {
   "cell_type": "code",
   "execution_count": 71,
   "metadata": {},
   "outputs": [],
   "source": [
    "# df_negative = df.loc[df['predictions']==1]\n"
   ]
  },
  {
   "cell_type": "code",
   "execution_count": 72,
   "metadata": {},
   "outputs": [
    {
     "data": {
      "text/plain": [
       "<streamlit.DeltaGenerator.DeltaGenerator at 0x122e4cfd0>"
      ]
     },
     "execution_count": 72,
     "metadata": {},
     "output_type": "execute_result"
    }
   ],
   "source": [
    "\n",
    "\n",
    "# st.markdown(\"### 🎲 The Application\")\n",
    "\n",
    "# st.markdown(\"* This gives a general overview of the data including\"\n",
    "#             \"frequency of games over time, most games played in a day, and longest break\"\n",
    "#             \"between games.\")"
   ]
  },
  {
   "cell_type": "code",
   "execution_count": 73,
   "metadata": {},
   "outputs": [
    {
     "name": "stdout",
     "output_type": "stream",
     "text": [
      "Last update = 2020-05-24 18:42:02.800563\n"
     ]
    }
   ],
   "source": [
    "\n",
    "# print(\"Last update =\", datetime.now())"
   ]
  },
  {
   "cell_type": "code",
   "execution_count": 74,
   "metadata": {},
   "outputs": [
    {
     "data": {
      "text/plain": [
       "<streamlit.DeltaGenerator.DeltaGenerator at 0x122e4cfd0>"
      ]
     },
     "execution_count": 74,
     "metadata": {},
     "output_type": "execute_result"
    }
   ],
   "source": [
    "# st.markdown(\"This application is a Streamlit dashboard hosted on Heroku that can be used\"\n",
    "#             \"to explore the results from board game matches that I tracked over the last year.\")"
   ]
  },
  {
   "cell_type": "code",
   "execution_count": 75,
   "metadata": {},
   "outputs": [
    {
     "data": {
      "text/plain": [
       "<streamlit.DeltaGenerator.DeltaGenerator at 0x122e4cfd0>"
      ]
     },
     "execution_count": 75,
     "metadata": {},
     "output_type": "execute_result"
    }
   ],
   "source": [
    "# st.markdown(\"** Overview **\")"
   ]
  },
  {
   "cell_type": "code",
   "execution_count": 76,
   "metadata": {},
   "outputs": [
    {
     "data": {
      "text/plain": [
       "<streamlit.DeltaGenerator.DeltaGenerator at 0x122e4cfd0>"
      ]
     },
     "execution_count": 76,
     "metadata": {},
     "output_type": "execute_result"
    }
   ],
   "source": [
    "# st.pyplot(fig)"
   ]
  },
  {
   "cell_type": "code",
   "execution_count": 77,
   "metadata": {},
   "outputs": [
    {
     "data": {
      "text/plain": [
       "<streamlit.DeltaGenerator.DeltaGenerator at 0x122e4cfd0>"
      ]
     },
     "execution_count": 77,
     "metadata": {},
     "output_type": "execute_result"
    }
   ],
   "source": [
    "# st.markdown(\"* Also below there's a list of the Tweets that are 90%+ likley to be offensive.\")"
   ]
  },
  {
   "cell_type": "code",
   "execution_count": 78,
   "metadata": {},
   "outputs": [],
   "source": [
    "# st.write(df_negative['text'])"
   ]
  },
  {
   "cell_type": "code",
   "execution_count": null,
   "metadata": {},
   "outputs": [],
   "source": []
  },
  {
   "cell_type": "code",
   "execution_count": null,
   "metadata": {},
   "outputs": [],
   "source": []
  }
 ],
 "metadata": {
  "kernelspec": {
   "display_name": "Python 3",
   "language": "python",
   "name": "python3"
  },
  "language_info": {
   "codemirror_mode": {
    "name": "ipython",
    "version": 3
   },
   "file_extension": ".py",
   "mimetype": "text/x-python",
   "name": "python",
   "nbconvert_exporter": "python",
   "pygments_lexer": "ipython3",
   "version": "3.7.4"
  }
 },
 "nbformat": 4,
 "nbformat_minor": 2
}
